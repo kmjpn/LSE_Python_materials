{
 "cells": [
  {
   "cell_type": "markdown",
   "metadata": {},
   "source": [
    "<div class=\"alert alert-block alert-info\" style=\"background-color: #323031; color:#ffffff; padding:50px; -webkit-border-radius:5px; width:90%\">\n",
    "\n",
    "\n",
    "## Pre-Sessional Python Workshops\n",
    "\n",
    "The Python pre-sessional workshops will teach you the fundamental data types and programming techniques that are necessary to succeed on any real-world coding project/challenge. The knowledge and skills that you develop in this series will form the foundation for any data analysis, visualisation or software development project in Python.\n",
    "\n",
    "For more information about the Python pre-sessional workshops and instructions on how to install Python on your personal laptop, have a look at the [Python Pre-sessional website](https://dsl-python-presessional.streamlit.app/)\n",
    "\n",
    "\n",
    "### Why learn Python?\n",
    "\n",
    "Python's popularity has seen a remarkable rise since its inception in the late 1990's and has established itself as one of the most widely used languages in the last 10 years. It is currently ranked as one of the top 2 programming languages by the most common programming language rankings. It is now widely used not only for Data Science, where it is leading the field together with R, but also to develop software in a more general sense. If you would like to learn more about how Python can be applied for Data Science and why it has evolved to one of the most popular programming languages overall, have a look at [this section](https://dsl-python-presessional.streamlit.app/Why_Learn_Python) of the Python \n",
    "\n",
    "\n",
    "#### Program WORDLE in Python\n",
    "\n",
    "In the final step of the Python Fundamental series, you will apply your Python skills to create WORDLE in Python. To develop Wordle in Python, you will have to combine most of the techniques that you have learned in the notebooks in a creative way.\n",
    "    \n",
    "See the video below on what the final game could look like.\n",
    "    \n",
    "<img src=\"https://www.dropbox.com/s/w8bms25985573m2/wordle.gif?raw=1\" height=\"250px\">\n",
    "\n",
    "<br>\n",
    "\n",
    "<br>\n",
    "\n",
    "\n",
    "### Earn your Python certificate\n",
    "\n",
    "The Python Fundamentals series consists of 10 different jupyter notebooks that each teach a different topic. After having completed the series you can claim an online certificate to provide evidence of your Python skills on e.g. LinkdedIN. Please email digital.skills.lab@lse.ac.uk to claim your certificate. \n",
    "\n",
    "There are two types of certificates you can claim. Learners that have completed all Python notebooks apart from the coding challenges notebook, can claim the Python Fundamentals Attendance Badge, which provides evidence of you having completed all exercises apart from the coding challenge. Learners that have completed *at least one* of the coding challenges, can claim the Python Fundamentals Knowledge Badge. This badge provides evidence of having successfully applied the fundamental Python skills to a more complex coding project. This is to highlight that in order to solve the final coding challenges a deeper understanding of the acquired coding techniques and advanced proficiency in their practical application are required.\n",
    "\n",
    "<img src=\"https://www.dropbox.com/scl/fi/w58f9uh27j7zqxcfzq68y/progress_pf11.png?rlkey=v3016s5bmskhob02s7pp3vez9&raw=1\" height=\"250px\">\n",
    "\n",
    "\n",
    "### Continue to learn Python\n",
    "\n",
    "Once you finished the Python Fundamentals series, you can progress to the Python Data Wrangling and Python Visualisation series to continue to learn with the support of our Python experts on campus or learn with the online learning platform <a href=\"https://dataquest.io\">Dataquest</a>. \n",
    "\n",
    "\n"
   ]
  },
  {
   "cell_type": "markdown",
   "metadata": {},
   "source": [
    "<div class=\"alert alert-block alert-info\" style=\"background-color: #f2f2f2; color:#3F3F3F; padding:50px; -webkit-border-radius:5px; width:90%\">\n",
    "\n",
    "## Python Fundamentals 11 - While Loops\n",
    "\n",
    "Simiar to for loops, while loops enable you to repeat a chunk of code. The key difference is that the while loop keeps repeating code as long as a certain condition is True. Common applications of while loops are scripts that require the processing of user input or running  simulations that should terminate when approaching a solution closely enough to the desired output/threshold.\n",
    "\n",
    "\n",
    "**After this workshop, you will be able to**:\n",
    "* to define a while loop\n",
    "* identify and terminate an infinite while loop\n",
    "* terminate an infinite while loop using the break keyword\n",
    "* apply while loops to solve simple problems\n",
    "\n",
    "<b>What to do when getting stuck</b>:\n",
    "    <ol>\n",
    "        <li>Ask <b>fellow students</b> for help, useful resources and to bounce off ideas</li>\n",
    "        <li>Ask the <b>trainer</b> if you struggle to find a solution.</li>\n",
    "        <li><b>Search online:</b></li>\n",
    "        <ol>\n",
    "            <li>The answer box on the top of Google's results page</li>\n",
    "            <li><a href=\"https://www.stackoverflow.com\">stackoverflow.com</a> (task-specific solutions)</li>\n",
    "            <li><a href=\"https://www.w3schools.com\">w3schools.com</a> (basic python questions)</li>\n",
    "            <li><a href=\"https://www.realpython.com\">realpython.com</a> (topic-based tutorials)</li>\n",
    "        </ol>\n",
    "    </ol>\n",
    "\n",
    "<br>\n",
    "<br>\n",
    "<div style=\"background-color:#DC143C; border-radius:10px; padding:10px; color:white\">\n",
    "<h5>Guidance on ChatGPT Usage: From R to Python</h5>\n",
    "<p>For total programming beginners, we firmly discourage the use of ChatGPT to learn fundamental coding concepts. However, if you're transitioning from R to Python, while ChatGPT can be a valuable resource, be wary of becoming overly reliant on it. Writing code in Python often demands a deeper understanding of loops and crafting custom functions, compared to R's more straightforward syntax. Relying too much on automated help can hinder your ability to grasp and master these nuances. Ensure you balance assistance with genuine self-effort for optimal learning.</p>\n",
    "</div>\n",
    "\n"
   ]
  },
  {
   "cell_type": "markdown",
   "metadata": {},
   "source": [
    "<img src=\"https://www.dropbox.com/s/z6h89o7bcewac81/while_loops1.jpg?raw=1\" width=80%>"
   ]
  },
  {
   "cell_type": "markdown",
   "metadata": {},
   "source": [
    "<br>\n",
    "\n",
    "<br>\n",
    "\n",
    "\n",
    "### Task 1 - Defining a while loop\n",
    "\n",
    "1. Have a look at the two code cells and write a comment in the second code cell with the if-statement to explain what it does.\n",
    "2. Run the first code cell and then repeatedly run the second code cell until it stops printing `x`.\n",
    "3. Now run the third code cell that uses a while loop. What is different between the if-statement and the while loop in terms of the written code? How does the while loop differ from the if-statement in terms of its behaviour?"
   ]
  },
  {
   "cell_type": "code",
   "execution_count": 4,
   "metadata": {},
   "outputs": [],
   "source": [
    "x = 10"
   ]
  },
  {
   "cell_type": "code",
   "execution_count": 17,
   "metadata": {},
   "outputs": [],
   "source": [
    "if x > 0:\n",
    "    x -= 1\n",
    "    print(x)"
   ]
  },
  {
   "cell_type": "code",
   "execution_count": 2,
   "metadata": {},
   "outputs": [],
   "source": [
    "x = 10\n",
    "\n",
    "while x > 0:\n",
    "    x -= 1\n",
    "    print(x)"
   ]
  },
  {
   "cell_type": "markdown",
   "metadata": {},
   "source": [
    "<br>\n",
    "\n",
    "### Task 2 - While loops warm up\n",
    "\n",
    "1. How many times will the following while loop print `\"adding 10 to x\"`? Run it to check your prediction."
   ]
  },
  {
   "cell_type": "code",
   "execution_count": 3,
   "metadata": {},
   "outputs": [],
   "source": [
    "x = 0\n",
    "print(x)\n",
    "\n",
    "while x <= 20:\n",
    "    print(\"adding 10 to x\")\n",
    "    x += 10\n",
    "\n",
    "print(x)"
   ]
  },
  {
   "cell_type": "markdown",
   "metadata": {},
   "source": [
    "2. Copy the code and change the initial value of `x` to 100. Update the while loop to keep adding 100 to `x`, as long as `x` is less than 1000. Also change the print statement to reflect what the while loop does."
   ]
  },
  {
   "cell_type": "code",
   "execution_count": 1,
   "metadata": {},
   "outputs": [
    {
     "name": "stdout",
     "output_type": "stream",
     "text": [
      "100\n",
      "adding 10 to x\n",
      "adding 10 to x\n",
      "adding 10 to x\n",
      "adding 10 to x\n",
      "adding 10 to x\n",
      "adding 10 to x\n",
      "adding 10 to x\n",
      "adding 10 to x\n",
      "adding 10 to x\n",
      "1000\n"
     ]
    }
   ],
   "source": [
    "x = 100\n",
    "print(x)\n",
    "\n",
    "while x < 1000:\n",
    "    print(\"adding 100 to x\")\n",
    "    x += 100\n",
    "\n",
    "print(x)"
   ]
  },
  {
   "cell_type": "markdown",
   "metadata": {},
   "source": [
    "<br>\n",
    "\n",
    "### Task 2 - More while loop arithmetic\n",
    "\n",
    "The exercises so far, are not a good examples of how you would apply a while loop in practice. Basic arithmetic shouldn't be solved with a while loop in programming. It is a good practice to get more familiar with while loops though. Let us practice with one more math example. \n",
    "\n",
    "1. You have a bank balance of 100 and want to know how many pizza prosciutto you can buy at your favourite Pizzeria. A large prosciutto costs £12.99. Calculate how many prosciuttos you can buy and what you bank balance is afterwards.\n",
    "2. Calculate how many prosciuttos you can buy using simple arithmetic in Python.\n",
    "\n"
   ]
  },
  {
   "cell_type": "code",
   "execution_count": 3,
   "metadata": {},
   "outputs": [
    {
     "data": {
      "text/plain": [
       "7.0"
      ]
     },
     "execution_count": 3,
     "metadata": {},
     "output_type": "execute_result"
    }
   ],
   "source": [
    "bank_balance = 100\n",
    "pizza_cost = 12.99\n",
    "no_pizzas = 0\n",
    "\n",
    "# write your while loop here\n",
    "while bank_balance > pizza_cost:\n",
    "    no_pizzas += 1\n",
    "    bank_balance -= pizza_cost\n",
    "\n",
    "\n",
    "# same calculation using basic arithmetic in Python\n",
    "bank_balance = 100\n",
    "no_pizzas = bank_balance // pizza_cost\n",
    "no_pizzas\n",
    "\n"
   ]
  },
  {
   "cell_type": "markdown",
   "metadata": {},
   "source": [
    "<br>\n",
    "\n",
    "<br>\n",
    "\n",
    "### Task 3 - Dealing with inifite loops\n",
    "\n",
    "1. The following while loop will run indefinitely. Why?\n",
    "2. Find out what to do when a while loop runs indefinitely.\n",
    "3. Run the while loop and stop it."
   ]
  },
  {
   "cell_type": "code",
   "execution_count": 1,
   "metadata": {},
   "outputs": [],
   "source": [
    "x = 0\n",
    "\n",
    "while x <= 0:\n",
    "    x -= 1\n",
    "    print(x)\n",
    "    "
   ]
  },
  {
   "cell_type": "markdown",
   "metadata": {},
   "source": [
    "<br>\n",
    "\n",
    "<br>\n",
    "\n",
    "\n",
    "### Task 4 - Random letters\n",
    "\n",
    "\n",
    "1. Read through the code cell below and try to understand what it is doing. Here are a couple of questions that can help you:\n",
    "    - What are the variables that are created before the while loop?\n",
    "    - What is being printed before the while loop?\n",
    "    - Inside the while loop, what is the range of values that the i variable can take on?\n",
    "    - How is the i variable used?\n",
    "    - How does random_letters change on every iteration of the while loop?\n",
    "    - How would you describe the condition the while loop uses and when will the while loop terminate?\n",
    "    - What is being printed after the while loop?\n",
    "2. There are several ways to make the while loop run indefinitely. Can you think of at least two?\n",
    "\n",
    "<br>"
   ]
  },
  {
   "cell_type": "code",
   "execution_count": 4,
   "metadata": {},
   "outputs": [
    {
     "name": "stdout",
     "output_type": "stream",
     "text": [
      "0\n",
      "11\n"
     ]
    }
   ],
   "source": [
    "import random\n",
    "\n",
    "random_letters = \"\" \n",
    "letters = \"abcdefghijklmnopqrstuvwxyz\"\n",
    "\n",
    "print(len(random_letters))\n",
    "\n",
    "while \"z\" not in random_letters:\n",
    "    i = random.randint(0, len(letters)-1)\n",
    "    random_letters += letters[i]\n",
    "    \n",
    "print(len(random_letters))"
   ]
  },
  {
   "cell_type": "markdown",
   "metadata": {},
   "source": [
    "<br>\n",
    "\n",
    "<br>\n",
    "\n",
    "### Task 5 - Terminating a while loop with the break statement\n",
    "\n",
    "It sometimes makes sense to terminate the while loop using a set of if-statements instead of with the while statement. A set of conditions can be better handled with separate if statements than a longer while statement. This adds a clearer structure to the code and makes it easier to read.\n",
    "\n",
    "Let us start by thinking about a better way of creating infinite while loops in general.\n",
    "\n",
    "1. Replace the while statement so that the while loop will always continue to run irrespective of which variable is used or what its value is? Here is a hint: What does `i >= 1` always evaluate to in this case? A simple way to generate an infinite while loop is using the while statement `while True`.\n",
    "2. Make the while loop terminate if i is 100 or larger without adjusting the while statement."
   ]
  },
  {
   "cell_type": "code",
   "execution_count": 5,
   "metadata": {
    "scrolled": true
   },
   "outputs": [
    {
     "name": "stdout",
     "output_type": "stream",
     "text": [
      "2\n",
      "3\n",
      "4\n",
      "5\n",
      "6\n",
      "7\n",
      "8\n",
      "9\n",
      "10\n",
      "11\n",
      "12\n",
      "13\n",
      "14\n",
      "15\n",
      "16\n",
      "17\n",
      "18\n",
      "19\n",
      "20\n",
      "21\n",
      "22\n",
      "23\n",
      "24\n",
      "25\n",
      "26\n",
      "27\n",
      "28\n",
      "29\n",
      "30\n",
      "31\n",
      "32\n",
      "33\n",
      "34\n",
      "35\n",
      "36\n",
      "37\n",
      "38\n",
      "39\n",
      "40\n",
      "41\n",
      "42\n",
      "43\n",
      "44\n",
      "45\n",
      "46\n",
      "47\n",
      "48\n",
      "49\n",
      "50\n",
      "51\n",
      "52\n",
      "53\n",
      "54\n",
      "55\n",
      "56\n",
      "57\n",
      "58\n",
      "59\n",
      "60\n",
      "61\n",
      "62\n",
      "63\n",
      "64\n",
      "65\n",
      "66\n",
      "67\n",
      "68\n",
      "69\n",
      "70\n",
      "71\n",
      "72\n",
      "73\n",
      "74\n",
      "75\n",
      "76\n",
      "77\n",
      "78\n",
      "79\n",
      "80\n",
      "81\n",
      "82\n",
      "83\n",
      "84\n",
      "85\n",
      "86\n",
      "87\n",
      "88\n",
      "89\n",
      "90\n",
      "91\n",
      "92\n",
      "93\n",
      "94\n",
      "95\n",
      "96\n",
      "97\n",
      "98\n",
      "99\n",
      "100\n"
     ]
    }
   ],
   "source": [
    "i = 1\n",
    "\n",
    "while True:\n",
    "    i += 1\n",
    "    print(i)\n",
    "    if i >=100:\n",
    "        break"
   ]
  },
  {
   "cell_type": "markdown",
   "metadata": {},
   "source": [
    "<br>\n",
    "\n",
    "<br>\n",
    "\n",
    "### Task 6 - Breaking the loop\n",
    "\n",
    "Adjust the code from the previous exercise to use an infinite while loop that stops once the `random_letters` string contains the letter z. That is, use a break statement to terminate the while loop instead of the while statement."
   ]
  },
  {
   "cell_type": "code",
   "execution_count": 6,
   "metadata": {},
   "outputs": [
    {
     "name": "stdout",
     "output_type": "stream",
     "text": [
      "0\n",
      "7\n"
     ]
    }
   ],
   "source": [
    "import random\n",
    "\n",
    "random_letters = \"\"\n",
    "letters = \"abcdefghijklmnopqrstuvwxyz\"\n",
    "\n",
    "print(len(random_letters))\n",
    "\n",
    "while \"z\" not in random_letters:\n",
    "    i = random.randint(0, len(letters)-1)\n",
    "    random_letters += letters[i]\n",
    "    if  \"z\" in random_letters:\n",
    "        break\n",
    "    \n",
    "print(len(random_letters))"
   ]
  },
  {
   "cell_type": "markdown",
   "metadata": {},
   "source": [
    "<br>\n",
    "\n",
    "### Task 7 - Guess the secret number\n",
    "\n",
    "Below you can see my attempt for a secret number game where the player has to guess the random number. \n",
    "\n",
    "1. Run the code cell and find out what the code is doing wrong.\n",
    "2. Turn this while loop into an infinite while loop.\n",
    "3. Add two break statements for when the player guessed correctly and when the player has run out of guesses.\n",
    "4. Can you give two reasons how using break statements instead of while statements can improve your code in general?"
   ]
  },
  {
   "cell_type": "code",
   "execution_count": 9,
   "metadata": {},
   "outputs": [
    {
     "name": "stdout",
     "output_type": "stream",
     "text": [
      "Guess the secret number between 1 and 10: 5\n",
      "Guess the secret number between 1 and 10: 9\n",
      "Guess the secret number between 1 and 10: 1\n",
      "Guess the secret number between 1 and 10: 2\n",
      "Guess the secret number between 1 and 10: 3\n",
      "Sorry, you ran out of guesses. The secret number was 7.\n"
     ]
    }
   ],
   "source": [
    "import random\n",
    "\n",
    "max_guesses = 5\n",
    "n_guesses = 0\n",
    "secret_number = random.randint(1, 10)\n",
    "\n",
    "while n_guesses < max_guesses:\n",
    "    guess = input(\"Guess the secret number between 1 and 10: \")\n",
    "    \n",
    "    # 無効な入力があるかどうかを確認\n",
    "    if not guess.isdigit():\n",
    "        print(\"Please enter a valid number.\")\n",
    "        continue\n",
    "    \n",
    "    guess = int(guess)\n",
    "    n_guesses += 1\n",
    "    \n",
    "    if guess == secret_number:\n",
    "        print(\"Correct! You guessed the secret number!\")\n",
    "        break\n",
    "    elif n_guesses == max_guesses:\n",
    "        print(f\"Sorry, you ran out of guesses. The secret number was {secret_number}.\")\n",
    "        break\n",
    "\n",
    "\n",
    "    \n"
   ]
  },
  {
   "cell_type": "markdown",
   "metadata": {},
   "source": [
    "<br>\n",
    "\n",
    "<br>\n",
    "\n",
    "### Task 8 - ATM machine\n",
    "\n",
    "In this final exericse, you can now put your knowledge of while loops to the test by writing code to simulate an ATM machine.\n",
    "\n",
    "Your code should assume a balance of 1000 and ask the customer the amount they want to withdraw in multiples of 10. If the amount that was entered is a multiple of 10, reduce the balance by that amount, print the remaining balance and ask them if they want to make any further deductions. The loop should be escaped if the customer does not want to withdraw more money.\n",
    "\n",
    "You should also check if the amount they want to withdraw is larger than their balance and print a message about it."
   ]
  },
  {
   "cell_type": "code",
   "execution_count": null,
   "metadata": {},
   "outputs": [],
   "source": [
    "balance = 1000\n",
    "\n",
    "while True:\n",
    "    # Ask the customer the amount they want to withdraw\n",
    "    withdrawal_amount = int(input(\"Enter the amount you want to withdraw (in multiples of 10): \"))\n",
    "    \n",
    "    # Check if the amount is a multiple of 10\n",
    "    if withdrawal_amount % 10 == 0:\n",
    "        # Check if the withdrawal amount is within the balance\n",
    "        if withdrawal_amount <= balance:\n",
    "            # Deduct the withdrawal amount from the balance\n",
    "            balance -= withdrawal_amount\n",
    "            \n",
    "            # Print the remaining balance\n",
    "            print(f\"Remaining balance: {balance}\")\n",
    "            \n",
    "            # Ask if they want to make any further deductions\n",
    "            another_withdrawal = input(\"Do you want to make another withdrawal? (yes/no): \").lower()\n",
    "            \n",
    "            # Check if the customer wants to make another deduction\n",
    "            if another_withdrawal != 'yes':\n",
    "                print(\"Thank you for using the ATM. Goodbye!\")\n",
    "                break\n",
    "        else:\n",
    "            print(\"Insufficient balance. Please enter a smaller amount.\")\n",
    "    else:\n",
    "        print(\"Please enter an amount in multiples of 10.\")\n",
    "\n"
   ]
  },
  {
   "cell_type": "code",
   "execution_count": null,
   "metadata": {},
   "outputs": [],
   "source": []
  },
  {
   "cell_type": "code",
   "execution_count": null,
   "metadata": {},
   "outputs": [],
   "source": []
  },
  {
   "cell_type": "markdown",
   "metadata": {},
   "source": [
    "<br>\n",
    "\n",
    "<br>\n",
    "\n",
    "<br>"
   ]
  },
  {
   "cell_type": "markdown",
   "metadata": {},
   "source": [
    "<div class=\"alert alert-block alert-info\" style=\"background-color:#ECECEB; color:#3F3F3F; width:90%; padding:50px; -webkit-border-radius:5px\">\n",
    "\n",
    "## Final task: Please give us your feedback!\n",
    "\n",
    "Upon completing the survey, **you will receive the link to the solution file**, to check how your code compares to the sample solution.\n",
    "\n",
    "In order to adapt our training to your needs and provide the most valuable learning experience for you, we depend on your feedack.\n",
    "\n",
    "We would be grateful if you could take **1 min** before the end of the workshop to get your feedback! \n",
    "\n",
    "<a href=\"https://lse.eu.qualtrics.com/jfe/form/SV_2beTiFd70AlRe5M?coursename=Python Fundamentals 11: While Loops &topic=Python&link=https://lsecloud-my.sharepoint.com/:u:/g/personal/m_wiemers_lse_ac_uk/Ecnm4DN5rRZIvFuFfZlGY8sBMfdVibQo8ZtxoAytMYgORg?e=sb1IOn&prog=DS&version=23-24\"><b>Click here to open the survey</b></a>\n"
   ]
  }
 ],
 "metadata": {
  "kernelspec": {
   "display_name": "Python 3 (ipykernel)",
   "language": "python",
   "name": "python3"
  },
  "language_info": {
   "codemirror_mode": {
    "name": "ipython",
    "version": 3
   },
   "file_extension": ".py",
   "mimetype": "text/x-python",
   "name": "python",
   "nbconvert_exporter": "python",
   "pygments_lexer": "ipython3",
   "version": "3.11.4"
  }
 },
 "nbformat": 4,
 "nbformat_minor": 4
}
