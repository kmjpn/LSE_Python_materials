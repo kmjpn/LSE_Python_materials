{
 "cells": [
  {
   "cell_type": "markdown",
   "metadata": {},
   "source": [
    "<div class=\"alert alert-block alert-info\" style=\"background-color: #323031; color:#ffffff; padding:50px; -webkit-border-radius:5px; width:90%\">\n",
    "\n",
    "\n",
    "## Pre-Sessional Python Workshops\n",
    "\n",
    "The Python pre-sessional workshops will teach you the fundamental data types and programming techniques that are necessary to succeed on any real-world coding project/challenge. The knowledge and skills that you develop in this series will form the foundation for any data analysis, visualisation or software development project in Python.\n",
    "\n",
    "For more information about the Python pre-sessional workshops and instructions on how to install Python on your personal laptop, have a look at the [Python Pre-sessional website](https://dsl-python-presessional.streamlit.app/)\n",
    "\n",
    "\n",
    "### Why learn Python?\n",
    "\n",
    "Python's popularity has seen a remarkable rise since its inception in the late 1990's and has established itself as one of the most widely used languages in the last 10 years. It is currently ranked as one of the top 2 programming languages by the most common programming language rankings. It is now widely used not only for Data Science, where it is leading the field together with R, but also to develop software in a more general sense. If you would like to learn more about how Python can be applied for Data Science and why it has evolved to one of the most popular programming languages overall, have a look at [this section](https://dsl-python-presessional.streamlit.app/Why_Learn_Python) of the Python Pre-Sessional website.\n",
    "\n",
    "#### Program WORDLE in Python\n",
    "In the final step of the Python Fundamental series, you will apply your Python skills to create WORDLE in Python. To develop Wordle in Python, you will have to combine most of the techniques that you have learned in the notebooks in a creative way.\n",
    "    \n",
    "See the video below on what the final game could look like.\n",
    "    \n",
    "<img src=\"https://www.dropbox.com/s/w8bms25985573m2/wordle.gif?raw=1\" height=\"250px\">\n",
    "\n",
    "<br>\n",
    "\n",
    "<br>\n",
    "\n",
    "\n",
    "### Earn your Python certificate\n",
    "\n",
    "The Python Fundamentals series consists of 10 different jupyter notebooks that each teach a different topic. After having completed the series you can claim an online certificate to provide evidence of your Python skills on e.g. LinkdedIN. Please email digital.skills.lab@lse.ac.uk to claim your certificate. \n",
    "\n",
    "There are two types of certificates you can claim. Learners that have completed all Python notebooks apart from the coding challenges notebook, can claim the Python Fundamentals Attendance Badge, which provides evidence of you having completed all exercises apart from the coding challenge. Learners that have completed *at least one* of the coding challenges, can claim the Python Fundamentals Knowledge Badge. This badge provides evidence of having successfully applied the fundamental Python skills to a more complex coding project. This is to highlight that in order to solve the final coding challenges a deeper understanding of the acquired coding techniques and advanced proficiency in their practical application are required.\n",
    "\n",
    "<img src=\"https://www.dropbox.com/scl/fi/x0k789cubpar87h5k7mbi/progress_pf05.png?rlkey=hs5j0a4uso9cd4hm627hj04gm&raw=1\" height=\"250px\">\n",
    "\n",
    "\n",
    "### Continue to learn Python\n",
    "\n",
    "Once you finished the Python Fundamentals series, you can progress to the Python Data Wrangling and Python Visualisation series to continue to learn with the support of our Python experts on campus or learn with the online learning platform <a href=\"https://dataquest.io\">Dataquest</a>. \n",
    "\n",
    "\n"
   ]
  },
  {
   "cell_type": "markdown",
   "metadata": {},
   "source": [
    "<div class=\"alert alert-block alert-info\" style=\"background-color: #f2f2f2; color:#3F3F3F; width:90%; padding:50px; -webkit-border-radius:5px\">\n",
    "\n",
    "# Python Fundamentals 5: List of lists\n",
    "\n",
    "This workshop builds on what you learned in the first workshop on the previous notebook in which you learned how to create lists and index elements from lists.\n",
    "\n",
    "This notebook will teach you how to work with lists composed of lists.\n",
    "\n",
    "<b>After having completed this session, you will be able to:</b>\n",
    "* create lists within list\n",
    "* index a list of lists\n",
    "* add, remove and change elements to a list composed of lists\n",
    "\n",
    "<b>What to do when getting stuck</b>:\n",
    "    <ol>\n",
    "        <li>Ask <b>fellow students</b> for help, useful resources and to bounce off ideas</li>\n",
    "        <li>Ask the <b>trainer</b> if you struggle to find a solution.</li>\n",
    "        <li><b>Search online:</b></li>\n",
    "        <ol>\n",
    "            <li>The answer box on the top of Google's results page</li>\n",
    "            <li><a href=\"https://www.stackoverflow.com\">stackoverflow.com</a> (task-specific solutions)</li>\n",
    "            <li><a href=\"https://www.w3schools.com\">w3schools.com</a> (basic python questions)</li>\n",
    "            <li><a href=\"https://www.realpython.com\">realpython.com</a> (topic-based tutorials)</li>\n",
    "        </ol>\n",
    "    </ol>\n",
    "\n",
    "<br>\n",
    "<br>\n",
    "<div style=\"background-color:#DC143C; border-radius:10px; padding:10px; color:white\">\n",
    "<h5>Guidance on ChatGPT Usage: From R to Python</h5>\n",
    "<p>For total programming beginners, we firmly discourage the use of ChatGPT to learn fundamental coding concepts. However, if you're transitioning from R to Python, while ChatGPT can be a valuable resource, be wary of becoming overly reliant on it. Writing code in Python often demands a deeper understanding of loops and crafting custom functions, compared to R's more straightforward syntax. Relying too much on automated help can hinder your ability to grasp and master these nuances. Ensure you balance assistance with genuine self-effort for optimal learning.</p>\n",
    "</div>\n"
   ]
  },
  {
   "cell_type": "markdown",
   "metadata": {},
   "source": [
    "<img src=\"https://www.dropbox.com/s/kk77zlaci8swh6h/list_of_lists.png?raw=1\" width=\"400px\" align=\"left\">"
   ]
  },
  {
   "cell_type": "markdown",
   "metadata": {},
   "source": [
    "&nbsp;\n",
    "\n",
    "## A List of  lists\n",
    "\n",
    "As you already know lists can consist of any data object, which means we can even create a list made up of lists. Take a look at the example below.\n",
    "\n",
    "```python\n",
    "no1_hits = [[\"The Beatles\", 20], [\"Mariah Carey\", 18], [\"Rihanna\", 14], [\"Michael Jackson\", 13], [\"Madonna\", 12]]\n",
    "```\n",
    "\n",
    "When creating a list of lists, you can also put each list in a new line, which makes it easier to read the code.\n",
    "\n",
    "```python\n",
    "no1_hits = [\n",
    "    [\"The Beatles\", 20], \n",
    "    [\"Mariah Carey\", 18], \n",
    "    [\"Rihanna\", 14], \n",
    "    [\"Michael Jackson\", 13], \n",
    "    [\"Madonna\", 12]\n",
    "]\n",
    "```\n",
    "\n",
    "&nbsp;\n",
    "\n",
    "### Task 1 - Creating a list of lists\n",
    "\n",
    "Adapt the `mj_lps` list so that each album is stored in a separate list within the `mj_lps` list.\n"
   ]
  },
  {
   "cell_type": "code",
   "execution_count": 5,
   "metadata": {},
   "outputs": [],
   "source": [
    "mj_lps = ['Off the Wall', 20, 'Thriller', 66, 'Bad', 35, 'Dangerous', 32, 'History', 22]"
   ]
  },
  {
   "cell_type": "code",
   "execution_count": 1,
   "metadata": {
    "tags": []
   },
   "outputs": [],
   "source": [
    "mj_lps = [\n",
    "    ['Off the Wall', 20], \n",
    "    ['Thriller', 66], \n",
    "    ['Bad', 35], \n",
    "    ['Dangerous', 32], \n",
    "    ['History', 22]\n",
    "]"
   ]
  },
  {
   "cell_type": "markdown",
   "metadata": {},
   "source": [
    "&nbsp;\n",
    "\n",
    "## Indexing a list of lists\n",
    "\n",
    "You can select a list from a list of list just as you would select an element from a regular list.\n",
    "\n",
    "To print the first list from the **mj_lps** list:\n",
    "\n",
    "```python\n",
    "print(mj_lps[0])\n",
    "```\n",
    "<pre>['Off the Wall', 20]</pre>\n",
    "\n",
    "To print the first element from the first list of the **mj_lps** list:\n",
    "\n",
    "```python\n",
    "album_1 = mj_lps[0]\n",
    "print(album_1[0])\n",
    "```\n",
    "<pre>'Off the Wall'</pre>\n",
    "\n",
    "Alternatively, you can do this with one line. With the first square brackets, you select the first list. With the second square brackets, you select the first element from that first list:\n",
    "\n",
    "```python\n",
    "print(mj_lps[0][0])\n",
    "```\n",
    "<pre>'Off the Wall'</pre>\n",
    "\n",
    "<br>\n",
    "\n",
    "### Task 2 - Indexing a list of lists\n",
    "\n",
    "1. Print the second list of the mj_lps list\n",
    "2. Assign the second list of the mj_lps list the the variable album_2\n",
    "3. Print the second element of the album_2 list\n",
    "4. Print the first element of the third list of the mj_lps list using only one line of code"
   ]
  },
  {
   "cell_type": "code",
   "execution_count": 3,
   "metadata": {
    "tags": []
   },
   "outputs": [
    {
     "name": "stdout",
     "output_type": "stream",
     "text": [
      "66\n",
      "Bad\n"
     ]
    }
   ],
   "source": [
    "mj_lps = [\n",
    "    ['Off the Wall', 20], \n",
    "    ['Thriller', 66], \n",
    "    ['Bad', 35], \n",
    "    ['Dangerous', 32], \n",
    "    ['History', 22]\n",
    "]\n",
    "album_2 =(mj_lps[1])\n",
    "print(album_2[1])\n",
    "print(mj_lps[2][0])"
   ]
  },
  {
   "cell_type": "markdown",
   "metadata": {},
   "source": [
    "&nbsp;\n",
    "\n",
    "## Manipulating lists\n",
    "\n",
    "Let us now have a look at the ways you can manipulate an existing list. You will practice how to **change**, **add** and **remove elements** in a list and how to **combine two or more lists**."
   ]
  },
  {
   "cell_type": "markdown",
   "metadata": {},
   "source": [
    "### Task 3 - Changing elements in a list\n",
    "\n",
    "There are a few errors in the **fav_songs** list. Change it **by using indexing** to replace the wrong value.\n",
    "\n",
    "Errors:\n",
    "- Lose Myself --> Lose Yourself\n",
    "- Go with the Crowd --> Go with the Flow\n",
    "- Earthshake --> Earthquake"
   ]
  },
  {
   "cell_type": "code",
   "execution_count": 7,
   "metadata": {},
   "outputs": [],
   "source": [
    "fav_songs = [\"Living For The City\", \"Lose Myself\", \"Go with the Crowd\", \"Earthshake\"]"
   ]
  },
  {
   "cell_type": "code",
   "execution_count": 8,
   "metadata": {
    "tags": []
   },
   "outputs": [],
   "source": [
    "fav_songs = [\"Living For The City\", \"Lose Myself\", \"Go with the Crowd\", \"Earthshake\"]\n",
    "# use indexing to change \"Lose Myself\" to \"Lose Yourself\"\n",
    "fav_songs[1] = \"Love Yourself\"\n",
    "\n",
    "# use indexing to change \"Go with the Crowd\" to \"Go with the Flow\"\n",
    "fav_songs[2] = \"Go with the Flow\"  \n",
    "\n",
    "# use indexing to change \"Earthshake\" to \"Earthquake\"\n",
    "fav_songs[3] = \"Earthquack\""
   ]
  },
  {
   "cell_type": "code",
   "execution_count": 9,
   "metadata": {
    "tags": []
   },
   "outputs": [
    {
     "name": "stdout",
     "output_type": "stream",
     "text": [
      "['Living For The City', 'Love Yourself', 'Go with the Flow', 'Earthquack']\n"
     ]
    }
   ],
   "source": [
    "# print the list to verify that the list has been updated correctly\n",
    "print(fav_songs)"
   ]
  },
  {
   "cell_type": "markdown",
   "metadata": {},
   "source": [
    "<br>\n",
    "\n",
    "### Task 4 - Changing elements in a list of lists\n",
    "\n",
    "There is an error in the **weeks_no1** list. The value \"Desperado\" in the third list has to be replaced with \"Despacito\". \n",
    "\n",
    "1. Run the first block to create the **weeks_no1** list.\n",
    "2. Use **indexing** to change the value to \"Despacito\" in the second block.\n",
    "3. Print the **weeks_no1** list in the third block to verify the value has been changed correctly."
   ]
  },
  {
   "cell_type": "code",
   "execution_count": 15,
   "metadata": {
    "tags": []
   },
   "outputs": [],
   "source": [
    "weeks_no1 = [[\"Lil Nas X\", \"Old Town Road\", 19],\n",
    "             [\"Mariah Carey & Boyz II Men\", \"One Sweet Day\", 16],\n",
    "             [\"Luis Fonsi & Daddy Yankee\", \"Desperado\", 16],\n",
    "             [\"Whitney Houston\", \"I Will Always Love You\", 14]]"
   ]
  },
  {
   "cell_type": "code",
   "execution_count": 16,
   "metadata": {
    "tags": []
   },
   "outputs": [],
   "source": [
    "# use indexing to change the value here\n",
    "weeks_no1[2][1] = \"Desperado\""
   ]
  },
  {
   "cell_type": "code",
   "execution_count": 18,
   "metadata": {
    "tags": []
   },
   "outputs": [
    {
     "name": "stdout",
     "output_type": "stream",
     "text": [
      "[['Lil Nas X', 'Old Town Road', 19], ['Mariah Carey & Boyz II Men', 'One Sweet Day', 16], ['Luis Fonsi & Daddy Yankee', 'Desperado', 16], ['Whitney Houston', 'I Will Always Love You', 14]]\n"
     ]
    }
   ],
   "source": [
    "# print the list to verify that the list has been updated correctly\n",
    "weeks_no1 = [[\"Lil Nas X\", \"Old Town Road\", 19],\n",
    "             [\"Mariah Carey & Boyz II Men\", \"One Sweet Day\", 16],\n",
    "             [\"Luis Fonsi & Daddy Yankee\", \"Desperado\", 16],\n",
    "             [\"Whitney Houston\", \"I Will Always Love You\", 14]]\n",
    "weeks_no1[2][1] = \"Desperado\"\n",
    "print(weeks_no1)\n"
   ]
  },
  {
   "cell_type": "markdown",
   "metadata": {},
   "source": [
    "&nbsp;\n",
    "\n",
    "## Adding and removing elements"
   ]
  },
  {
   "cell_type": "markdown",
   "metadata": {},
   "source": [
    "To **add one or multiple elements to a list**, you can use the + operator. You have to put brackets around the values!"
   ]
  },
  {
   "cell_type": "code",
   "execution_count": 14,
   "metadata": {},
   "outputs": [
    {
     "name": "stdout",
     "output_type": "stream",
     "text": [
      "['Living For The City', 'Lose Myself', 'Go with the Crowd', 'Earthshake', \"Girl You Know It's True\"]\n"
     ]
    }
   ],
   "source": [
    "# Adding a single element\n",
    "fav_songs = [\"Living For The City\", \"Lose Yourself\", \"Go with the Flow\", \"Earthquake\"]\n",
    "fav_songs = fav_songs + [\"Girl You Know It's True\"]\n",
    "print(fav_songs)"
   ]
  },
  {
   "cell_type": "code",
   "execution_count": 15,
   "metadata": {},
   "outputs": [
    {
     "name": "stdout",
     "output_type": "stream",
     "text": [
      "['Living For The City', 'Lose Myself', 'Go with the Crowd', 'Earthshake', 'Hit me Baby One More Time', 'Never Forget']\n"
     ]
    }
   ],
   "source": [
    "# Adding multiple elements\n",
    "fav_songs = [\"Living For The City\", \"Lose Yourself\", \"Go with the Flow\", \"Earthquake\"]\n",
    "fav_songs = fav_songs + [\"Hit me Baby One More Time\", \"Never Forget\"]\n",
    "print(fav_songs)"
   ]
  },
  {
   "cell_type": "markdown",
   "metadata": {},
   "source": [
    "To **add a list to a list of lists**, you have to put double square brackets around the values."
   ]
  },
  {
   "cell_type": "code",
   "execution_count": 17,
   "metadata": {},
   "outputs": [
    {
     "name": "stdout",
     "output_type": "stream",
     "text": [
      "[['Stevie Wonder', 'Living For The City'], ['Eminem', 'Lose Myself'], ['Take That', 'Never Forget']]\n"
     ]
    }
   ],
   "source": [
    "# Adding a list to a list\n",
    "fav_songs = [[\"Stevie Wonder\",\"Living For The City\"], [\"Eminem\",\"Lose Yourself\"]]\n",
    "fav_songs = fav_songs + [[\"Take That\", \"Never Forget\"]]\n",
    "print(fav_songs)"
   ]
  },
  {
   "cell_type": "markdown",
   "metadata": {},
   "source": [
    "You can simplify your code by using the += operator as in the example below. With the += operator you add a value to a variable and assign the result to the same variable. "
   ]
  },
  {
   "cell_type": "code",
   "execution_count": 18,
   "metadata": {},
   "outputs": [
    {
     "name": "stdout",
     "output_type": "stream",
     "text": [
      "['Living For The City', 'Lose Yourself', 'Go with the Flow', 'Earthshake', \"Girl You Know It's True\"]\n"
     ]
    }
   ],
   "source": [
    "fav_songs = [\"Living For The City\", \"Lose Yourself\", \"Go with the Flow\", \"Earthquake\"]\n",
    "fav_songs += [\"Girl You Know It's True\"]\n",
    "print(fav_songs)"
   ]
  },
  {
   "cell_type": "markdown",
   "metadata": {},
   "source": [
    "&nbsp;\n",
    "\n",
    "You can **remove elements** With the **del()** function. "
   ]
  },
  {
   "cell_type": "code",
   "execution_count": 19,
   "metadata": {},
   "outputs": [
    {
     "name": "stdout",
     "output_type": "stream",
     "text": [
      "['Living For The City', 'Lose Yourself', 'Go with the Flow']\n"
     ]
    }
   ],
   "source": [
    "# Removing the last element\n",
    "fav_songs = [\"Living For The City\", \"Lose Yourself\", \"Go with the Flow\", \"Earthquake\"]\n",
    "del(fav_songs[-1])\n",
    "print(fav_songs)"
   ]
  },
  {
   "cell_type": "code",
   "execution_count": 20,
   "metadata": {},
   "outputs": [
    {
     "name": "stdout",
     "output_type": "stream",
     "text": [
      "['Living For The City']\n"
     ]
    }
   ],
   "source": [
    "# Removing the last three element\n",
    "fav_songs = [\"Living For The City\", \"Lose Yourself\", \"Go with the Flow\", \"Earthquake\"]\n",
    "del(fav_songs[-3:])\n",
    "print(fav_songs)"
   ]
  },
  {
   "cell_type": "markdown",
   "metadata": {},
   "source": [
    "<br>\n",
    "\n",
    "### Task 5 - UK Charts\n",
    "\n",
    "These are the UK Top 5 Charts fom 2019."
   ]
  },
  {
   "cell_type": "markdown",
   "metadata": {},
   "source": [
    "<table align=\"left\">\n",
    "  <tr>\n",
    "    <th style=\"text-align:left\">Artist</th>\n",
    "    <th style=\"text-align:left\">Title</th>\n",
    "  </tr>\n",
    "  <tr>\n",
    "    <td style=\"text-align:left\">Lewis Capaldi</td>\n",
    "    <td style=\"text-align:left\">Someone You Loved</td>\n",
    "  </tr>\n",
    "  <tr>\n",
    "    <td style=\"text-align:left\">Lil Nas X</td>\n",
    "    <td style=\"text-align:left\">Old Town Road</td>\n",
    "  </tr>\n",
    "  <tr>\n",
    "    <td style=\"text-align:left\">Billie Eilish</td>\n",
    "    <td style=\"text-align:left\">Bad Guy</td>\n",
    "  </tr>\n",
    "  <tr>\n",
    "    <td style=\"text-align:left\">Calvin Harris & Rag'n'Bone Man</td>\n",
    "    <td style=\"text-align:left\">Giant</td>\n",
    "  </tr>\n",
    "  <tr>\n",
    "    <td style=\"text-align:left\">AJ Tracey</td>\n",
    "    <td style=\"text-align:left\">Ladbroke Grove</td>\n",
    "  </tr>\n",
    "</table>\n"
   ]
  },
  {
   "cell_type": "markdown",
   "metadata": {},
   "source": [
    "Below is an incorrect and incomplete list for the UK Top 5 Charts.\n",
    "\n",
    "1. Run the below block to create the uk_top_5_2019 list.\n",
    "2. Correct and complete the list."
   ]
  },
  {
   "cell_type": "code",
   "execution_count": 54,
   "metadata": {
    "tags": []
   },
   "outputs": [],
   "source": [
    "uk_top_5_2019 = [[\"Lewis Capaldi\", \"Grace\"],\n",
    "                 [\"Lil Nas X\"],\n",
    "                 [\"Lewis Capaldi\", \"Grace\"],\n",
    "                 [\"Billie Eilish\", \"Bad Guy\"],\n",
    "                 [\"Calvin Harris & Rag'n'Bone Man\", \"Giant\"]]"
   ]
  },
  {
   "cell_type": "code",
   "execution_count": 55,
   "metadata": {
    "tags": []
   },
   "outputs": [
    {
     "name": "stdout",
     "output_type": "stream",
     "text": [
      "[['Lewis Capaldi', 'Someone You Loved'], ['Lil Nas X', 'Old Town Road'], ['Billie Eilish', 'Bad Guy'], [\"Calvin Harris & Rag'n'Bone Man\", 'Giant'], ['AJ Tracey', 'Labroke Grove']]\n"
     ]
    }
   ],
   "source": [
    "# Change \"Grace\" to \"Someone You Loved\" in the first list\n",
    "uk_top_5_2019[0][1]=\"Someone You Loved\"\n",
    "\n",
    "# Add \"Old Town Road\" as the title to the second list\n",
    "uk_top_5_2019[1]= uk_top_5_2019[1]+ [\"Old Town Road\"]\n",
    "\n",
    "# Remove the third list: Lewis Capaldi - Grace\n",
    "del(uk_top_5_2019[-3])\n",
    "\n",
    "# Add the list for AJ Tracey - Ladbroke Grove\n",
    "uk_top_5_2019 = uk_top_5_2019 + [[\"AJ Tracey\", \"Labroke Grove\"]]\n",
    "print(uk_top_5_2019)"
   ]
  },
  {
   "cell_type": "markdown",
   "metadata": {},
   "source": [
    "<br>\n",
    "\n",
    "### Task 6 - Reordering a list of lists"
   ]
  },
  {
   "cell_type": "markdown",
   "metadata": {},
   "source": [
    "1. Print the `mj_lps` list.\n",
    "2. Reorder the `mj_lps` list based on the sold units in descending order **by indexing the lists in the original mj_lps list**. The code below attempts to do this, but fails as it adds the elements from the first album/list as such and not as a list. Can you fix the code to add the values as a list?\n",
    "3. Print the reordered `mj_lps` list."
   ]
  },
  {
   "cell_type": "code",
   "execution_count": 130,
   "metadata": {
    "tags": []
   },
   "outputs": [
    {
     "name": "stdout",
     "output_type": "stream",
     "text": [
      "[['Off the Wall', 20], ['Thriller', 66], ['Bad', 35], ['Dangerous', 32], ['History', 22]]\n"
     ]
    }
   ],
   "source": [
    "# print mj_lps\n",
    "mj_lps = [\n",
    "    ['Off the Wall', 20], \n",
    "    ['Thriller', 66], \n",
    "    ['Bad', 35], \n",
    "    ['Dangerous', 32], \n",
    "    ['History', 22]\n",
    "]\n",
    "print(mj_lps)"
   ]
  },
  {
   "cell_type": "code",
   "execution_count": 131,
   "metadata": {
    "tags": []
   },
   "outputs": [
    {
     "name": "stdout",
     "output_type": "stream",
     "text": [
      "['Thriller', 66, 'Bad', 35, 'Dangerous', 32, 'History', 22, 'Off the Wall', 20]\n"
     ]
    }
   ],
   "source": [
    "# Reorder manually\n",
    "mj_lps = mj_lps[1] + mj_lps[2] + mj_lps[3]+ mj_lps[4] + mj_lps[0]\n",
    "print(mj_lps)"
   ]
  },
  {
   "cell_type": "markdown",
   "metadata": {},
   "source": [
    "### Reorder using sort\n",
    "\n",
    "There is an automated way to reorder a list using the `sorted()` function. In order to use `sorted()` for a list of lists, you need to use what is called a lambda function, which is an anonymous function that has no name and can only be used within another function. To properly explain this approach is outside the scope of this notebook. If you are interested to learn more about lambda functions, please have a look at the [lambda tutorial on realpython.com](https://realpython.com/python-lambda/). \n",
    "\n",
    "In short, we pass the lambda function to the `key` parameter to tell the `sorted()` function to base the sorting on the second element from each list: `x[1]`. By setting the `reverse` parameter to False, we instruct `sorted()` to sort from smallest to largest.\n",
    "\n",
    "#### Bonus task\n",
    "1. Can you adjust the code to order the list from largest to smallest? The output should look like below.\n",
    "\n",
    "```python\n",
    "    [['Thriller', 66],\n",
    "    ['Bad', 35],\n",
    "    ['Dangerous', 32],\n",
    "    ['History', 22],\n",
    "    ['Off the Wall', 20]]\n",
    "```\n",
    "2. Can you adjust the code to order based on the name instead of the number of sold units? The output should look like below.\n",
    "\n",
    "```python\n",
    "    [['Bad', 35],\n",
    "    ['Dangerous', 32],\n",
    "    ['History', 22],\n",
    "    ['Off the Wall', 20],\n",
    "    ['Thriller', 66]]\n",
    "```\n"
   ]
  },
  {
   "cell_type": "code",
   "execution_count": 124,
   "metadata": {
    "tags": []
   },
   "outputs": [
    {
     "name": "stdout",
     "output_type": "stream",
     "text": [
      "[['Off the Wall', 20], ['Thriller', 66], ['Bad', 35], ['Dangerous', 32], ['History', 22]]\n"
     ]
    },
    {
     "data": {
      "text/plain": [
       "[['Off the Wall', 20],\n",
       " ['History', 22],\n",
       " ['Dangerous', 32],\n",
       " ['Bad', 35],\n",
       " ['Thriller', 66]]"
      ]
     },
     "execution_count": 124,
     "metadata": {},
     "output_type": "execute_result"
    }
   ],
   "source": [
    "# Reorder with sorted function\n",
    "print(mj_lps)\n",
    "sorted(mj_lps, key=lambda x: x[1], reverse=False)\n"
   ]
  },
  {
   "cell_type": "code",
   "execution_count": 125,
   "metadata": {
    "tags": []
   },
   "outputs": [
    {
     "name": "stdout",
     "output_type": "stream",
     "text": [
      "[['Off the Wall', 20], ['Thriller', 66], ['Bad', 35], ['Dangerous', 32], ['History', 22]]\n"
     ]
    },
    {
     "data": {
      "text/plain": [
       "[['Off the Wall', 20],\n",
       " ['History', 22],\n",
       " ['Dangerous', 32],\n",
       " ['Bad', 35],\n",
       " ['Thriller', 66]]"
      ]
     },
     "execution_count": 125,
     "metadata": {},
     "output_type": "execute_result"
    }
   ],
   "source": [
    "# Ordering from smallest to largest\n",
    "print(mj_lps)\n",
    "sorted(mj_lps, key=lambda x: x[1], reverse=False)"
   ]
  },
  {
   "cell_type": "code",
   "execution_count": 126,
   "metadata": {
    "tags": []
   },
   "outputs": [
    {
     "data": {
      "text/plain": [
       "[['Bad', 35],\n",
       " ['Dangerous', 32],\n",
       " ['History', 22],\n",
       " ['Off the Wall', 20],\n",
       " ['Thriller', 66]]"
      ]
     },
     "execution_count": 126,
     "metadata": {},
     "output_type": "execute_result"
    }
   ],
   "source": [
    "# Ordering based on name, which is index 0 for each element of the list\n",
    "sorted(mj_lps, key=lambda x: x[0], reverse=False)"
   ]
  },
  {
   "cell_type": "markdown",
   "metadata": {},
   "source": [
    "<div class=\"alert alert-block alert-info\" style=\"background-color:#ECECEB; color:#3F3F3F; width:90%; padding:50px;-webkit-border-radius:5px\">\n",
    "\n",
    "### Final task: Please give us your feedback!\n",
    "\n",
    "Upon completing the survey, **you will receive the link to the solution file**, to check how your code compares to the sample solution.\n",
    "\n",
    "In order to adapt our training to your needs and provide the most valuable learning experience for you, we depend on your feedack.\n",
    "\n",
    "We would be grateful if you could take **1 min** before the end of the workshop to get your feedback! \n",
    "\n",
    "<a href=\"https://lse.eu.qualtrics.com/jfe/form/SV_2beTiFd70AlRe5M?coursename=Python Fundamentals 5: List of lists &topic=Python&link=https://lsecloud-my.sharepoint.com/:u:/g/personal/m_wiemers_lse_ac_uk/Ea0Px6Hi6NZGsEf_o6vSH3sBvTv_w1MDqG_2iApKAag_Wg?e=DIAG9O&prog=DS&version=23-24\"><b>Click here to open the survey</b></a>\n"
   ]
  },
  {
   "cell_type": "markdown",
   "metadata": {},
   "source": [
    "&nbsp;\n",
    "\n",
    "&nbsp;\n",
    "\n",
    "### Bonus task: More list arithmetic\n",
    "\n",
    "There are few more ways we can create lists using the * operator, which can be very practical and often outperform other approaches to creating numerical collections using numpy, which will be covered in the Data Wrangling series.\n",
    "\n",
    "So far, you have learned about the `+` operator to combine lists:"
   ]
  },
  {
   "cell_type": "code",
   "execution_count": null,
   "metadata": {},
   "outputs": [
    {
     "data": {
      "text/plain": [
       "[0, 1]"
      ]
     },
     "metadata": {},
     "output_type": "display_data"
    }
   ],
   "source": [
    "[0] + [1]"
   ]
  },
  {
   "cell_type": "markdown",
   "metadata": {},
   "source": [
    "The `*` operator will replicate a list! Here we create the list with value 0 and replicate it 5 times to create a list consisting of 5 zeros."
   ]
  },
  {
   "cell_type": "code",
   "execution_count": null,
   "metadata": {},
   "outputs": [
    {
     "data": {
      "text/plain": [
       "[0, 0, 0, 0, 0]"
      ]
     },
     "metadata": {},
     "output_type": "display_data"
    }
   ],
   "source": [
    "[0] * 5"
   ]
  },
  {
   "cell_type": "markdown",
   "metadata": {},
   "source": [
    "### Bonus task 1\n",
    "\n",
    "1. Create a list that replicates the values 1, 2, 3 ten times.\n",
    "2. Create a list consisting of 10 ones followed by 10 twos. \n",
    "3. Create a list consisting of 5 lists with 10 ones follow by 10 twos each."
   ]
  },
  {
   "cell_type": "code",
   "execution_count": 96,
   "metadata": {
    "tags": []
   },
   "outputs": [
    {
     "data": {
      "text/plain": [
       "[[1, 1, 1, 1, 1, 1, 1, 1, 1, 1, 2, 2, 2, 2, 2, 2, 2, 2, 2, 2],\n",
       " [1, 1, 1, 1, 1, 1, 1, 1, 1, 1, 2, 2, 2, 2, 2, 2, 2, 2, 2, 2],\n",
       " [1, 1, 1, 1, 1, 1, 1, 1, 1, 1, 2, 2, 2, 2, 2, 2, 2, 2, 2, 2],\n",
       " [1, 1, 1, 1, 1, 1, 1, 1, 1, 1, 2, 2, 2, 2, 2, 2, 2, 2, 2, 2],\n",
       " [1, 1, 1, 1, 1, 1, 1, 1, 1, 1, 2, 2, 2, 2, 2, 2, 2, 2, 2, 2],\n",
       " [1, 1, 1, 1, 1, 1, 1, 1, 1, 1, 2, 2, 2, 2, 2, 2, 2, 2, 2, 2],\n",
       " [1, 1, 1, 1, 1, 1, 1, 1, 1, 1, 2, 2, 2, 2, 2, 2, 2, 2, 2, 2],\n",
       " [1, 1, 1, 1, 1, 1, 1, 1, 1, 1, 2, 2, 2, 2, 2, 2, 2, 2, 2, 2],\n",
       " [1, 1, 1, 1, 1, 1, 1, 1, 1, 1, 2, 2, 2, 2, 2, 2, 2, 2, 2, 2],\n",
       " [1, 1, 1, 1, 1, 1, 1, 1, 1, 1, 2, 2, 2, 2, 2, 2, 2, 2, 2, 2]]"
      ]
     },
     "execution_count": 96,
     "metadata": {},
     "output_type": "execute_result"
    }
   ],
   "source": [
    "[1,2,3]*10\n",
    "\n",
    "[1]*10+[2]*10\n",
    "\n",
    "[[1]*10+[2]*10]*10"
   ]
  },
  {
   "cell_type": "markdown",
   "metadata": {},
   "source": [
    "### Using range() to create sequences\n",
    "\n",
    "To create a list consisting of a range of values with a incremental increase of 1, you can use the `range()` function.\n",
    "\n",
    "The range function as such returns a sequence of numbers, without you being able to access the numbers directly. A range is commonly used for looping and we will cover how to use ranges for looping in the Intermediate Python series."
   ]
  },
  {
   "cell_type": "code",
   "execution_count": 97,
   "metadata": {
    "tags": []
   },
   "outputs": [
    {
     "data": {
      "text/plain": [
       "range(0, 10)"
      ]
     },
     "execution_count": 97,
     "metadata": {},
     "output_type": "execute_result"
    }
   ],
   "source": [
    "range(0, 10)"
   ]
  },
  {
   "cell_type": "markdown",
   "metadata": {},
   "source": [
    "You can create a list from a range like this. Notice how the last element (10) is omitted. This is in line with the last element being omitted when indexing in Python. If we want to create a list with elements 1-10, we have to use `list(range(1, 11))`"
   ]
  },
  {
   "cell_type": "code",
   "execution_count": null,
   "metadata": {},
   "outputs": [
    {
     "data": {
      "text/plain": [
       "[0, 1, 2, 3, 4, 5, 6, 7, 8, 9]"
      ]
     },
     "metadata": {},
     "output_type": "display_data"
    }
   ],
   "source": [
    "list(range(0, 10))"
   ]
  },
  {
   "cell_type": "markdown",
   "metadata": {},
   "source": [
    "### Bonus task 2\n",
    "\n",
    "Apply the same technique of combining the `list()` and `range()` function to create a list with a sequence of numbers to create a list consisting of 10 lists each with the numbers 0-9."
   ]
  },
  {
   "cell_type": "code",
   "execution_count": 105,
   "metadata": {
    "tags": []
   },
   "outputs": [
    {
     "data": {
      "text/plain": [
       "[[0, 1, 2, 3, 4, 5, 6, 7, 8, 9],\n",
       " [0, 1, 2, 3, 4, 5, 6, 7, 8, 9],\n",
       " [0, 1, 2, 3, 4, 5, 6, 7, 8, 9],\n",
       " [0, 1, 2, 3, 4, 5, 6, 7, 8, 9],\n",
       " [0, 1, 2, 3, 4, 5, 6, 7, 8, 9],\n",
       " [0, 1, 2, 3, 4, 5, 6, 7, 8, 9],\n",
       " [0, 1, 2, 3, 4, 5, 6, 7, 8, 9],\n",
       " [0, 1, 2, 3, 4, 5, 6, 7, 8, 9],\n",
       " [0, 1, 2, 3, 4, 5, 6, 7, 8, 9],\n",
       " [0, 1, 2, 3, 4, 5, 6, 7, 8, 9]]"
      ]
     },
     "execution_count": 105,
     "metadata": {},
     "output_type": "execute_result"
    }
   ],
   "source": [
    "[list(range(0,10))]*10　"
   ]
  },
  {
   "cell_type": "code",
   "execution_count": null,
   "metadata": {},
   "outputs": [],
   "source": []
  }
 ],
 "metadata": {
  "kernelspec": {
   "display_name": "Python 3 (ipykernel)",
   "language": "python",
   "name": "python3"
  },
  "language_info": {
   "codemirror_mode": {
    "name": "ipython",
    "version": 3
   },
   "file_extension": ".py",
   "mimetype": "text/x-python",
   "name": "python",
   "nbconvert_exporter": "python",
   "pygments_lexer": "ipython3",
   "version": "3.11.4"
  },
  "vscode": {
   "interpreter": {
    "hash": "6bfbe47bd08290686626768386311ceb83f3a0dbecee84d146c554190cea57e3"
   }
  }
 },
 "nbformat": 4,
 "nbformat_minor": 4
}
