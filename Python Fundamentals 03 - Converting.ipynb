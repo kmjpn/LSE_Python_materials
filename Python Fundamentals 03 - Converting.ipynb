{
 "cells": [
  {
   "cell_type": "markdown",
   "metadata": {},
   "source": [
    "<div class=\"alert alert-block alert-info\" style=\"background-color: #323031; color:#ffffff; padding:50px; -webkit-border-radius:5px; width:90%\">\n",
    "\n",
    "\n",
    "## Pre-Sessional Python Workshops\n",
    "\n",
    "The Python pre-sessional workshops will teach you the fundamental data types and programming techniques that are necessary to succeed on any real-world coding project/challenge. The knowledge and skills that you develop in this series will form the foundation for any data analysis, visualisation or software development project in Python.\n",
    "\n",
    "For more information about the Python pre-sessional workshops and instructions on how to install Python on your personal laptop, have a look at the [Python Pre-sessional website](https://dsl-python-presessional.streamlit.app/)\n",
    "\n",
    "\n",
    "### Why learn Python?\n",
    "\n",
    "Python's popularity has seen a remarkable rise since its inception in the late 1990's and has established itself as one of the most widely used languages in the last 10 years. It is currently ranked as one of the top 2 programming languages by the most common programming language rankings. It is now widely used not only for Data Science, where it is leading the field together with R, but also to develop software in a more general sense. If you would like to learn more about how Python can be applied for Data Science and why it has evolved to one of the most popular programming languages overall, have a look at [this section](https://dsl-python-presessional.streamlit.app/Why_Learn_Python) of the Python Pre-Sessional website.\n",
    "\n",
    "#### Program WORDLE in Python\n",
    "In the final step of the Python Fundamental series, you will apply your Python skills to create WORDLE in Python. To develop Wordle in Python, you will have to combine most of the techniques that you have learned in the notebooks in a creative way.\n",
    "    \n",
    "See the video below on what the final game could look like.\n",
    "    \n",
    "<img src=\"https://www.dropbox.com/s/w8bms25985573m2/wordle.gif?raw=1\" height=\"250px\">\n",
    "\n",
    "<br>\n",
    "\n",
    "<br>\n",
    "\n",
    "\n",
    "### Earn your Python certificate\n",
    "\n",
    "The Python Fundamentals series consists of 10 different jupyter notebooks that each teach a different topic. After having completed the series you can claim an online certificate to provide evidence of your Python skills on e.g. LinkdedIN. Please email digital.skills.lab@lse.ac.uk to claim your certificate. \n",
    "\n",
    "There are two types of certificates you can claim. Learners that have completed all Python notebooks apart from the coding challenges notebook, can claim the Python Fundamentals Attendance Badge, which provides evidence of you having completed all exercises apart from the coding challenge. Learners that have completed *at least one* of the coding challenges, can claim the Python Fundamentals Knowledge Badge. This badge provides evidence of having successfully applied the fundamental Python skills to a more complex coding project. This is to highlight that in order to solve the final coding challenges a deeper understanding of the acquired coding techniques and advanced proficiency in their practical application are required.\n",
    "\n",
    "<img src=\"https://www.dropbox.com/scl/fi/7lgs7wkm4js9ph430y65d/progress_pf03.png?rlkey=cnzz5cuyfff1ts466u5stp8pa&raw=1\" height=\"250px\">\n",
    "\n",
    "\n",
    "### Continue to learn Python\n",
    "\n",
    "Once you finished the Python Fundamentals series, you can progress to the Python Data Wrangling and Python Visualisation series to continue to learn with the support of our Python experts on campus or learn with the online learning platform <a href=\"https://dataquest.io\">Dataquest</a>. \n",
    "\n",
    "\n"
   ]
  },
  {
   "cell_type": "markdown",
   "metadata": {},
   "source": [
    "<div class=\"alert alert-block alert-info\" style=\"background-color: #f2f2f2; color:#3F3F3F; width:90%; padding:50px; -webkit-border-radius:5px\">\n",
    "\n",
    "# Python Fundamentals 3: Data types and converting\n",
    "\n",
    "So far you have learned how to use numerical and string variables in Python.\n",
    "\n",
    "This notebook will teach you about another data type and how to convert between different data types.\n",
    "\n",
    "If you would like to know more about how you can use Python for Data Science and how to install Python on your Mac or Windows, have a look at [this website](https://tinyurl.com/python-dsl).\n",
    "\n",
    "**After having completed this tutorial, you will be able to:**\n",
    "- apply the data type booleans to represent True or False values in Python\n",
    "- get the type of a variable in Python\n",
    "- convert between data numerical and text values\n",
    "\n",
    "<b>What to do when getting stuck</b>:\n",
    "    <ol>\n",
    "        <li>Ask <b>fellow students</b> for help, useful resources and to bounce off ideas</li>\n",
    "        <li>Ask the <b>trainer</b> if you struggle to find a solution.</li>\n",
    "        <li><b>Search online:</b></li>\n",
    "        <ol>\n",
    "            <li>The answer box on the top of Google's results page</li>\n",
    "            <li><a href=\"https://www.stackoverflow.com\">stackoverflow.com</a> (task-specific solutions)</li>\n",
    "            <li><a href=\"https://www.w3schools.com\">w3schools.com</a> (basic python questions)</li>\n",
    "            <li><a href=\"https://www.realpython.com\">realpython.com</a> (topic-based tutorials)</li>\n",
    "        </ol>\n",
    "    </ol>\n",
    "\n",
    "<br>\n",
    "<br>\n",
    "<div style=\"background-color:#DC143C; border-radius:10px; padding:10px; color:white\">\n",
    "<h5>Guidance on ChatGPT Usage: From R to Python</h5>\n",
    "<p>For total programming beginners, we firmly discourage the use of ChatGPT to learn fundamental coding concepts. However, if you're transitioning from R to Python, while ChatGPT can be a valuable resource, be wary of becoming overly reliant on it. Writing code in Python often demands a deeper understanding of loops and crafting custom functions, compared to R's more straightforward syntax. Relying too much on automated help can hinder your ability to grasp and master these nuances. Ensure you balance assistance with genuine self-effort for optimal learning.</p>\n",
    "</div>\n"
   ]
  },
  {
   "cell_type": "markdown",
   "metadata": {},
   "source": [
    "<img src=\"https://www.dropbox.com/s/w4wwz03ihq9qdsg/convertible.jpg?raw=1\" width=800px>"
   ]
  },
  {
   "cell_type": "markdown",
   "metadata": {},
   "source": [
    "<br>\n",
    "\n",
    "### Task 1 - Recap of previous data types\n",
    "\n",
    "We want to build a data entry for Sheldon from The Big Bang Theory. We are going to start with three variables:\n",
    "- `name`: Sheldon Cooper\n",
    "- `height`: 1.86\n",
    "- `iq`: 187\n",
    "\n",
    "Create and print the variables."
   ]
  },
  {
   "cell_type": "code",
   "execution_count": 6,
   "metadata": {
    "tags": []
   },
   "outputs": [
    {
     "name": "stdout",
     "output_type": "stream",
     "text": [
      "Sheldon Cooper\n",
      "1.86\n",
      "187\n"
     ]
    }
   ],
   "source": [
    "name = \"Sheldon Cooper\"\n",
    "height = 1.86\n",
    "iq = 187\n",
    "print(name)\n",
    "print(height)\n",
    "print(iq)"
   ]
  },
  {
   "cell_type": "markdown",
   "metadata": {},
   "source": [
    "### Task 2 - Booleans\n",
    "\n",
    "Booleans only have two possible values: True or False. Booleans are often used in data science for variables that can have excatly those two values. For a dataset on real estate properties, a boolean column would indicate whether a property has a garage (True) or not (False).\n",
    "\n",
    "To create a boolean variable, you simply assign a capital True or False to the variable.\n",
    "\n",
    "Let's add two more variables to describe Sheldon:\n",
    "- `is_socially_awkward`: True\n",
    "- `is_crazy`: False (his mother had him tested...)"
   ]
  },
  {
   "cell_type": "code",
   "execution_count": 7,
   "metadata": {
    "tags": []
   },
   "outputs": [],
   "source": [
    "is_socially_awkward = True\n",
    "is_crazy = False"
   ]
  },
  {
   "cell_type": "markdown",
   "metadata": {},
   "source": [
    "<br>\n",
    "\n",
    "### Task 3 - The type() function\n",
    "\n",
    "To find out the type of data in Python you can use the <span style=\"font-family:consolas;font-weight:bold\">type()</span> function.\n",
    "\n",
    "Run the two examples below to see the `type()` function in action.\n"
   ]
  },
  {
   "cell_type": "code",
   "execution_count": 8,
   "metadata": {
    "tags": []
   },
   "outputs": [
    {
     "name": "stdout",
     "output_type": "stream",
     "text": [
      "<class 'bool'>\n"
     ]
    }
   ],
   "source": [
    "print(type(True))"
   ]
  },
  {
   "cell_type": "code",
   "execution_count": 9,
   "metadata": {
    "tags": []
   },
   "outputs": [
    {
     "name": "stdout",
     "output_type": "stream",
     "text": [
      "<class 'str'>\n"
     ]
    }
   ],
   "source": [
    "name = \"Sheldon Cooper\" \n",
    "print(type(name))"
   ]
  },
  {
   "cell_type": "markdown",
   "metadata": {},
   "source": [
    "\n",
    "What are the different types of the variables you have created in task 1 and 2? \n",
    "\n",
    "Print the type of each variable!"
   ]
  },
  {
   "cell_type": "code",
   "execution_count": 12,
   "metadata": {
    "tags": []
   },
   "outputs": [
    {
     "name": "stdout",
     "output_type": "stream",
     "text": [
      "<class 'bool'>\n",
      "<class 'bool'>\n",
      "<class 'str'>\n",
      "<class 'float'>\n",
      "<class 'int'>\n"
     ]
    }
   ],
   "source": [
    "print (type(is_socially_awkward))\n",
    "print (type(is_crazy))\n",
    "print(type(name))\n",
    "print(type(height))\n",
    "print(type(iq))"
   ]
  },
  {
   "cell_type": "markdown",
   "metadata": {},
   "source": [
    "&nbsp;\n",
    "\n",
    "There are two data types for numerical values that we have covered so far. Write in the code block below the data type and which type of numerical values it is used to represent."
   ]
  },
  {
   "cell_type": "code",
   "execution_count": null,
   "metadata": {},
   "outputs": [],
   "source": [
    "# numerical data type 1: float\n",
    "# numerical data type 2: int"
   ]
  },
  {
   "cell_type": "markdown",
   "metadata": {},
   "source": [
    "\n",
    "&nbsp;\n",
    "\n",
    "&nbsp;\n",
    "\n",
    "## Converting between data types\n",
    "\n",
    "You can convert between different data types in Python using a specific set of functions. You can for instance convert a number into a string or vice versa. For each data type in Python there is a particular function which will convert data into that particular type.\n",
    "\n",
    "You might be wondering why would you have to convert from one type to another?\n",
    "\n",
    "### Combining strings with other variable types\n",
    "\n",
    "Try to run the print statement below. It will produce what is called a <span style=\"color:red;font-weight:bold;\">Type Error</span>, which occurs when your code is trying to carry out an operation on a data type that Python does not support.\n",
    "For instance, Python doesn't support the combination of strings and booleans with the **+** operator."
   ]
  },
  {
   "cell_type": "code",
   "execution_count": 1,
   "metadata": {
    "tags": []
   },
   "outputs": [
    {
     "name": "stdout",
     "output_type": "stream",
     "text": [
      "That is True\n"
     ]
    }
   ],
   "source": [
    "bool01 = True\n",
    "print(\"That is \" + str(bool01))"
   ]
  },
  {
   "cell_type": "markdown",
   "metadata": {},
   "source": [
    "<br>\n",
    "\n",
    "### Task 4 - Converting to string\n",
    "\n",
    "You can however convert a boolean into a string with the `str()` function!\n",
    "\n",
    "1. Use the `str()` function to convert `bool01` to a string and assign that string to a new variable `bool01_str`. \n",
    "2. Print the type of `bool01_str`.\n",
    "2. Update the print statement."
   ]
  },
  {
   "cell_type": "code",
   "execution_count": 16,
   "metadata": {
    "tags": []
   },
   "outputs": [
    {
     "name": "stdout",
     "output_type": "stream",
     "text": [
      "True\n",
      "This is True\n"
     ]
    }
   ],
   "source": [
    "bool01 = True\n",
    "\n",
    "# Convert bool01 to the string variable bool01_str\n",
    "bool01_str =str(bool01)\n",
    "\n",
    "# Print the type of bool01_str\n",
    "print(bool01_str)\n",
    "\n",
    "# Adjust the print statement to print the string \"This is True\". \n",
    "print(\"This is\" + \" \" + bool01_str)"
   ]
  },
  {
   "cell_type": "markdown",
   "metadata": {},
   "source": [
    "<br>\n",
    "\n",
    "### Task 5 - Converting to string\n",
    "\n",
    "Python also doesn't support the combination of strings and numbers with the `+` operator.\n",
    "\n",
    "Can you fix the below code block so that the print statement prints the below message?\n",
    "\n",
    "`Martha's age is 32`"
   ]
  },
  {
   "cell_type": "code",
   "execution_count": 17,
   "metadata": {
    "tags": []
   },
   "outputs": [
    {
     "name": "stdout",
     "output_type": "stream",
     "text": [
      "Martha's age is 32\n"
     ]
    }
   ],
   "source": [
    "age = 32\n",
    "age_str = str(age)\n",
    "print(\"Martha's age is \" + age_str)"
   ]
  },
  {
   "cell_type": "markdown",
   "metadata": {},
   "source": [
    "<br>\n",
    "\n",
    "### Task 6 - Converting to numerical\n",
    "\n",
    "Write a program that asks the user to enter their age and prints as output the age difference between your age and the user's age. \n",
    "\n",
    "1. Ask the user to enter their age and store the value in the variable `user_age`.\n",
    "2. Search online to find out how to convert a string to integer in Python.\n",
    "3. Convert the `user_age` variable to integer.\n",
    "4. Calculate the absolute value of the age difference between your age and the user's age using the `abs()` function. See below for an example of how to use the `abs()` function.\n",
    "\n",
    "<br>\n",
    "\n",
    "```python\n",
    "    x = abs(7-10)\n",
    "    print(x)\n",
    "\n",
    "    3\n",
    "```\n",
    "\n",
    "\n",
    "5. Print a message about the age difference between you and the user.\n"
   ]
  },
  {
   "cell_type": "code",
   "execution_count": 30,
   "metadata": {
    "tags": []
   },
   "outputs": [
    {
     "name": "stdin",
     "output_type": "stream",
     "text": [
      "How old are you? 50\n"
     ]
    },
    {
     "name": "stdout",
     "output_type": "stream",
     "text": [
      "<class 'int'>\n",
      "19\n"
     ]
    }
   ],
   "source": [
    "# ask user to enter their age\n",
    "user_age = input(\"How old are you?\")\n",
    "\n",
    "# convert age to integer type\n",
    "user_age_int = int(user_age)\n",
    "print(type(user_age_int))\n",
    "# calculate absolute age difference between user and you using the abs() function\n",
    "age_difference = abs(user_age_int - 31)\n",
    "\n",
    "# print message about the age difference\n",
    "print(age_difference)\n",
    "\n"
   ]
  },
  {
   "cell_type": "markdown",
   "metadata": {},
   "source": [
    "<br>\n",
    "\n",
    "### Task 7 - Interactive calculator\n",
    "\n",
    "Finish the division program that asks the user to enter two numbers and prints as output a message like below:\n",
    "\n",
    "`7 * 2.5 = 17.5`\n",
    "\n",
    "Test the program and enter the numbers 7 and 2.5. Does it return the correct message as an output?"
   ]
  },
  {
   "cell_type": "code",
   "execution_count": 32,
   "metadata": {
    "tags": []
   },
   "outputs": [
    {
     "name": "stdin",
     "output_type": "stream",
     "text": [
      "Enter first number: 30\n",
      "Enter second number: 40\n"
     ]
    },
    {
     "name": "stdout",
     "output_type": "stream",
     "text": [
      "1200\n"
     ]
    }
   ],
   "source": [
    "# user input for two numbers\n",
    "n1 = input(\"Enter first number:\")\n",
    "n2 = input(\"Enter second number:\")\n",
    "\n",
    "# calculate product of both numbers\n",
    "n1_int = int(n1)\n",
    "n2_int = int(n2)\n",
    "prod = n1_int * n2_int\n",
    "\n",
    "# Print the expression and the result, e.g. \"7 * 2.5 = 17.5\"\n",
    "print(prod)"
   ]
  },
  {
   "cell_type": "markdown",
   "metadata": {},
   "source": [
    "&nbsp;\n",
    "\n",
    "## A bit more on Booleans \n",
    "\n",
    "Booleans are not actually stored as the text values *true* and *false*. You computer stores them as the numbers 0 (false) and 1 (true). Knowing this can you predict the output of the print statement?"
   ]
  },
  {
   "cell_type": "code",
   "execution_count": null,
   "metadata": {},
   "outputs": [],
   "source": [
    "print(True + 1)"
   ]
  },
  {
   "cell_type": "markdown",
   "metadata": {},
   "source": [
    "&nbsp;\n",
    "\n",
    "Can you predict the output for the next two print statements as well?"
   ]
  },
  {
   "cell_type": "code",
   "execution_count": 33,
   "metadata": {
    "tags": []
   },
   "outputs": [
    {
     "name": "stdout",
     "output_type": "stream",
     "text": [
      "Hello world! Hello world! Hello world! Hello world! Hello world! Hello world! Hello world! Hello world! \n"
     ]
    }
   ],
   "source": [
    "print(\"Hello world! \" * ((True+True)**3))"
   ]
  },
  {
   "cell_type": "code",
   "execution_count": 34,
   "metadata": {
    "tags": []
   },
   "outputs": [
    {
     "name": "stdout",
     "output_type": "stream",
     "text": [
      "\n"
     ]
    }
   ],
   "source": [
    "print(\"Hello world!\" * False)"
   ]
  },
  {
   "cell_type": "markdown",
   "metadata": {},
   "source": [
    "<div class=\"alert alert-block alert-info\" style=\"background-color:#ECECEB; color:#3F3F3F; width:90%; padding:50px;-webkit-border-radius:5px\">\n",
    "\n",
    "## Final task: Please give us your feedback!\n",
    "\n",
    "Upon completing the survey, **you will receive the link to the solution file**, to check how your code compares to the sample solution.\n",
    "\n",
    "In order to adapt our training to your needs and provide the most valuable learning experience for you, we depend on your feedack.\n",
    "\n",
    "We would be grateful if you could take **1 min** before the end of the workshop to get your feedback! \n",
    "\n",
    "<a href=\"https://lse.eu.qualtrics.com/jfe/form/SV_2beTiFd70AlRe5M?coursename=Python Fundamentals 3: Converting &topic=Python&link=https://lsecloud-my.sharepoint.com/:u:/g/personal/m_wiemers_lse_ac_uk/EYwrTRrJ4QVMjiM5F4Zd8jEByUg3lwxGEb9lVlCVd11ycg?e=Cif6JQ&prog=DS&version=23-24\"><b>Click here to open the survey</b></a>\n"
   ]
  },
  {
   "cell_type": "markdown",
   "metadata": {},
   "source": [
    "\n",
    "&nbsp;\n",
    "\n",
    "&nbsp;\n",
    "\n",
    "### Bonus task: Odd number detector\n",
    "\n",
    "Your task is to write a program that asks the user to enter a number. As output the program should print a message that says whether it is True of False that the number is odd like below.\n",
    "\n",
    "`The number 8 is odd: False!`\n",
    "\n",
    "Hints:\n",
    "1. You can use the modulo operator to calculate the remainder of a division. Search online how to use it.\n",
    "2. You can use the remainder of the division for the final part of the message by converting it to another type.\n",
    "\n",
    "\n",
    "\n"
   ]
  },
  {
   "cell_type": "code",
   "execution_count": 36,
   "metadata": {
    "tags": []
   },
   "outputs": [
    {
     "name": "stdin",
     "output_type": "stream",
     "text": [
      "Please input your favorite number 50\n"
     ]
    },
    {
     "name": "stdout",
     "output_type": "stream",
     "text": [
      "False\n"
     ]
    }
   ],
   "source": [
    "User_Number =input(\"Please input your favorite number\")\n",
    "User_Number_Int = int(User_Number)\n",
    "Remainder = (User_Number_Int % 2)\n",
    "Judge = bool(Remainder)\n",
    "print(Judge)\n"
   ]
  },
  {
   "cell_type": "code",
   "execution_count": null,
   "metadata": {},
   "outputs": [],
   "source": []
  }
 ],
 "metadata": {
  "kernelspec": {
   "display_name": "Python 3 (ipykernel)",
   "language": "python",
   "name": "python3"
  },
  "language_info": {
   "codemirror_mode": {
    "name": "ipython",
    "version": 3
   },
   "file_extension": ".py",
   "mimetype": "text/x-python",
   "name": "python",
   "nbconvert_exporter": "python",
   "pygments_lexer": "ipython3",
   "version": "3.11.4"
  },
  "vscode": {
   "interpreter": {
    "hash": "6bfbe47bd08290686626768386311ceb83f3a0dbecee84d146c554190cea57e3"
   }
  }
 },
 "nbformat": 4,
 "nbformat_minor": 4
}
