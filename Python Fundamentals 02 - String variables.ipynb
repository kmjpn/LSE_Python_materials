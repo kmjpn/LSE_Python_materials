{
 "cells": [
  {
   "cell_type": "markdown",
   "metadata": {},
   "source": [
    "<div class=\"alert alert-block alert-info\" style=\"background-color: #323031; color:#ffffff; padding:50px; -webkit-border-radius:5px; width:90%\">\n",
    "\n",
    "\n",
    "## Pre-Sessional Python Workshops\n",
    "\n",
    "The Python pre-sessional workshops will teach you the fundamental data types and programming techniques that are necessary to succeed on any real-world coding project/challenge. The knowledge and skills that you develop in this series will form the foundation for any data analysis, visualisation or software development project in Python.\n",
    "\n",
    "For more information about the Python pre-sessional workshops and instructions on how to install Python on your personal laptop, have a look at the [Python Pre-sessional website](https://dsl-python-presessional.streamlit.app/)\n",
    "\n",
    "\n",
    "### Why learn Python?\n",
    "\n",
    "Python's popularity has seen a remarkable rise since its inception in the late 1990's and has established itself as one of the most widely used languages in the last 10 years. It is currently ranked as one of the top 2 programming languages by the most common programming language rankings. It is now widely used not only for Data Science, where it is leading the field together with R, but also to develop software in a more general sense. If you would like to learn more about how Python can be applied for Data Science and why it has evolved to one of the most popular programming languages overall, have a look at [this section](https://dsl-python-presessional.streamlit.app/Why_Learn_Python) of the Python Pre-Sessional website.\n",
    "\n",
    "#### Program WORDLE in Python\n",
    "In the final step of the Python Fundamental series, you will apply your Python skills to create WORDLE in Python. To develop Wordle in Python, you will have to combine most of the techniques that you have learned in the notebooks in a creative way.\n",
    "    \n",
    "See the video below on what the final game could look like.\n",
    "    \n",
    "<img src=\"https://www.dropbox.com/s/w8bms25985573m2/wordle.gif?raw=1\" height=\"250px\">\n",
    "\n",
    "<br>\n",
    "\n",
    "<br>\n",
    "\n",
    "\n",
    "### Earn your Python certificate\n",
    "\n",
    "The Python Fundamentals series consists of 10 different jupyter notebooks that each teach a different topic. After having completed the series you can claim an online certificate to provide evidence of your Python skills on e.g. LinkdedIN. Please email digital.skills.lab@lse.ac.uk to claim your certificate. \n",
    "\n",
    "There are two types of certificates you can claim. Learners that have completed all Python notebooks apart from the coding challenges notebook, can claim the Python Fundamentals Attendance Badge, which provides evidence of you having completed all exercises apart from the coding challenge. Learners that have completed *at least one* of the coding challenges, can claim the Python Fundamentals Knowledge Badge. This badge provides evidence of having successfully applied the fundamental Python skills to a more complex coding project. This is to highlight that in order to solve the final coding challenges a deeper understanding of the acquired coding techniques and advanced proficiency in their practical application are required.\n",
    "\n",
    "<img src=\"https://www.dropbox.com/scl/fi/fpzdb4sq6mzb0lo9ik36k/progress_pf02.png?rlkey=45tdrcdum3597d95b6ayp0wjx&raw=1\" height=\"250px\">\n",
    "\n",
    "\n",
    "### Continue to learn Python\n",
    "\n",
    "Once you finished the Python Fundamentals series, you can progress to the Python Data Wrangling and Python Visualisation series to continue to learn with the support of our Python experts on campus or learn with the online learning platform <a href=\"https://dataquest.io\">Dataquest</a>. \n",
    "\n",
    "\n"
   ]
  },
  {
   "cell_type": "markdown",
   "metadata": {},
   "source": [
    "<div class=\"alert alert-block alert-info\" style=\"background-color: #f2f2f2; color:#3F3F3F; width:90%; padding:50px; -webkit-border-radius:5px\">\n",
    "\n",
    "\n",
    "# Python Fundamentals 2: Strings\n",
    "\n",
    "In the previous session you have learned how to use numerical variables to carry out calculations in Python. In this notebook, you will learn about string variables which allow you to work with text. \n",
    "\n",
    "You will often have to work with string type data when working with a dataset, since categorical variables are often in string format.\n",
    "\n",
    "\n",
    "**After having completed this session, you will be able to**:\n",
    "- use strings to represent text in Python\n",
    "- use operators to add and multiply strings\n",
    "- work with string variables\n",
    "- get user input\n",
    "\n",
    "<b>What to do when getting stuck</b>:\n",
    "    <ol>\n",
    "        <li>Ask <b>fellow students</b> for help, useful resources and to bounce off ideas</li>\n",
    "        <li>Ask the <b>trainer</b> if you struggle to find a solution.</li>\n",
    "        <li><b>Search online:</b></li>\n",
    "        <ol>\n",
    "            <li>The answer box on the top of Google's results page</li>\n",
    "            <li><a href=\"https://www.stackoverflow.com\">stackoverflow.com</a> (task-specific solutions)</li>\n",
    "            <li><a href=\"https://www.w3schools.com\">w3schools.com</a> (basic python questions)</li>\n",
    "            <li><a href=\"https://www.realpython.com\">realpython.com</a> (topic-based tutorials)</li>\n",
    "        </ol>\n",
    "    </ol>\n",
    "\n",
    "<br>\n",
    "<br>\n",
    "<div style=\"background-color:#DC143C; border-radius:10px; padding:10px; color:white\">\n",
    "<h5>Guidance on ChatGPT Usage: From R to Python</h5>\n",
    "<p>For total programming beginners, we firmly discourage the use of ChatGPT to learn fundamental coding concepts. However, if you're transitioning from R to Python, while ChatGPT can be a valuable resource, be wary of becoming overly reliant on it. Writing code in Python often demands a deeper understanding of loops and crafting custom functions, compared to R's more straightforward syntax. Relying too much on automated help can hinder your ability to grasp and master these nuances. Ensure you balance assistance with genuine self-effort for optimal learning.</p>\n",
    "</div>\n"
   ]
  },
  {
   "cell_type": "markdown",
   "metadata": {},
   "source": [
    "<img src=\"https://lerner.co.il/wp-content/uploads/2018/07/string_shutterstock.jpg\" width=800px>"
   ]
  },
  {
   "cell_type": "markdown",
   "metadata": {},
   "source": [
    "<br>\n",
    "\n",
    "### Quotes as delimiters of strings\n",
    "Python can identify a string in your code through the single or double quotes. \n",
    "\n",
    "Run both code blocks to try it out!\n"
   ]
  },
  {
   "cell_type": "code",
   "execution_count": null,
   "metadata": {},
   "outputs": [],
   "source": [
    "print('Hello Python')"
   ]
  },
  {
   "cell_type": "code",
   "execution_count": null,
   "metadata": {},
   "outputs": [],
   "source": [
    "print(\"Hello Python\")"
   ]
  },
  {
   "cell_type": "markdown",
   "metadata": {},
   "source": [
    "Every opening quote has to be matched to a closing quote.\n",
    "\n",
    "Guess the error type Python will return before running the print statement below."
   ]
  },
  {
   "cell_type": "code",
   "execution_count": null,
   "metadata": {},
   "outputs": [],
   "source": [
    "print('Hello Python)"
   ]
  },
  {
   "cell_type": "markdown",
   "metadata": {},
   "source": [
    "\n",
    "&nbsp;\n",
    "\n",
    "### Types of characters a string can handle\n",
    "\n",
    "A string can be composed of three types of characters:\n",
    "- letters a-z, A-Z\n",
    "- numbers 0-9\n",
    "- punctuation marks ! ? , . - $ £ % € ¦ { } [ ] ( ) \\ / | ...\n",
    "\n",
    "Basically every type of character you can produce with your keyboard, can be a character in a string, even the hidden ones!"
   ]
  },
  {
   "cell_type": "code",
   "execution_count": null,
   "metadata": {},
   "outputs": [],
   "source": [
    "print(\"What the #$@&%*! is the shortcut to print the ‰ symbol???\")"
   ]
  },
  {
   "cell_type": "markdown",
   "metadata": {},
   "source": [
    "\n",
    "&nbsp;\n",
    "\n",
    "\n",
    "### Using single and double quotes *inside a string*\n",
    "\n",
    "What if you want to include quotations inside a string?\n",
    "\n",
    "When you use double quotes as the delimiter, the single quote inside the string will be treated as a normal character and, since Python will wait for the next double quote to indicate the end of the string."
   ]
  },
  {
   "cell_type": "code",
   "execution_count": 2,
   "metadata": {
    "tags": []
   },
   "outputs": [
    {
     "name": "stdout",
     "output_type": "stream",
     "text": [
      "You can't sit in Sheldon's spot!\n"
     ]
    }
   ],
   "source": [
    "print(\"You can't sit in Sheldon's spot!\")"
   ]
  },
  {
   "cell_type": "markdown",
   "metadata": {},
   "source": [
    "<br>\n",
    "\n",
    "### Task 1\n",
    "Print the line: <pre>Sheldon has a \"girlfriend\".</pre>\n"
   ]
  },
  {
   "cell_type": "code",
   "execution_count": 1,
   "metadata": {
    "tags": []
   },
   "outputs": [
    {
     "name": "stdout",
     "output_type": "stream",
     "text": [
      "Sheldon has a \"girlfriend\".\n"
     ]
    }
   ],
   "source": [
    "print('Sheldon has a \"girlfriend\".')"
   ]
  },
  {
   "cell_type": "markdown",
   "metadata": {},
   "source": [
    "\n",
    "&nbsp;\n",
    "\n",
    "&nbsp;\n",
    "\n",
    "## String operations\n",
    "\n",
    "You can use the * and + operator on strings. \n",
    "\n",
    "Try to guess the function the + and * operator might have for strings before running the code block."
   ]
  },
  {
   "cell_type": "code",
   "execution_count": null,
   "metadata": {},
   "outputs": [],
   "source": [
    "print('How about ' + 'THIS?')"
   ]
  },
  {
   "cell_type": "code",
   "execution_count": null,
   "metadata": {},
   "outputs": [],
   "source": [
    "print('Hey! ' * 3)"
   ]
  },
  {
   "cell_type": "markdown",
   "metadata": {},
   "source": [
    "<br>\n",
    "\n",
    "### Task 2\n",
    "\n",
    "1. Print the below string without typing WOW! more than once \n",
    "<pre>WOW! WOW! WOW!</pre> \n"
   ]
  },
  {
   "cell_type": "code",
   "execution_count": null,
   "metadata": {},
   "outputs": [],
   "source": [
    "print('WOW! '*3)"
   ]
  },
  {
   "cell_type": "markdown",
   "metadata": {},
   "source": [
    "2. Print the below string without typing Hey! more than once \n",
    "<pre>I said: Hey! Hey! Hey! </pre> \n"
   ]
  },
  {
   "cell_type": "code",
   "execution_count": 3,
   "metadata": {
    "tags": []
   },
   "outputs": [
    {
     "name": "stdout",
     "output_type": "stream",
     "text": [
      "I said: Hey! Hey! Hey! \n"
     ]
    }
   ],
   "source": [
    "print('I said: ' + 'Hey! '*3)"
   ]
  },
  {
   "cell_type": "markdown",
   "metadata": {},
   "source": [
    "3. Print the below string without typing the space more than once. There should be 7 spaces between the two X's\n",
    "<pre>X &nbsp;  &nbsp; &nbsp; X</pre> "
   ]
  },
  {
   "cell_type": "code",
   "execution_count": 4,
   "metadata": {
    "tags": []
   },
   "outputs": [
    {
     "name": "stdout",
     "output_type": "stream",
     "text": [
      "       X       X\n"
     ]
    }
   ],
   "source": [
    "print(((' '*7)+'X')*2)"
   ]
  },
  {
   "cell_type": "markdown",
   "metadata": {},
   "source": [
    "\n",
    "&nbsp;\n",
    "\n",
    "&nbsp;\n",
    "\n",
    "## String variables"
   ]
  },
  {
   "cell_type": "markdown",
   "metadata": {},
   "source": [
    "You can create variables for strings just as for numbers in Python.\n",
    "\n",
    "In the example below, we are creating a variable instructions and then print it with the print function.\n",
    "\n",
    "Run the code block!"
   ]
  },
  {
   "cell_type": "code",
   "execution_count": null,
   "metadata": {},
   "outputs": [],
   "source": [
    "instruction = \"Use a variable to store a string!\"\n",
    "print(instruction)"
   ]
  },
  {
   "cell_type": "markdown",
   "metadata": {},
   "source": [
    "<br>\n",
    "\n",
    "### Task 3\n",
    "\n",
    "1. Assign the expression you printed in the previous task, *I said: Hey! Hey! Hey!*, to a variable *msg*\n",
    "2. Print the variable."
   ]
  },
  {
   "cell_type": "code",
   "execution_count": null,
   "metadata": {},
   "outputs": [],
   "source": [
    "msg = 'I said: ' + 'Hey! '*3\n",
    "print(msg)"
   ]
  },
  {
   "cell_type": "markdown",
   "metadata": {},
   "source": [
    "\n",
    "&nbsp;\n",
    "\n",
    "### Working with string variables\n",
    "\n",
    "Similar to how you can carry out numerical calculations with numerical variables, you can carry out string operations with string variables.\n",
    "\n",
    "<br>\n",
    "\n",
    "### Task 4\n",
    "\n",
    "Run the block below.\n",
    "\n",
    "You will notice the output doesn't look as expected. A space is missing after the first sentence. There are 3 ways to add a space to make the correct the output. Can you think of all three ways? "
   ]
  },
  {
   "cell_type": "code",
   "execution_count": 5,
   "metadata": {
    "tags": []
   },
   "outputs": [
    {
     "name": "stdout",
     "output_type": "stream",
     "text": [
      "Create a variable for your string. Then print the variable!\n"
     ]
    }
   ],
   "source": [
    "# solution 1: adding a space between the variables\n",
    "instruction_1 = \"Create a variable for your string.\"\n",
    "instruction_2 = \"Then print the variable!\"\n",
    "instructions = instruction_1 + ' ' +instruction_2\n",
    "print(instructions)"
   ]
  },
  {
   "cell_type": "code",
   "execution_count": null,
   "metadata": {},
   "outputs": [
    {
     "name": "stdout",
     "output_type": "stream",
     "text": [
      "Create a variable for your string. Then print the variable!\n"
     ]
    }
   ],
   "source": [
    "# solution 2: adding a space after the first variable\n",
    "instruction_1 = \"Create a variable for your string. \"\n",
    "instruction_2 = \"Then print the variable!\"\n",
    "instructions = instruction_1 + instruction_2\n",
    "print(instructions)"
   ]
  },
  {
   "cell_type": "code",
   "execution_count": null,
   "metadata": {},
   "outputs": [
    {
     "name": "stdout",
     "output_type": "stream",
     "text": [
      "Create a variable for your string. Then print the variable!\n"
     ]
    }
   ],
   "source": [
    "# solution 3: adding a space before the second variable\n",
    "instruction_1 = \"Create a variable for your string.\"\n",
    "instruction_2 = \" Then print the variable!\"\n",
    "instructions = instruction_1 + ' ' +instruction_2\n",
    "instructions = instruction_1 + instruction_2\n",
    "instructions = instruction_1 + instruction_2\n",
    "print(instructions)"
   ]
  },
  {
   "cell_type": "markdown",
   "metadata": {},
   "source": [
    "<br>\n",
    "\n",
    "### Task 5\n",
    "\n",
    "1. Create a variable `first_name` for your first name\n",
    "2. Create a variable `last_name` for your last name\n",
    "3. Create a variable `age` for your age\n",
    "4. Print a message that reads as the example below\n",
    "\n",
    "<pre>Hello Paul McCartney. You are 77 years old.</pre> \n"
   ]
  },
  {
   "cell_type": "code",
   "execution_count": null,
   "metadata": {},
   "outputs": [],
   "source": [
    "first_name = 'Homer'\n",
    "last_name = 'Simpson'\n",
    "age = '39'\n",
    "print('Hello ' + first_name + ' ' + last_name + '. You are ' + age + ' years old.')\n",
    "\n"
   ]
  },
  {
   "cell_type": "markdown",
   "metadata": {},
   "source": [
    "\n",
    "&nbsp;\n",
    "\n",
    "### Re-assigning variables\n",
    "\n",
    "Below is an example using numerical variables how you can re-assign a value to an existing variable by referring to the variable itself. This way, you can for instance increase the current value by 1 or any other number for that matter."
   ]
  },
  {
   "cell_type": "code",
   "execution_count": 58,
   "metadata": {},
   "outputs": [
    {
     "name": "stdout",
     "output_type": "stream",
     "text": [
      "11\n"
     ]
    }
   ],
   "source": [
    "total = 10\n",
    "total = total + 1\n",
    "print(total)"
   ]
  },
  {
   "cell_type": "markdown",
   "metadata": {},
   "source": [
    "<br>\n",
    "\n",
    "### Task 6\n",
    "\n",
    "You can do the same with string variables!\n",
    "\n",
    "1. Create a variable `name` with your first name\n",
    "2. Add your second name to `name` variable\n",
    "3. Print the `name` variable"
   ]
  },
  {
   "cell_type": "code",
   "execution_count": null,
   "metadata": {},
   "outputs": [],
   "source": [
    "name = 'Homer'\n",
    "name = name + ' Simpson'\n",
    "print(name)\n"
   ]
  },
  {
   "cell_type": "markdown",
   "metadata": {},
   "source": [
    "<br>\n",
    "\n",
    "### Task 7\n",
    "\n",
    "The `'\\n'` string is a special string that will produce a line break within a string.\n",
    "\n",
    "1. Update the string variable from Task 5 by adding the `'\\n'` string to itself.\n",
    "2. Update the variable by multiplying it 3 times.\n",
    "3. Print the variable\n",
    "\n",
    "Your output should look similar to this:\n",
    "\n",
    "<pre>Hello Homer Simpson. You are 39 years old. \n",
    "Hello Homer Simpson. You are 39 years old.\n",
    "Hello Homer Simpson. You are 39 years old.</pre>"
   ]
  },
  {
   "cell_type": "code",
   "execution_count": 7,
   "metadata": {
    "tags": []
   },
   "outputs": [
    {
     "ename": "NameError",
     "evalue": "name 'first_name' is not defined",
     "output_type": "error",
     "traceback": [
      "\u001b[0;31m---------------------------------------------------------------------------\u001b[0m",
      "\u001b[0;31mNameError\u001b[0m                                 Traceback (most recent call last)",
      "Cell \u001b[0;32mIn[7], line 1\u001b[0m\n\u001b[0;32m----> 1\u001b[0m msg \u001b[38;5;241m=\u001b[39m \u001b[38;5;124m'\u001b[39m\u001b[38;5;124mHello \u001b[39m\u001b[38;5;124m'\u001b[39m \u001b[38;5;241m+\u001b[39m first_name \u001b[38;5;241m+\u001b[39m \u001b[38;5;124m'\u001b[39m\u001b[38;5;124m \u001b[39m\u001b[38;5;124m'\u001b[39m \u001b[38;5;241m+\u001b[39m last_name \u001b[38;5;241m+\u001b[39m \u001b[38;5;124m'\u001b[39m\u001b[38;5;124m. You are \u001b[39m\u001b[38;5;124m'\u001b[39m \u001b[38;5;241m+\u001b[39m age \u001b[38;5;241m+\u001b[39m \u001b[38;5;124m'\u001b[39m\u001b[38;5;124m years old.\u001b[39m\u001b[38;5;124m'\u001b[39m\n\u001b[1;32m      2\u001b[0m msg \u001b[38;5;241m=\u001b[39m msg \u001b[38;5;241m+\u001b[39m \u001b[38;5;124m'\u001b[39m\u001b[38;5;130;01m\\n\u001b[39;00m\u001b[38;5;124m'\u001b[39m\n\u001b[1;32m      3\u001b[0m \u001b[38;5;28mprint\u001b[39m(msg\u001b[38;5;241m*\u001b[39m\u001b[38;5;241m3\u001b[39m)\n",
      "\u001b[0;31mNameError\u001b[0m: name 'first_name' is not defined"
     ]
    }
   ],
   "source": [
    "\n",
    "msg = 'Hello ' + first_name + ' ' + last_name + '. You are ' + age + ' years old.'\n",
    "msg = msg + '\\n'\n",
    "print(msg*3)"
   ]
  },
  {
   "cell_type": "markdown",
   "metadata": {},
   "source": [
    "\n",
    "&nbsp;\n",
    "\n",
    "&nbsp;\n",
    "\n",
    "## Input function\n",
    "\n",
    "The `input()` function allows you to ask the user for input. Whatever the user enters as input will be assigned to the \n",
    "variable that you specify before the input function call.\n",
    "\n",
    "\n",
    "Let us go through an example:\n",
    "1. Run the code block below.\n",
    "    \n",
    "    You will notice that the string `'What is your name? '`, which we entered as the argument to the `input()` function, is printed next to a box where the user can enter his input. </p>\n",
    "\n",
    "\n",
    "2. Enter your name in the box and hit the Enter key."
   ]
  },
  {
   "cell_type": "code",
   "execution_count": null,
   "metadata": {},
   "outputs": [],
   "source": [
    "name = input('What is your name? ')"
   ]
  },
  {
   "cell_type": "markdown",
   "metadata": {},
   "source": [
    "3. Print the `name` variable in the block below.\n",
    "\n",
    "    By adding `name = ` before the input function call, we told Python to assign the what the user enters as input to the variable `name`."
   ]
  },
  {
   "cell_type": "code",
   "execution_count": null,
   "metadata": {
    "tags": []
   },
   "outputs": [],
   "source": [
    "name = input ('what is your name?')\n",
    "print(name)"
   ]
  },
  {
   "cell_type": "markdown",
   "metadata": {},
   "source": [
    "<br>\n",
    "\n",
    "### Task 8\n",
    "\n",
    "1. Use the input function to **ask the user** for their favourite food, colour and book\n",
    "2. Use the `print()` function to print a statement like below **based on their answer**.\n",
    "\n",
    "<pre>Your favourite food is pizza\n",
    "Your favourite colour is blue\n",
    "Your favourite book is Harry Potter and the Philosopher's Stone</pre>"
   ]
  },
  {
   "cell_type": "code",
   "execution_count": null,
   "metadata": {},
   "outputs": [],
   "source": [
    "fav_food = input('What is your favourite food?')\n",
    "fav_colour = input('What is your favourite colour?')\n",
    "fav_book = input('What is your favourite book?')\n"
   ]
  },
  {
   "cell_type": "code",
   "execution_count": null,
   "metadata": {},
   "outputs": [
    {
     "name": "stdout",
     "output_type": "stream",
     "text": [
      "Your favourite food is pizza\n",
      "Your favourite colour is blue\n",
      "Your favourite book is catcher in the rye\n"
     ]
    }
   ],
   "source": [
    "print('Your favourite food is ' + fav_food)\n",
    "print('Your favourite colour is ' + fav_colour)\n",
    "print('Your favourite book is ' + fav_book)"
   ]
  },
  {
   "cell_type": "markdown",
   "metadata": {},
   "source": [
    "<br>\n",
    "\n",
    "### input function crashing jupyter notebook"
   ]
  },
  {
   "cell_type": "markdown",
   "metadata": {},
   "source": [
    "When using the input function in a cell, always enter a value and hit the enter key before changing the code inside the cell. Running a cell with the input function, not entering a value and then changing the code will make the cell wait for the input indefinetly. There is no way to fix this apart from restarting the kernel of the jupyter notebook."
   ]
  },
  {
   "cell_type": "code",
   "execution_count": null,
   "metadata": {},
   "outputs": [],
   "source": [
    " "
   ]
  },
  {
   "cell_type": "markdown",
   "metadata": {},
   "source": [
    "<div class=\"alert alert-block alert-info\" style=\"background-color:#ECECEB; color:#3F3F3F; width:90%; padding:50px;-webkit-border-radius:5px\">\n",
    "\n",
    "### Final task: Please give us your feedback!\n",
    "\n",
    "Upon completing the survey, **you will receive the link to the solution file**, to check how your code compares to the sample solution.\n",
    "\n",
    "In order to adapt our training to your needs and provide the most valuable learning experience for you, we depend on your feedack.\n",
    "\n",
    "We would be grateful if you could take **1 min** before the end of the workshop to get your feedback! \n",
    "\n",
    "<a href=\"https://lse.eu.qualtrics.com/jfe/form/SV_2beTiFd70AlRe5M?coursename=Python Fundamentals 2: String Variables &topic=Python&link=https://lsecloud-my.sharepoint.com/:u:/g/personal/m_wiemers_lse_ac_uk/EUHg6yorYaxBtacMucn8VpkBtYA6CZSoYvMFpv8MjJDZsg?e=EpmKxz&prog=DS&version=23-24\"><b>Click here to open the survey</b></a>"
   ]
  },
  {
   "cell_type": "markdown",
   "metadata": {},
   "source": [
    "\n",
    "&nbsp;\n",
    "\n",
    "&nbsp;\n",
    "\n",
    "\n",
    "### Bonus task: F-strings\n",
    "\n",
    "1. Search online on how to use f-strings in Python.\n",
    "2. Update your code for task 8 and use an f-string to print only one statement for all three, favourite food, colour and book.\n"
   ]
  },
  {
   "cell_type": "code",
   "execution_count": null,
   "metadata": {},
   "outputs": [],
   "source": [
    "fav_food = input('Your favourite food: ')\n",
    "fav_colour = input('Your favourite colour: ')\n",
    "fav_book = input('Your favourite book: ')\n",
    "print(f'Your favourite food is {fav_food}. Your favour colour is {fav_colour}. Your favourite book is \"{fav_book}\".')\n"
   ]
  },
  {
   "cell_type": "code",
   "execution_count": null,
   "metadata": {},
   "outputs": [],
   "source": []
  }
 ],
 "metadata": {
  "kernelspec": {
   "display_name": "Python 3 (ipykernel)",
   "language": "python",
   "name": "python3"
  },
  "language_info": {
   "codemirror_mode": {
    "name": "ipython",
    "version": 3
   },
   "file_extension": ".py",
   "mimetype": "text/x-python",
   "name": "python",
   "nbconvert_exporter": "python",
   "pygments_lexer": "ipython3",
   "version": "3.11.4"
  },
  "vscode": {
   "interpreter": {
    "hash": "8db1f09a32d6b35fc63d81a5bbd5fe6d51c44c284dda5c048030b81f332a96ab"
   }
  }
 },
 "nbformat": 4,
 "nbformat_minor": 4
}
