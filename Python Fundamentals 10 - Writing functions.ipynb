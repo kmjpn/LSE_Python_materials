{
 "cells": [
  {
   "cell_type": "markdown",
   "metadata": {},
   "source": [
    "<div class=\"alert alert-block alert-info\" style=\"background-color: #323031; color:#ffffff; padding:50px; -webkit-border-radius:5px; width:90%\">\n",
    "\n",
    "\n",
    "## Pre-Sessional Python Workshops\n",
    "\n",
    "The Python pre-sessional workshops will teach you the fundamental data types and programming techniques that are necessary to succeed on any real-world coding project/challenge. The knowledge and skills that you develop in this series will form the foundation for any data analysis, visualisation or software development project in Python.\n",
    "\n",
    "For more information about the Python pre-sessional workshops and instructions on how to install Python on your personal laptop, have a look at the [Python Pre-sessional website](https://dsl-python-presessional.streamlit.app/)\n",
    "\n",
    "\n",
    "### Why learn Python?\n",
    "\n",
    "Python's popularity has seen a remarkable rise since its inception in the late 1990's and has established itself as one of the most widely used languages in the last 10 years. It is currently ranked as one of the top 2 programming languages by the most common programming language rankings. It is now widely used not only for Data Science, where it is leading the field together with R, but also to develop software in a more general sense. If you would like to learn more about how Python can be applied for Data Science and why it has evolved to one of the most popular programming languages overall, have a look at [this section](https://dsl-python-presessional.streamlit.app/Why_Learn_Python) of the Python Pre-Sessional website.\n",
    "\n",
    "#### Program WORDLE in Python\n",
    "In the final step of the Python Fundamental series, you will apply your Python skills to create WORDLE in Python. To develop Wordle in Python, you will have to combine most of the techniques that you have learned in the notebooks in a creative way.\n",
    "    \n",
    "See the video below on what the final game could look like.\n",
    "    \n",
    "<img src=\"https://www.dropbox.com/s/w8bms25985573m2/wordle.gif?raw=1\" height=\"250px\">\n",
    "\n",
    "<br>\n",
    "\n",
    "<br>\n",
    "\n",
    "\n",
    "### Earn your Python certificate\n",
    "\n",
    "The Python Fundamentals series consists of 10 different jupyter notebooks that each teach a different topic. After having completed the series you can claim an online certificate to provide evidence of your Python skills on e.g. LinkdedIN. Please email digital.skills.lab@lse.ac.uk to claim your certificate. \n",
    "\n",
    "There are two types of certificates you can claim. Learners that have completed all Python notebooks apart from the coding challenges notebook, can claim the Python Fundamentals Attendance Badge, which provides evidence of you having completed all exercises apart from the coding challenge. Learners that have completed *at least one* of the coding challenges, can claim the Python Fundamentals Knowledge Badge. This badge provides evidence of having successfully applied the fundamental Python skills to a more complex coding project. This is to highlight that in order to solve the final coding challenges a deeper understanding of the acquired coding techniques and advanced proficiency in their practical application are required.\n",
    "\n",
    "<img src=\"https://www.dropbox.com/scl/fi/lzwg7wvmlw06jzuacj180/progress_pf10.png?rlkey=aksdhzeif1skp11b49eaj4jos&raw=1\" height=\"250px\">\n",
    "\n",
    "\n",
    "### Continue to learn Python\n",
    "\n",
    "Once you finished the Python Fundamentals series, you can progress to the Python Data Wrangling and Python Visualisation series to continue to learn with the support of our Python experts on campus or learn with the online learning platform <a href=\"https://dataquest.io\">Dataquest</a>. \n",
    "\n",
    "\n"
   ]
  },
  {
   "cell_type": "markdown",
   "metadata": {},
   "source": [
    "<div class=\"alert alert-block alert-info\" style=\"background-color: #f2f2f2; color:#3F3F3F; width:90%; padding:50px; -webkit-border-radius:5px\">\n",
    "\n",
    "## Python Fundamentals 10 - Writing Functions\n",
    "\n",
    "In the previous workshops, you have worked with many of the built-in Python functions, like for instance, `str()`, `int()`, `float()`, `print()`, `min()`, `len()` etc. This workshop will teach you how to write your own functions.\n",
    "\n",
    "If you would like to know more about how you can use Python for Data Science and how to install Python on your Mac or Windows, have a look at [this website](https://tinyurl.com/python-dsl).\n",
    "\n",
    "**After this workshop, you will be able to**:\n",
    "- describe how functions can help you write better code\n",
    "- describe the main elements of functions in Python\n",
    "- write your own functions\n",
    "\n",
    "<b>What to do when getting stuck</b>:\n",
    "    <ol>\n",
    "        <li>Ask <b>fellow students</b> for help, useful resources and to bounce off ideas</li>\n",
    "        <li>Ask the <b>trainer</b> if you struggle to find a solution.</li>\n",
    "        <li><b>Search online:</b></li>\n",
    "        <ol>\n",
    "            <li>The answer box on the top of Google's results page</li>\n",
    "            <li><a href=\"https://www.stackoverflow.com\">stackoverflow.com</a> (task-specific solutions)</li>\n",
    "            <li><a href=\"https://www.w3schools.com\">w3schools.com</a> (basic python questions)</li>\n",
    "            <li><a href=\"https://www.realpython.com\">realpython.com</a> (topic-based tutorials)</li>\n",
    "        </ol>\n",
    "    </ol>\n",
    "\n",
    "<br>\n",
    "<br>\n",
    "<div style=\"background-color:#DC143C; border-radius:10px; padding:10px; color:white\">\n",
    "<h5>Guidance on ChatGPT Usage: From R to Python</h5>\n",
    "<p>For total programming beginners, we firmly discourage the use of ChatGPT to learn fundamental coding concepts. However, if you're transitioning from R to Python, while ChatGPT can be a valuable resource, be wary of becoming overly reliant on it. Writing code in Python often demands a deeper understanding of loops and crafting custom functions, compared to R's more straightforward syntax. Relying too much on automated help can hinder your ability to grasp and master these nuances. Ensure you balance assistance with genuine self-effort for optimal learning.</p>\n",
    "</div>\n",
    "\n"
   ]
  },
  {
   "cell_type": "markdown",
   "metadata": {},
   "source": [
    "<img src=\"https://www.dropbox.com/s/10h4dddt4hoshmo/functions.jpg?raw=1\" width=\"800px\">"
   ]
  },
  {
   "cell_type": "markdown",
   "metadata": {},
   "source": [
    "<br>\n",
    "\n",
    "## Creating functions with the def statement\n",
    "\n",
    "In the previous workshops, you have learned that we can use functions as a tool to help us write Python code by performing a specific task for us. Functions take an input, process that input in a specific way and then generate an output. In this session you will learn how functions work, what is going on behind the scenes when we call a function in Python and how to write your own functions. \n",
    "\n",
    "Below is an example of a very simple function, which doesn't take any input and only prints a string. We use the `def` keyword at the beginning of our function for Python to know that we are going to define a function. Following `def`, we provide the name of the function and empty parentheses. The `def` statement has to end with a colon. \n",
    "\n",
    "All the code that should be part of our function, has to be indented in the subsequent lines. In this example, the function only runs the statement `print('You rock!')`.\n",
    "\n",
    "Python knows that line 4 is not part of the `praise()` function itself, since it is not indented. With line 4, we call the `praise()` function and as a consequence `print('You rock')` in line 2 is being executed, which creates the output: `You rock!`\n",
    "\n"
   ]
  },
  {
   "cell_type": "code",
   "execution_count": 2,
   "metadata": {},
   "outputs": [
    {
     "name": "stdout",
     "output_type": "stream",
     "text": [
      "You rock!\n"
     ]
    }
   ],
   "source": [
    "def praise():\n",
    "    print('You rock!')\n",
    "\n",
    "praise()"
   ]
  },
  {
   "cell_type": "markdown",
   "metadata": {},
   "source": [
    "Let us now make our function more flexible by adding an input parameter for the name of the person we want to praise. We use `name` as the parameter and place it inside the parentheses following the name of the function.\n",
    "\n",
    "When the user now calls the `praise()` function, they have to provide a value for the `name` parameter inside the parentheses. The string is updated to an f-string so that we can use variables inside the string more easily."
   ]
  },
  {
   "cell_type": "code",
   "execution_count": 3,
   "metadata": {},
   "outputs": [
    {
     "name": "stdout",
     "output_type": "stream",
     "text": [
      "Hi Joe, you rock!\n"
     ]
    }
   ],
   "source": [
    "def praise(name):\n",
    "    print(f'Hi {name}, you rock!')\n",
    "\n",
    "praise('Joe')"
   ]
  },
  {
   "cell_type": "markdown",
   "metadata": {},
   "source": [
    "We can add another parameter to specify how we praise the user."
   ]
  },
  {
   "cell_type": "code",
   "execution_count": 4,
   "metadata": {},
   "outputs": [
    {
     "name": "stdout",
     "output_type": "stream",
     "text": [
      "Hi Joe, you're awesome!\n"
     ]
    }
   ],
   "source": [
    "def praise(name, praise):\n",
    "    print(f'Hi {name}, {praise}!')\n",
    "\n",
    "praise('Joe', 'you\\'re awesome')"
   ]
  },
  {
   "cell_type": "markdown",
   "metadata": {},
   "source": [
    "<br>\n",
    "\n",
    "<br>\n",
    "\n",
    "## Working with the ios and android app dataset\n",
    "\n",
    "Below we have created a list with data for five different apps from the App Store. The list has data on the app name, price, downloads, overall rating and genre.\n",
    "\n",
    "Our goal is to generate summary statistics for the numerical columns of the game and music apps. \n",
    "\n",
    "We will create separate functions to:\n",
    "* calculate the gross revenue\n",
    "* extract the data for game apps\n",
    "* extract the rating column and calculate the mean, min and max of the ratings"
   ]
  },
  {
   "cell_type": "code",
   "execution_count": 2,
   "metadata": {},
   "outputs": [],
   "source": [
    "app_data = [    \n",
    "    [\"VSCO X\", \"$19.99\", \"2,000,000\", 4.7, \"Photography\"],\n",
    "    [\"TouchRetouch\", \"$1.99\", \"1,500,000\", 4.8, \"Photography\"],\n",
    "    [\"Afterlight 2\", \"$2.99\", \"1,250,000\", 4.6, \"Photography\"],\n",
    "    [\"Things 3\", \"$9.99\", \"1,000,000\", 4.8, \"Productivity\"],\n",
    "    [\"PDF Expert\", \"$9.99\", \"800,000\", 4.7, \"Productivity\"],\n",
    "    [\"Ulysses\", \"$5.99\", \"700,000\", 4.6, \"Productivity\"],\n",
    "    [\"Stardew Valley\", \"$4.99\", \"2,500,000\", 4.8, \"Game\"],\n",
    "    [\"Monument Valley 2\", \"$4.99\", \"2,000,000\", 4.9, \"Game\"],\n",
    "    [\"Bloons TD 6\", \"$4.99\", \"3,000,000\", 4.7, \"Game\"],\n",
    "    [\"Streaks\", \"$4.99\", \"500,000\", 4.7, \"Health & Fitness\"],\n",
    "    [\"MyFitnessPal Premium\", \"$9.99\", \"1,800,000\", 4.5, \"Health & Fitness\"],\n",
    "    [\"7 Minute Workout Pro\", \"$3.99\", \"1,200,000\", 4.6, \"Health & Fitness\"]\n",
    "]"
   ]
  },
  {
   "cell_type": "markdown",
   "metadata": {},
   "source": [
    "<br>\n",
    "\n",
    "### Task 1 - Calculating gross sales per app\n",
    "\n",
    "Write a function called `gross_sales` that calculates the gross sales, i.e. the total sales for a selected app. \n",
    "\n",
    "The user has to pass the specific row from the `app_data` list to the function. The function then prints the total sales. \n",
    "\n",
    "You will have to manipualte the string values from the selected app/list to convert them to numbers before calculating the total sales!\n",
    "\n",
    "Check that your functions works correctly:\n",
    "* The expected value for VSCO X is 19980000.0\n",
    "* The expected value for MyFitnesspal Premium is 1782000.0"
   ]
  },
  {
   "cell_type": "code",
   "execution_count": 3,
   "metadata": {},
   "outputs": [
    {
     "name": "stdout",
     "output_type": "stream",
     "text": [
      "The gross sales for VSCO X are: $39,980,000.00\n"
     ]
    }
   ],
   "source": [
    "def gross_sales(app_info):\n",
    "    # Extract the price and downloads from the app_info list\n",
    "    price = float(app_info[1].replace(\"$\", \"\"))\n",
    "    downloads = int(app_info[2].replace(\",\", \"\"))\n",
    "    \n",
    "    # Calculate gross sales\n",
    "    total_sales = price * downloads\n",
    "    \n",
    "    # Print the total sales\n",
    "    print(f\"The gross sales for {app_info[0]} are: ${total_sales:,.2f}\")\n",
    "\n",
    "\n",
    "    "
   ]
  },
  {
   "cell_type": "markdown",
   "metadata": {},
   "source": [
    "<br>\n",
    "\n",
    "## Returning values\n",
    "\n",
    "The functions we have created so far only print values. The print() function only displays a value. It does not return it, i.e. we couldn't assign it to a variable. We usually use functions in order to make some changes to the objects, e.g. datasets, that we are working with. To retrieve a value from a function, we can incorporate a return statement in the last line of the function. \n",
    "\n",
    "Below is an example of a function that takes as input two numbers using the parameters `n1` and `n2`, assigns the product of both to the variable `n1_n2_prod` and then uses the `return` statement to return the value of the `n1_n2_prod` variable. "
   ]
  },
  {
   "cell_type": "code",
   "execution_count": null,
   "metadata": {},
   "outputs": [],
   "source": [
    "def product(n1, n2):\n",
    "    n1_n2_prod = n1 * n2\n",
    "    return n1_n2_prod\n"
   ]
  },
  {
   "cell_type": "markdown",
   "metadata": {},
   "source": [
    "If we now run the `product` function, it returns the value of the `n1_n2_prod` variable."
   ]
  },
  {
   "cell_type": "code",
   "execution_count": null,
   "metadata": {},
   "outputs": [
    {
     "data": {
      "text/plain": [
       "6"
      ]
     },
     "metadata": {},
     "output_type": "display_data"
    }
   ],
   "source": [
    "product(3, 2)"
   ]
  },
  {
   "cell_type": "markdown",
   "metadata": {},
   "source": [
    "We can assign this value to a variable so that we can use it later on in our code. If you change the return statement to a print statement, the `prod` variable would have the value `None` assigned to it. This is why we have to use a return statement to retrieve values from a function."
   ]
  },
  {
   "cell_type": "code",
   "execution_count": null,
   "metadata": {},
   "outputs": [
    {
     "name": "stdout",
     "output_type": "stream",
     "text": [
      "6\n"
     ]
    }
   ],
   "source": [
    "prod = product(3, 2)\n",
    "print(prod)"
   ]
  },
  {
   "cell_type": "markdown",
   "metadata": {},
   "source": [
    "<br>\n",
    "\n",
    "### Task 2 - Returning gross sales per app\n",
    "\n",
    "1. Update your `gross_sales()` function to use a return statement instead of a print statement.\n",
    "2. Use a for loop to calculate the total gross sales for all apps. Use the variable `total_gross_sales` for this,\n",
    "3. Print `total_gross_sales`. The result is 131567500.\n"
   ]
  },
  {
   "cell_type": "code",
   "execution_count": 4,
   "metadata": {},
   "outputs": [
    {
     "name": "stdout",
     "output_type": "stream",
     "text": [
      "131567500.0\n"
     ]
    }
   ],
   "source": [
    "def gross_sales(app_info):\n",
    "    # Extract the price and downloads from the app_info list\n",
    "    price = float(app_info[1].replace(\"$\", \"\"))\n",
    "    downloads = int(app_info[2].replace(\",\", \"\"))\n",
    "    \n",
    "    # Calculate and return gross sales\n",
    "    return price * downloads\n",
    "\n",
    "# Calculate total gross sales for all apps using a for loop\n",
    "total_gross_sales = 0\n",
    "for app_info in app_data:\n",
    "    total_gross_sales += gross_sales(app_info)\n",
    "\n",
    "# Print the total gross sales\n",
    "print(total_gross_sales)\n",
    "\n",
    "        "
   ]
  },
  {
   "cell_type": "markdown",
   "metadata": {},
   "source": [
    "<br>\n",
    "\n",
    "\n",
    "### Task 3 - Extracting app type\n",
    "\n",
    "We will continue exploring the `app_data` by extracting the game apps.\n",
    "\n",
    "Use the below function to extract the game apps from the `app_data` list and store it under the name `game_apps`.\n",
    "\n",
    "Step-by-step walkthrough of the `extract_app_type()` function:\n",
    "\n",
    "1. The first step before the for loop is to initialize an emtpy list `app_type_data` for the specific app type we want to extract from the `app_data` data. Looking at the `app_data` list of lists, you can see that there are four different types of apps (Photography, Productivity, Game, Health % Fitness). In the sample we pass `'Game'` as the app type we want to extract from the `app_data`. This means, the function will extract the rows from `app_data` where the app type (the last value in each row) is equal to `app_type` which in this case is `'Game'`.\n",
    "2. The function loops over the rows of the data that is being passed to it, which in this case is the `app_data` data.\n",
    "    a. On each iteration we test whether the last value in a row is equal to the `app_type` value (in this case `'Game'`).\n",
    "    b. If the last value is equal to `app_type` the row will be appended to the `app_type_data` list.\n",
    "    \n",
    "3. In the final step the function returns the `app_type_data` list.\n",
    "\n",
    "Apply the `extract_app_type()` to extract the Game apps from the `app_data` list of lists."
   ]
  },
  {
   "cell_type": "code",
   "execution_count": 5,
   "metadata": {},
   "outputs": [
    {
     "name": "stdout",
     "output_type": "stream",
     "text": [
      "['Stardew Valley', '$4.99', '2,500,000', 4.8, 'Game']\n",
      "['Monument Valley 2', '$4.99', '2,000,000', 4.9, 'Game']\n",
      "['Bloons TD 6', '$4.99', '3,000,000', 4.7, 'Game']\n"
     ]
    }
   ],
   "source": [
    "def extract_app_type(data, app_type):\n",
    "    app_type_data = []\n",
    "    for row in data:\n",
    "        if row[-1] == app_type:\n",
    "            app_type_data.append(row)\n",
    "    return app_type_data\n",
    "    \n",
    "\n",
    "# Extract game apps using the extract_app_type function\n",
    "game_apps = extract_app_type(app_data, 'Game')\n",
    "\n",
    "# Print the extracted game apps\n",
    "for app in game_apps:\n",
    "    print(app)\n",
    "\n",
    "\n"
   ]
  },
  {
   "cell_type": "markdown",
   "metadata": {},
   "source": [
    "<br>\n",
    "\n",
    "\n",
    "### Task 4 - Extracting columns\n",
    "\n",
    "In the previous step, we have created a subset of the `app_data` lists for only the games. In the next step, we will extract the rating data from the `game_apps` list.\n",
    "\n",
    "1. Write a function that takes as input the data and the index of the column. This is not an actual _column_ index, since a list of lists has no columns or rows for that matter. You can still interpret the list of lists to have rows and columns since it represents tabular data, where each row/list has the same number of elements. Each row, which represents an app has 6 elements. You could therefore interpret the first element from each row together as the first column. Therefore, the column index for the app name would be 0, since the app name is the first value of each row. Inside the function, all values belonging to the particular index, should be stored in a new list, which the function should return.\n",
    "2. Use the function to extract the values from the rating column and store under the name **game_ratings**."
   ]
  },
  {
   "cell_type": "code",
   "execution_count": 8,
   "metadata": {},
   "outputs": [
    {
     "name": "stdout",
     "output_type": "stream",
     "text": [
      "4.8\n",
      "4.9\n",
      "4.7\n"
     ]
    }
   ],
   "source": [
    "def extract_column_data(data, column_index):\n",
    "    column_data = [row[column_index] for row in data]\n",
    "    return column_data\n",
    "\n",
    "# Extract ratings using the extract_column_data function\n",
    "game_ratings = extract_column_data(game_apps, 3)\n",
    "\n",
    "# Print the extracted game ratings\n",
    "for rating in game_ratings:\n",
    "    print(rating)\n",
    "\n",
    "\n",
    "\n"
   ]
  },
  {
   "cell_type": "markdown",
   "metadata": {},
   "source": [
    "<br>\n",
    "\n",
    "## Why use functions?\n",
    "\n",
    "Using functions makes code easier to read for you, collaborators or users. It provides a way to split your script into separate sections for each function.  We can reuse our functions throughout our script to perform the same task. If we would create another subset for the music app data, we can use the functions for that, which would make it easier to identify that the code performs the same task at different points in your script.\n",
    "\n",
    "If you identify a bug in your function it is also easier to fix, since the code isn't used in multiple points in your script, but only where the function is defined. Using functions also saves a lot of key-strokes or copy-pasting chunks of chode.\n",
    "\n",
    "Another advantage of functions is that they can be packaged and made available to other programmers or for your self centrally through your python distribution.\n",
    "\n",
    "&nbsp;"
   ]
  },
  {
   "cell_type": "markdown",
   "metadata": {},
   "source": [
    "<br>\n",
    "\n",
    "### Task 5 - Summary stats\n",
    "\n",
    "In the last step, we are going to use the extracted rating values to calculate some summary statistics.\n",
    "\n",
    "1. Complete the `summary()` function. The function takes as input the values from a column and is then supposed to calculate the mean, median and standard deviation using the `mean()`, `median` and `stdev()` function from the **statistics** package. Combine the statistics into a dictionary and return the dictionary.\n",
    "2. Use the `summary()` function to calculate the mean, median and standard deviation of the rating column.\n",
    "3. Use the three functions to calculate the mean, median and standard deviation of the ratings column of the Productivity apps. "
   ]
  },
  {
   "cell_type": "code",
   "execution_count": 13,
   "metadata": {},
   "outputs": [
    {
     "data": {
      "text/plain": [
       "{'Mean': 4.8, 'Median': 4.8, 'Standard Deviation': 0.10000000000000009}"
      ]
     },
     "execution_count": 13,
     "metadata": {},
     "output_type": "execute_result"
    }
   ],
   "source": [
    "from statistics import mean, median, stdev\n",
    "\n",
    "def summary(col):\n",
    "    # Calculate mean, median, and standard deviation\n",
    "    mean_val = mean(col)\n",
    "    median_val = median(col)\n",
    "    stdev_val = stdev(col)\n",
    "    \n",
    "    # Create a dictionary to store the summary statistics\n",
    "    summary_stats = {\n",
    "        \"Mean\": mean_val,\n",
    "        \"Median\": median_val,\n",
    "        \"Standard Deviation\": stdev_val\n",
    "    }\n",
    "    \n",
    "    return summary_stats\n",
    "\n",
    "summary(game_ratings)"
   ]
  },
  {
   "cell_type": "markdown",
   "metadata": {},
   "source": [
    "<div class=\"alert alert-block alert-info\" style=\"background-color:#ECECEB; color:#3F3F3F; width:90%; padding:50px; -webkit-border-radius:5px\">\n",
    "\n",
    "## Final task: Please give us your feedback!\n",
    "\n",
    "Upon completing the survey, **you will receive the link to the solution file**, to check how your code compares to the sample solution.\n",
    "\n",
    "In order to adapt our training to your needs and provide the most valuable learning experience for you, we depend on your feedack.\n",
    "\n",
    "We would be grateful if you could take **1 min** before the end of the workshop to get your feedback! \n",
    "\n",
    "<a href=\"https://lse.eu.qualtrics.com/jfe/form/SV_2beTiFd70AlRe5M?coursename=Python Fundamentals 10: Writing functions &topic=Python&link=https://lsecloud-my.sharepoint.com/:u:/g/personal/m_wiemers_lse_ac_uk/EdnfzkXiGRVAqn0Z0bPcwrMBFrVrGpF9hWfNWeWEdSL4SA?e=HbVYIZ&prog=DS&version=23-24\"><b>Click here to open the survey</b></a>\n"
   ]
  }
 ],
 "metadata": {
  "kernelspec": {
   "display_name": "Python 3 (ipykernel)",
   "language": "python",
   "name": "python3"
  },
  "language_info": {
   "codemirror_mode": {
    "name": "ipython",
    "version": 3
   },
   "file_extension": ".py",
   "mimetype": "text/x-python",
   "name": "python",
   "nbconvert_exporter": "python",
   "pygments_lexer": "ipython3",
   "version": "3.11.4"
  },
  "vscode": {
   "interpreter": {
    "hash": "6bfbe47bd08290686626768386311ceb83f3a0dbecee84d146c554190cea57e3"
   }
  }
 },
 "nbformat": 4,
 "nbformat_minor": 4
}
