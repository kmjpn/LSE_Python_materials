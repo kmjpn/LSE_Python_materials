{
 "cells": [
  {
   "cell_type": "markdown",
   "metadata": {},
   "source": [
    "<div class=\"alert alert-block alert-info\" style=\"background-color: #323031; color:#ffffff; padding:50px; -webkit-border-radius:5px; width:90%\">\n",
    "\n",
    "\n",
    "## Pre-Sessional Python Workshops\n",
    "\n",
    "The Python pre-sessional workshops will teach you the fundamental data types and programming techniques that are necessary to succeed on any real-world coding project/challenge. The knowledge and skills that you develop in this series will form the foundation for any data analysis, visualisation or software development project in Python.\n",
    "\n",
    "For more information about the Python pre-sessional workshops and instructions on how to install Python on your personal laptop, have a look at the [Python Pre-sessional website](https://dsl-python-presessional.streamlit.app/)\n",
    "\n",
    "\n",
    "### Why learn Python?\n",
    "\n",
    "Python's popularity has seen a remarkable rise since its inception in the late 1990's and has established itself as one of the most widely used languages in the last 10 years. It is currently ranked as one of the top 2 programming languages by the most common programming language rankings. It is now widely used not only for Data Science, where it is leading the field together with R, but also to develop software in a more general sense. If you would like to learn more about how Python can be applied for Data Science and why it has evolved to one of the most popular programming languages overall, have a look at [this section](https://dsl-python-presessional.streamlit.app/Why_Learn_Python) of the Python Pre-Sessional website.\n",
    "\n",
    "#### Program WORDLE in Python\n",
    "In the final step of the Python Fundamental series, you will apply your Python skills to create WORDLE in Python. To develop Wordle in Python, you will have to combine most of the techniques that you have learned in the notebooks in a creative way.\n",
    "    \n",
    "See the video below on what the final game could look like.\n",
    "    \n",
    "<img src=\"https://www.dropbox.com/s/w8bms25985573m2/wordle.gif?raw=1\" height=\"250px\">\n",
    "\n",
    "<br>\n",
    "\n",
    "<br>\n",
    "\n",
    "\n",
    "### Earn your Python certificate\n",
    "\n",
    "The Python Fundamentals series consists of 10 different jupyter notebooks that each teach a different topic. After having completed the series you can claim an online certificate to provide evidence of your Python skills on e.g. LinkdedIN. Please email digital.skills.lab@lse.ac.uk to claim your certificate. \n",
    "\n",
    "There are two types of certificates you can claim. Learners that have completed all Python notebooks apart from the coding challenges notebook, can claim the Python Fundamentals Attendance Badge, which provides evidence of you having completed all exercises apart from the coding challenge. Learners that have completed *at least one* of the coding challenges, can claim the Python Fundamentals Knowledge Badge. This badge provides evidence of having successfully applied the fundamental Python skills to a more complex coding project. This is to highlight that in order to solve the final coding challenges a deeper understanding of the acquired coding techniques and advanced proficiency in their practical application are required.\n",
    "\n",
    "<img src=\"https://www.dropbox.com/scl/fi/1gh2z4d11ktexzqda54kg/progress_pf04.png?rlkey=imdsbae7pw10a42q0yz8wd2nl&raw=1\" height=\"250px\">\n",
    "\n",
    "\n",
    "### Continue to learn Python\n",
    "\n",
    "Once you finished the Python Fundamentals series, you can progress to the Python Data Wrangling and Python Visualisation series to continue to learn with the support of our Python experts on campus or learn with the online learning platform <a href=\"https://dataquest.io\">Dataquest</a>. \n",
    "\n",
    "\n"
   ]
  },
  {
   "cell_type": "markdown",
   "metadata": {},
   "source": [
    "<div class=\"alert alert-block alert-info\" style=\"background-color: #f2f2f2; color:#3F3F3F; width:90%; padding:50px; -webkit-border-radius:5px\">\n",
    "\n",
    "\n",
    "# Python Fundamentals 4: Lists\n",
    "\n",
    "Lists are one of the most common Python objects and you will come across them in scripts for many types of purposes. \n",
    "\n",
    "A list is an object that enables you to store multiple values. One of the key features of lists is that they can contain any type of Python object.  \n",
    "\n",
    "**After having completed this session, you will be able to:**\n",
    "- create lists\n",
    "- add elements to a list\n",
    "- select a subset of elements from a list using indexing\n",
    "\n",
    "\n",
    "<b>What to do when getting stuck</b>:\n",
    "    <ol>\n",
    "        <li>Ask <b>fellow students</b> for help, useful resources and to bounce off ideas</li>\n",
    "        <li>Ask the <b>trainer</b> if you struggle to find a solution.</li>\n",
    "        <li><b>Search online:</b></li>\n",
    "        <ol>\n",
    "            <li>The answer box on the top of Google's results page</li>\n",
    "            <li><a href=\"https://www.stackoverflow.com\">stackoverflow.com</a> (task-specific solutions)</li>\n",
    "            <li><a href=\"https://www.w3schools.com\">w3schools.com</a> (basic python questions)</li>\n",
    "            <li><a href=\"https://www.realpython.com\">realpython.com</a> (topic-based tutorials)</li>\n",
    "        </ol>\n",
    "    </ol>\n",
    "\n",
    "<br>\n",
    "<br>\n",
    "<div style=\"background-color:#DC143C; border-radius:10px; padding:10px; color:white\">\n",
    "<h5>Guidance on ChatGPT Usage: From R to Python</h5>\n",
    "<p>For total programming beginners, we firmly discourage the use of ChatGPT to learn fundamental coding concepts. However, if you're transitioning from R to Python, while ChatGPT can be a valuable resource, be wary of becoming overly reliant on it. Writing code in Python often demands a deeper understanding of loops and crafting custom functions, compared to R's more straightforward syntax. Relying too much on automated help can hinder your ability to grasp and master these nuances. Ensure you balance assistance with genuine self-effort for optimal learning.</p>\n",
    "</div>\n",
    "\n",
    "\n"
   ]
  },
  {
   "cell_type": "markdown",
   "metadata": {},
   "source": [
    "<img src=\"https://db3pap007files.storage.live.com/y4mIo2IfOQHOUFtpgraXey-B3yYe-8IhJWLhL8RUALxZoH_u8G35hK9OVbnxwzKPq9w7wf-63f-jDkMewb0r0e2Mh_kpzm-oGEk5THtbmVNyF0f1aJIYs5cQINlWQnFZDcB0RtNCJ6WNfn_Kqo2Hy-qr_Nx-ZQn2ez6Cr9XC6ro4jBXceLOetPy8TQX1RZI9T_SfInVYKp6oaJR_NJmhO4rwg/intro_to_python_4_list.jpg?psid=1&width=293&height=195\" width=800px>"
   ]
  },
  {
   "cell_type": "markdown",
   "metadata": {},
   "source": [
    "<br>\n",
    "\n",
    "### Task 1 - Creating lists\n",
    "\n",
    "Below is the example code of how to create a **list** in Python. \n",
    "- The **brackets** indicate the start and end of the list. \n",
    "- The **comma** acts as a separator between each element.\n",
    "\n",
    "```python\n",
    "mj_no1hits = [\"Bad\", \"Billie Jean\", \"Dirty Diana\", \"Man in the Mirror\", \"You Are Not Alone\"]\n",
    "```\n",
    "<br>\n",
    "\n",
    "1. Create a list **mj_lps** with the values *Off the Wall, Thriller, Bad, Dangerous, History*\n",
    "2. Print the list"
   ]
  },
  {
   "cell_type": "code",
   "execution_count": 1,
   "metadata": {
    "tags": []
   },
   "outputs": [
    {
     "name": "stdout",
     "output_type": "stream",
     "text": [
      "['Off the Wall', 'Thriller', 'Bad', 'Dangerous', 'History']\n"
     ]
    }
   ],
   "source": [
    "mj_lps = [ \"Off the Wall\", \"Thriller\", \"Bad\", \"Dangerous\", \"History\"]\n",
    "print(mj_lps)"
   ]
  },
  {
   "cell_type": "markdown",
   "metadata": {},
   "source": [
    "<br>\n",
    "\n",
    "### Task 2 - Adding sold units\n",
    "\n",
    "With lists you can combine **any object** in Python, that means, you can combine, for instance, strings and numbers.\n",
    "\n",
    "The first version of the **mj_lps** list consists of only album names, i.e. strings. **Use the numerical variables** below to add the number of sold units (in Million) after each album name in the **mj_lps** list."
   ]
  },
  {
   "cell_type": "markdown",
   "metadata": {},
   "source": [
    "The printed list should look like this\n",
    "<pre>\n",
    "['Off the Wall', 20, 'Thriller', 66, 'Bad', 35, 'Dangerous', 32, 'History', 22]\n",
    "</pre>\n",
    "\n",
    "&nbsp;\n",
    "\n",
    "\n",
    "1. Copy paste your code to create the **mj_lps** list from the previous exercise\n",
    "2. Use the variables to add the number of sold units (in Million) after each album name.\n",
    "\n"
   ]
  },
  {
   "cell_type": "code",
   "execution_count": 2,
   "metadata": {},
   "outputs": [],
   "source": [
    "mj_lps = [ \"Off the Wall\", \"Thriller\", \"Bad\", \"Dangerous\", \"History\"]\n",
    "print(mj_lps)\n",
    "\n",
    "# number of sold units in Million for each album\n",
    "off_the_wall = 20\n",
    "thriller = 66\n",
    "bad = 35\n",
    "dangerous = 32\n",
    "history = 22"
   ]
  },
  {
   "cell_type": "code",
   "execution_count": 3,
   "metadata": {
    "tags": []
   },
   "outputs": [
    {
     "name": "stdout",
     "output_type": "stream",
     "text": [
      "['Off the Wall', 20, 'Thriller', 66, 'Bad', 35, 'Dangerous', 32, 'History', 22]\n"
     ]
    }
   ],
   "source": [
    "# copy paste your code from task 1 to create the mj_lps list and then add the sold units\n",
    "mj_lps = [ \"Off the Wall\", 20, \"Thriller\",66, \"Bad\",35, \"Dangerous\",32, \"History\",22]\n",
    "print(mj_lps)\n",
    "\n",
    "# using the numerical variables\n",
    "# print the mj_lps list"
   ]
  },
  {
   "cell_type": "markdown",
   "metadata": {},
   "source": [
    "<br>\n",
    "\n",
    "### Task 3 - Indexing single elements\n",
    "\n",
    "The elements within a list can be accessed with **square brackets** following the list name. The **number inside the square brackets** indicates the position of the element from the list you want to select.\n",
    "\n",
    "Run the command. Which element from the **mj_lps** list do you expect to be printed?\n",
    "\n"
   ]
  },
  {
   "cell_type": "code",
   "execution_count": 4,
   "metadata": {
    "tags": []
   },
   "outputs": [
    {
     "name": "stdout",
     "output_type": "stream",
     "text": [
      "20\n"
     ]
    }
   ],
   "source": [
    "print(mj_lps[1])"
   ]
  },
  {
   "cell_type": "markdown",
   "metadata": {},
   "source": [
    "\n",
    "\n",
    "Counterintuitively, in Python indexing always starts with 0! Use the next code block to print the first and third element of the **mj_lps** list."
   ]
  },
  {
   "cell_type": "code",
   "execution_count": 5,
   "metadata": {
    "tags": []
   },
   "outputs": [
    {
     "name": "stdout",
     "output_type": "stream",
     "text": [
      "Thriller\n"
     ]
    }
   ],
   "source": [
    "# print the first element\n",
    "print(mj_lps[2])"
   ]
  },
  {
   "cell_type": "code",
   "execution_count": 6,
   "metadata": {
    "tags": []
   },
   "outputs": [
    {
     "name": "stdout",
     "output_type": "stream",
     "text": [
      "66\n"
     ]
    }
   ],
   "source": [
    "# print the second element\n",
    "print(mj_lps[3])\n"
   ]
  },
  {
   "cell_type": "markdown",
   "metadata": {},
   "source": [
    "<br>\n",
    "\n",
    "### Task 4 - Negative indexing\n",
    "\n",
    "Negative indexing, that means, adding a minus before the index, allows you to index a list backwards. **Negative indexing starts with -1**. \n",
    "\n",
    "Print the last and 2nd to last element from the **mj_lps** list."
   ]
  },
  {
   "cell_type": "code",
   "execution_count": 7,
   "metadata": {
    "tags": []
   },
   "outputs": [
    {
     "name": "stdout",
     "output_type": "stream",
     "text": [
      "22\n"
     ]
    }
   ],
   "source": [
    "# print last element\n",
    "print(mj_lps[-1])"
   ]
  },
  {
   "cell_type": "code",
   "execution_count": 8,
   "metadata": {
    "tags": []
   },
   "outputs": [
    {
     "name": "stdout",
     "output_type": "stream",
     "text": [
      "History\n"
     ]
    }
   ],
   "source": [
    "# print 2nd to last element\n",
    "print(mj_lps[-2])"
   ]
  },
  {
   "cell_type": "markdown",
   "metadata": {},
   "source": [
    "<br>\n",
    "\n",
    "### Task 5 - Calculate the average sales\n",
    "\n",
    "1. Create a new variable `mj_sales_total` with the total sales of all Michael Jackson LP's. Select the values of the list with indexing from the `mj_lps` list.\n",
    "2. Create a another variable `mj_sales_avg` to calculate the average of the sales.\n",
    "3. Print both variables"
   ]
  },
  {
   "cell_type": "code",
   "execution_count": 12,
   "metadata": {
    "tags": []
   },
   "outputs": [
    {
     "name": "stdout",
     "output_type": "stream",
     "text": [
      "175\n",
      "35.0\n"
     ]
    }
   ],
   "source": [
    "mj_sales_total = mj_lps[1]+mj_lps[3]+mj_lps[5]+mj_lps[7]+mj_lps[9]\n",
    "print(mj_sales_total)\n",
    "mj_sales_avg = (mj_lps[1]+mj_lps[3]+mj_lps[5]+mj_lps[7]+mj_lps[9])/5\n",
    "print(mj_sales_avg)"
   ]
  },
  {
   "cell_type": "markdown",
   "metadata": {},
   "source": [
    "&nbsp;\n",
    "\n",
    "\n",
    "## Slicing\n",
    "\n",
    "Assuming we have a list with the characters a - f.\n",
    "\n",
    "```python\n",
    "x = ['a', 'b', 'c', 'd', 'e', 'f']\n",
    "```\n",
    "\n",
    "We can use an expression as below in order to index a series of elements (a slice). \n",
    "\n",
    "```python\n",
    "x[1:4]\n",
    "```\n",
    "In this example, 1 is the position of the **first** element and 4 the position of the **last** element in the slice. You would expect that this will return the elements 'b', 'c', 'd', 'e'. However, this will return the values  'b', 'c', 'd', since Python **always excludes the last element from the slice**.\n",
    "\n",
    "```python\n",
    "print(x[1:4])\n",
    "```\n",
    "<pre>['b', 'c', 'd']</pre>"
   ]
  },
  {
   "cell_type": "markdown",
   "metadata": {},
   "source": [
    "In order to print the second to fifth element, you must use the below expression.\n",
    "\n",
    "```python\n",
    "x[1:5]\n",
    "```\n",
    "<pre>['b', 'c', 'd', 'e']</pre>"
   ]
  },
  {
   "cell_type": "markdown",
   "metadata": {},
   "source": [
    "### A few more slicing examples"
   ]
  },
  {
   "cell_type": "markdown",
   "metadata": {},
   "source": [
    "To select the elements from index 2 to 5"
   ]
  },
  {
   "cell_type": "code",
   "execution_count": 13,
   "metadata": {},
   "outputs": [
    {
     "name": "stdout",
     "output_type": "stream",
     "text": [
      "['Thriller', 66, 'Bad', 35]\n"
     ]
    }
   ],
   "source": [
    "print(mj_lps[2:6])"
   ]
  },
  {
   "cell_type": "markdown",
   "metadata": {},
   "source": [
    "To select elements at index 4 to 7"
   ]
  },
  {
   "cell_type": "code",
   "execution_count": 14,
   "metadata": {},
   "outputs": [
    {
     "name": "stdout",
     "output_type": "stream",
     "text": [
      "['Bad', 35, 'Dangerous', 32]\n"
     ]
    }
   ],
   "source": [
    "print(mj_lps[4:8])"
   ]
  },
  {
   "cell_type": "markdown",
   "metadata": {},
   "source": [
    "When **slicing from the first element**, you can omit the first index! The expression below will print a slice of all elements up to index 3."
   ]
  },
  {
   "cell_type": "code",
   "execution_count": 15,
   "metadata": {},
   "outputs": [
    {
     "name": "stdout",
     "output_type": "stream",
     "text": [
      "['Off the Wall', 20, 'Thriller', 66]\n"
     ]
    }
   ],
   "source": [
    "print(mj_lps[:4])"
   ]
  },
  {
   "cell_type": "markdown",
   "metadata": {},
   "source": [
    "Similarly, when **slicing till the last element**, you can omit the second index! The expression below will print a slice from index 8 to the last element."
   ]
  },
  {
   "cell_type": "code",
   "execution_count": 16,
   "metadata": {},
   "outputs": [
    {
     "name": "stdout",
     "output_type": "stream",
     "text": [
      "['History', 22]\n"
     ]
    }
   ],
   "source": [
    "print(mj_lps[8:])"
   ]
  },
  {
   "cell_type": "markdown",
   "metadata": {},
   "source": [
    "&nbsp;\n",
    "\n",
    "\n",
    "### Task 6 - Slicing\n",
    "\n",
    "1. Create a new variable for all LPs from the 70s (Off the Wall)\n",
    "2. Create a new variable for all LPs from the 80s (Thriller, Bad)\n",
    "3. Create a new variable for all LPs from the 90s (Dangerous, History) using negative indexing"
   ]
  },
  {
   "cell_type": "code",
   "execution_count": 16,
   "metadata": {
    "tags": []
   },
   "outputs": [
    {
     "name": "stdout",
     "output_type": "stream",
     "text": [
      "['Off the Wall', 20]\n",
      "['Thriller', 66, 'Bad', 35]\n",
      "['Dangerous', 32, 'History', 22]\n"
     ]
    }
   ],
   "source": [
    "# create new lists for lps from 70s, 80s and 90s\n",
    "# mj_lps = [ \"Off the Wall\", 20, \"Thriller\",66, \"Bad\",35, \"Dangerous\",32, \"History\",22]\n",
    "print(mj_lps[:2])\n",
    "print(mj_lps[2:6])\n",
    "print(mj_lps[6:])　\n"
   ]
  },
  {
   "cell_type": "code",
   "execution_count": 7,
   "metadata": {},
   "outputs": [],
   "source": [
    "# print all new lists"
   ]
  },
  {
   "cell_type": "markdown",
   "metadata": {},
   "source": [
    "<div class=\"alert alert-block alert-info\" style=\"background-color:#ECECEB; color:#3F3F3F; width:90%; padding:50px;-webkit-border-radius:5px\">\n",
    "\n",
    "### Final task: Please give us your feedback!\n",
    "\n",
    "Upon completing the survey, **you will receive the link to the solution file**, to check how your code compares to the sample solution.\n",
    "\n",
    "In order to adapt our training to your needs and provide the most valuable learning experience for you, we depend on your feedack.\n",
    "\n",
    "We would be grateful if you could take **1 min** before the end of the workshop to get your feedback! \n",
    "\n",
    "<a href=\"https://lse.eu.qualtrics.com/jfe/form/SV_2beTiFd70AlRe5M?coursename=Python Fundamentals 4: Lists &topic=Python&link=https://lsecloud-my.sharepoint.com/:u:/g/personal/m_wiemers_lse_ac_uk/EZbPTmZ5519Ktqeg0UXoYLoB8xbMUs-oM7mZ2ZN7kilYfQ?e=metVCp&prog=DS&version=23-24\"><b>Click here to open the survey</b></a>\n",
    "\n"
   ]
  }
 ],
 "metadata": {
  "kernelspec": {
   "display_name": "Python 3 (ipykernel)",
   "language": "python",
   "name": "python3"
  },
  "language_info": {
   "codemirror_mode": {
    "name": "ipython",
    "version": 3
   },
   "file_extension": ".py",
   "mimetype": "text/x-python",
   "name": "python",
   "nbconvert_exporter": "python",
   "pygments_lexer": "ipython3",
   "version": "3.11.4"
  },
  "vscode": {
   "interpreter": {
    "hash": "6bfbe47bd08290686626768386311ceb83f3a0dbecee84d146c554190cea57e3"
   }
  }
 },
 "nbformat": 4,
 "nbformat_minor": 4
}
