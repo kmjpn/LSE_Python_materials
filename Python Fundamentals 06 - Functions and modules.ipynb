{
 "cells": [
  {
   "cell_type": "markdown",
   "metadata": {},
   "source": [
    "<div class=\"alert alert-block alert-info\" style=\"background-color: #323031; color:#ffffff; padding:50px; -webkit-border-radius:5px; width:90%\">\n",
    "\n",
    "\n",
    "## Pre-Sessional Python Workshops\n",
    "\n",
    "The Python pre-sessional workshops will teach you the fundamental data types and programming techniques that are necessary to succeed on any real-world coding project/challenge. The knowledge and skills that you develop in this series will form the foundation for any data analysis, visualisation or software development project in Python.\n",
    "\n",
    "For more information about the Python pre-sessional workshops and instructions on how to install Python on your personal laptop, have a look at the [Python Pre-sessional website](https://dsl-python-presessional.streamlit.app/)\n",
    "\n",
    "\n",
    "### Why learn Python?\n",
    "\n",
    "Python's popularity has seen a remarkable rise since its inception in the late 1990's and has established itself as one of the most widely used languages in the last 10 years. It is currently ranked as one of the top 2 programming languages by the most common programming language rankings. It is now widely used not only for Data Science, where it is leading the field together with R, but also to develop software in a more general sense. If you would like to learn more about how Python can be applied for Data Science and why it has evolved to one of the most popular programming languages overall, have a look at [this section](https://dsl-python-presessional.streamlit.app/Why_Learn_Python) of the Python Pre-Sessional website.\n",
    "\n",
    "#### Program WORDLE in Python\n",
    "In the final step of the Python Fundamental series, you will apply your Python skills to create WORDLE in Python. To develop Wordle in Python, you will have to combine most of the techniques that you have learned in the notebooks in a creative way.\n",
    "    \n",
    "See the video below on what the final game could look like.\n",
    "    \n",
    "<img src=\"https://www.dropbox.com/s/w8bms25985573m2/wordle.gif?raw=1\" height=\"250px\">\n",
    "\n",
    "<br>\n",
    "\n",
    "<br>\n",
    "\n",
    "\n",
    "### Earn your Python certificate\n",
    "\n",
    "The Python Fundamentals series consists of 10 different jupyter notebooks that each teach a different topic. After having completed the series you can claim an online certificate to provide evidence of your Python skills on e.g. LinkdedIN. Please email digital.skills.lab@lse.ac.uk to claim your certificate. \n",
    "\n",
    "There are two types of certificates you can claim. Learners that have completed all Python notebooks apart from the coding challenges notebook, can claim the Python Fundamentals Attendance Badge, which provides evidence of you having completed all exercises apart from the coding challenge. Learners that have completed *at least one* of the coding challenges, can claim the Python Fundamentals Knowledge Badge. This badge provides evidence of having successfully applied the fundamental Python skills to a more complex coding project. This is to highlight that in order to solve the final coding challenges a deeper understanding of the acquired coding techniques and advanced proficiency in their practical application are required.\n",
    "\n",
    "<img src=\"https://www.dropbox.com/scl/fi/w7ovwvw4k6icpna3sqouz/progress_pf06.png?rlkey=9h44a64ei0nvnxa80jx8iogwj&raw=1\" height=\"250px\">\n",
    "\n",
    "\n",
    "### Continue to learn Python\n",
    "\n",
    "Once you finished the Python Fundamentals series, you can progress to the Python Data Wrangling and Python Visualisation series to continue to learn with the support of our Python experts on campus or learn with the online learning platform <a href=\"https://dataquest.io\">Dataquest</a>. \n",
    "\n",
    "\n"
   ]
  },
  {
   "cell_type": "markdown",
   "metadata": {},
   "source": [
    "<div class=\"alert alert-block alert-info\" style=\"background-color: #f2f2f2; color:#3F3F3F; width:90%; padding:50px; -webkit-border-radius:5px\">\n",
    "\n",
    "# Python Fundamentals 6 - Functions and modules\n",
    "\n",
    "A function is a **named piece of code** that performs a **specific task**. It usually takes some type of **input** and generates an **output**. Functions enable you to simply use the name of the function to perform a task that otherwise would required you to write the code yourself.\n",
    "\n",
    "With a **module**, functions can be combined into a single script and accessed from that script using the script name. The libraries that you will learn about in the Data Wrangling series (numpy and pandas) are essentially a script with very many functions and objects to work with numerical data (numpy) or tabular data consisting of not only numerical data (pandas).\n",
    "\n",
    "\n",
    "**After having completed this session, you will be able to:**\n",
    "* use some of the most useful built-in Python functions\n",
    "* use methods, i.e. functions associated to specific functions\n",
    "* use string methods to manipulate strings\n",
    "* use list methods to manipulate lists\n",
    "\n",
    "<b>What to do when getting stuck</b>:\n",
    "    <ol>\n",
    "        <li>Ask <b>fellow students</b> for help, useful resources and to bounce off ideas</li>\n",
    "        <li>Ask the <b>trainer</b> if you struggle to find a solution.</li>\n",
    "        <li><b>Search online:</b></li>\n",
    "        <ol>\n",
    "            <li>The answer box on the top of Google's results page</li>\n",
    "            <li><a href=\"https://www.stackoverflow.com\">stackoverflow.com</a> (task-specific solutions)</li>\n",
    "            <li><a href=\"https://www.w3schools.com\">w3schools.com</a> (basic python questions)</li>\n",
    "            <li><a href=\"https://www.realpython.com\">realpython.com</a> (topic-based tutorials)</li>\n",
    "        </ol>\n",
    "    </ol>\n",
    "\n",
    "<br>\n",
    "<br>\n",
    "<div style=\"background-color:#DC143C; border-radius:10px; padding:10px; color:white\">\n",
    "<h5>Guidance on ChatGPT Usage: From R to Python</h5>\n",
    "<p>For total programming beginners, we firmly discourage the use of ChatGPT to learn fundamental coding concepts. However, if you're transitioning from R to Python, while ChatGPT can be a valuable resource, be wary of becoming overly reliant on it. Writing code in Python often demands a deeper understanding of loops and crafting custom functions, compared to R's more straightforward syntax. Relying too much on automated help can hinder your ability to grasp and master these nuances. Ensure you balance assistance with genuine self-effort for optimal learning.</p>\n",
    "</div>\n"
   ]
  },
  {
   "cell_type": "markdown",
   "metadata": {},
   "source": [
    "&nbsp;\n",
    "\n",
    "### Task 1 - Which functions do you know?\n",
    "\n",
    "You actually already know a few functions. Write down two functions you have used in the first three Python workshops. Write down the name, the type of input the function takes and type of output the function returns."
   ]
  },
  {
   "cell_type": "code",
   "execution_count": 1,
   "metadata": {},
   "outputs": [],
   "source": [
    "# Functions you already know\n",
    "#1 name: print , input: passage we want to show, output: passage input\n",
    "#2 name: input , input: request readers to input answer, output: passage input and blank to fill in"
   ]
  },
  {
   "cell_type": "markdown",
   "metadata": {},
   "source": [
    "&nbsp;\n",
    "\n",
    "### Useful built-in functions\n",
    "\n",
    "For most programming tasks you will need to import what is called a package and we will have look at how to do that later in this session. There are, however, a number of useful **built-in Python functions** on top of the ones you already know.\n"
   ]
  },
  {
   "cell_type": "markdown",
   "metadata": {},
   "source": [
    "\n",
    "&nbsp;\n",
    "\n",
    "\n",
    "<img src=\"https://www.dropbox.com/s/banmqsyi4r01rf7/Federer.png?raw=1\" width=60% align=\"left\">\n",
    "\n",
    "&nbsp;"
   ]
  },
  {
   "cell_type": "markdown",
   "metadata": {},
   "source": [
    "\n",
    "&nbsp;\n",
    "\n",
    "### Task 2 - Roger Federer prize money\n",
    "\n",
    "For the following exercise you will need the below functions:\n",
    "- min()\n",
    "- max()\n",
    "- len()\n",
    "- sum()\n",
    "- round()\n",
    "\n",
    "1. Use the above functions to create variables for:\n",
    "\n",
    "    * his mininum prize money\n",
    "    * his maximum prize money\n",
    "    * his total prize money\n",
    "    * years of being active as a professional\n",
    "    * his average prize money\n",
    "\n",
    "2. Print each variable"
   ]
  },
  {
   "cell_type": "code",
   "execution_count": 2,
   "metadata": {
    "tags": []
   },
   "outputs": [],
   "source": [
    "# Roger Federer's prize money per year since 1998\n",
    "federer = [27305, 225139, 613782, 865425, \n",
    "           1880027, 4000680, 6357547, 6137018, 8343885, \n",
    "           8630620, 5136880, 6768112, 6698290, 5744576, \n",
    "           7424843, 2798637, 8043124, 7812018, 1527269, \n",
    "           11754077, 7599234, 8716975, 714792, 647656]"
   ]
  },
  {
   "cell_type": "code",
   "execution_count": 7,
   "metadata": {
    "tags": []
   },
   "outputs": [
    {
     "name": "stdout",
     "output_type": "stream",
     "text": [
      "27305\n",
      "11754077\n",
      "118467911\n",
      "24\n",
      "4936163.0\n"
     ]
    }
   ],
   "source": [
    "# mininum prize money\n",
    "print(min(federer))\n",
    "\n",
    "# maximum prize money\n",
    "print(max(federer))\n",
    "\n",
    "# total prize money\n",
    "print(sum(federer))\n",
    "\n",
    "# years playing professional tennis\n",
    "print(len(federer))\n",
    "\n",
    "# average prize money\n",
    "print(round(sum(federer)/len(federer),0))\n",
    "\n"
   ]
  },
  {
   "cell_type": "markdown",
   "metadata": {},
   "source": [
    "&nbsp;\n",
    "\n",
    "&nbsp;\n",
    "\n",
    "## Methods\n",
    "\n",
    "### String methods\n",
    "\n",
    "In Python everything is an object and objects have specific functions attached to them that only work for that particular type of object. These functions are called **methods**. For instance, there are specific **methods for strings and lists**.\n",
    "\n",
    "You can call a method by adding the dot followed by the method name and the parentheses after the variable name.\n",
    "\n",
    "See the example below to call, for instance, the `upper()` method, which will turn all letters into upper case, on the string variable name.\n"
   ]
  },
  {
   "cell_type": "code",
   "execution_count": 1,
   "metadata": {},
   "outputs": [
    {
     "name": "stdout",
     "output_type": "stream",
     "text": [
      "ROGER FEDERER\n"
     ]
    }
   ],
   "source": [
    "name = \"Roger Federer\"\n",
    "name_caps = name.upper()\n",
    "print(name_caps)"
   ]
  },
  {
   "cell_type": "markdown",
   "metadata": {},
   "source": [
    "Here's another example below to use the `endswith()` method to test whether the name variable ends with the string \"erer\". "
   ]
  },
  {
   "cell_type": "code",
   "execution_count": 2,
   "metadata": {},
   "outputs": [
    {
     "name": "stdout",
     "output_type": "stream",
     "text": [
      "True\n"
     ]
    }
   ],
   "source": [
    "print(name.endswith(\"erer\"))"
   ]
  },
  {
   "cell_type": "markdown",
   "metadata": {},
   "source": [
    "### Task 3 - Counting letters\n",
    "\n",
    "Change the name variable to all lower case and print the total occurences of the letters r and e. Use a string method to count the occurences."
   ]
  },
  {
   "cell_type": "code",
   "execution_count": 43,
   "metadata": {
    "tags": []
   },
   "outputs": [
    {
     "name": "stdout",
     "output_type": "stream",
     "text": [
      "roger federer\n",
      "<class 'int'>\n",
      "4\n"
     ]
    }
   ],
   "source": [
    "name = \"Roger Federer\"\n",
    "\n",
    "# change name to lower case and count r's and e's\n",
    "name_lows = name.lower()\n",
    "print(name_lows)\n",
    "print(type(name_lows.count(\"r\")))\n",
    "print(name_lows.count(\"e\"))"
   ]
  },
  {
   "cell_type": "markdown",
   "metadata": {},
   "source": [
    "&nbsp;\n",
    "\n",
    "## The split method\n",
    "\n",
    "With the `split()` method you can split a string into a number of substrings based on a separator character. In the example below the space character is used."
   ]
  },
  {
   "cell_type": "code",
   "execution_count": 3,
   "metadata": {},
   "outputs": [],
   "source": [
    "msg = 'coding in python is fun!!!'\n",
    "words = msg.split(' ')"
   ]
  },
  {
   "cell_type": "markdown",
   "metadata": {},
   "source": [
    "The substrings are stored in the words list."
   ]
  },
  {
   "cell_type": "code",
   "execution_count": 4,
   "metadata": {
    "tags": []
   },
   "outputs": [
    {
     "name": "stdout",
     "output_type": "stream",
     "text": [
      "['coding', 'in', 'python', 'is', 'fun!!!']\n"
     ]
    }
   ],
   "source": [
    "print(words)"
   ]
  },
  {
   "cell_type": "markdown",
   "metadata": {},
   "source": [
    "\n",
    "\n",
    "&nbsp;\n",
    "\n",
    "### Task 4 - split method\n",
    "Predict the output using `.split()` on the `msg` variable.\n",
    "\n",
    "Split the **name variable** into a first_name and last_name variable."
   ]
  },
  {
   "cell_type": "code",
   "execution_count": 12,
   "metadata": {
    "tags": []
   },
   "outputs": [
    {
     "name": "stdout",
     "output_type": "stream",
     "text": [
      "['cod', 'ng ', 'n python ', 's fun!!!']\n",
      "['Kazuya', 'Manabe']\n"
     ]
    }
   ],
   "source": [
    "# predict the words list when using 'i' as a separator\n",
    "msg = 'coding in python is fun!!!'\n",
    "words = msg.split('i')\n",
    "print(words)\n",
    "\n",
    "# split the name variable into a first_name and last_name variable\n",
    "msg = 'Kazuya Manabe'\n",
    "words = msg.split(' ')\n",
    "print(words)\n"
   ]
  },
  {
   "cell_type": "markdown",
   "metadata": {},
   "source": [
    "\n",
    "&nbsp;\n",
    "\n",
    "## List methods\n",
    "\n",
    "Below are examples of some of the methods that can be applied to **lists**.\n",
    "\n",
    "### Adding an element\n",
    "\n",
    "In the first workshop on lists, you learnd how to add elements to a list using the `+` operator or `+=`.\n"
   ]
  },
  {
   "cell_type": "code",
   "execution_count": 5,
   "metadata": {},
   "outputs": [
    {
     "name": "stdout",
     "output_type": "stream",
     "text": [
      "[54, 83, 66, 89, 75]\n"
     ]
    }
   ],
   "source": [
    "numbers = [54, 83, 66, 89]\n",
    "numbers += [75]\n",
    "print(numbers)"
   ]
  },
  {
   "cell_type": "markdown",
   "metadata": {},
   "source": [
    "\n",
    "The same can be done with the `append()` method. An important difference between `numbers += [75]` and `numbers.append(75)` is that the former does return the transformed list, that is, `[54, 83, 66, 89, 75]`, whereas the latter does return None, which is used in Python to indicate a null value."
   ]
  },
  {
   "cell_type": "code",
   "execution_count": 21,
   "metadata": {
    "tags": []
   },
   "outputs": [
    {
     "name": "stdout",
     "output_type": "stream",
     "text": [
      "[54, 83, 66, 89, 75]\n"
     ]
    }
   ],
   "source": [
    "numbers = [54, 83, 66, 89]\n",
    "numbers.append(75)\n",
    "print(numbers)"
   ]
  },
  {
   "cell_type": "markdown",
   "metadata": {},
   "source": [
    "\n",
    "\n",
    "### Removing elements\n",
    "\n",
    "In the previous workshop, you also learnd how to remove an element using the `del()` function.\n"
   ]
  },
  {
   "cell_type": "code",
   "execution_count": 22,
   "metadata": {
    "tags": []
   },
   "outputs": [
    {
     "name": "stdout",
     "output_type": "stream",
     "text": [
      "[54, 83, 89, 75]\n"
     ]
    }
   ],
   "source": [
    "del(numbers[2])\n",
    "print(numbers)"
   ]
  },
  {
   "cell_type": "markdown",
   "metadata": {},
   "source": [
    "\n",
    "You can also use the `remove()` method to remove an element from a list.\n"
   ]
  },
  {
   "cell_type": "code",
   "execution_count": 23,
   "metadata": {
    "tags": []
   },
   "outputs": [
    {
     "name": "stdout",
     "output_type": "stream",
     "text": [
      "[54, 89, 75]\n"
     ]
    }
   ],
   "source": [
    "numbers.remove(83)\n",
    "print(numbers)"
   ]
  },
  {
   "cell_type": "markdown",
   "metadata": {},
   "source": [
    "\n",
    "### Inserting \n",
    "\n",
    "You can use the `insert()` method to add an element at a specific position. In the example we add the number 43 at position 3.\n"
   ]
  },
  {
   "cell_type": "code",
   "execution_count": 24,
   "metadata": {
    "tags": []
   },
   "outputs": [
    {
     "name": "stdout",
     "output_type": "stream",
     "text": [
      "[54, 89, 75, 43]\n"
     ]
    }
   ],
   "source": [
    "\n",
    "numbers.insert(3, 43)\n",
    "print(numbers)"
   ]
  },
  {
   "cell_type": "markdown",
   "metadata": {},
   "source": [
    "\n",
    "### Indexing an element\n",
    "\n",
    "With the `index()` method, you can get the position of a value inside a list. In the example we ask for the position of the number 75."
   ]
  },
  {
   "cell_type": "code",
   "execution_count": 16,
   "metadata": {},
   "outputs": [
    {
     "name": "stdout",
     "output_type": "stream",
     "text": [
      "2\n"
     ]
    }
   ],
   "source": [
    "\n",
    "print(numbers.index(75))"
   ]
  },
  {
   "cell_type": "markdown",
   "metadata": {},
   "source": [
    "### Sorting a list\n",
    "Use the `sort()` method to sort the list in ascending order. The list will be sorted in-place, which means you do not have to assign the sorted numbers list to a new variable."
   ]
  },
  {
   "cell_type": "code",
   "execution_count": 19,
   "metadata": {},
   "outputs": [
    {
     "name": "stdout",
     "output_type": "stream",
     "text": [
      "[43, 54, 75, 89]\n"
     ]
    }
   ],
   "source": [
    "numbers.sort()\n",
    "print(numbers)"
   ]
  },
  {
   "cell_type": "markdown",
   "metadata": {},
   "source": [
    "&nbsp;\n",
    "\n",
    "### Task 5 - List methods\n",
    "\n",
    "1. Create the federer_titles list, with his tournament titles from 2000 to 2009\n",
    "2. Append the value 5\n",
    "3. Remove the string value '8'\n",
    "4. Insert the integer 8 after the value 12\n",
    "5. Sort the list\n",
    "6. Reverse the list"
   ]
  },
  {
   "cell_type": "markdown",
   "metadata": {},
   "source": [
    "&nbsp;\n",
    "\n",
    "## Pop-up menu with all methods for an object\n",
    "\n",
    "To open a pop-up menu with all methods that are associated with a particular object, add a dot after the variable name and hit the tab key on your keyboard.\n",
    "\n",
    "Try it out with the list and string in the code block below."
   ]
  },
  {
   "cell_type": "code",
   "execution_count": 29,
   "metadata": {
    "tags": []
   },
   "outputs": [
    {
     "name": "stdout",
     "output_type": "stream",
     "text": [
      "[0, 1, 3, 7, 11, 11, 8, 12, 4, 4, 5]\n",
      "[0, 1, 3, 4, 4, 5, 7, 8, 11, 11, 12]\n",
      "[12, 11, 11, 8, 7, 5, 4, 4, 3, 1, 0]\n"
     ]
    }
   ],
   "source": [
    "# create the titles list\n",
    "titles = [0, 1, 3, 7, 11, 11, 12, '8', 4, 4]\n",
    "\n",
    "# append the value 5\n",
    "titles.append(5)\n",
    "\n",
    "# remove the string value '8'\n",
    "titles.remove('8')\n",
    "\n",
    "# insert the integer 8 after the value 12\n",
    "titles.insert(6,8)\n",
    "print(titles)\n",
    "# sort the list\n",
    "titles.sort()\n",
    "print(titles)\n",
    "\n",
    "# reverse the list\n",
    "titles.reverse()\n",
    "print(titles)"
   ]
  },
  {
   "cell_type": "code",
   "execution_count": 21,
   "metadata": {},
   "outputs": [
    {
     "data": {
      "text/plain": [
       "[1, 2, 3]"
      ]
     },
     "execution_count": 21,
     "metadata": {},
     "output_type": "execute_result"
    }
   ],
   "source": [
    "my_list = [1, 2, 3]\n",
    "my_list"
   ]
  },
  {
   "cell_type": "code",
   "execution_count": 22,
   "metadata": {},
   "outputs": [
    {
     "data": {
      "text/plain": [
       "'123'"
      ]
     },
     "execution_count": 22,
     "metadata": {},
     "output_type": "execute_result"
    }
   ],
   "source": [
    "my_str = '123'\n",
    "my_str"
   ]
  },
  {
   "cell_type": "markdown",
   "metadata": {},
   "source": [
    "&nbsp;\n",
    "\n",
    "&nbsp;\n",
    "\n",
    "## Modules\n",
    "\n",
    "In order to **save functions** and be able to use them across different scripts, they can be saved in a python file. Python files used to store a collection of functions are called **modules**. \n",
    "\n",
    "As an illustation **how a module can be used** we're looking at a fictitious module called data wrangling, which contains the functions\n",
    "- `read_data()`\n",
    "- `rename_columns()`\n",
    "- `filter()`"
   ]
  },
  {
   "cell_type": "markdown",
   "metadata": {},
   "source": [
    "<img src=\"https://www.dropbox.com/s/kb7m4imab05s0lc/module.png?raw=1\" width=35% align=\"left\">"
   ]
  },
  {
   "cell_type": "markdown",
   "metadata": {},
   "source": [
    "In order to access the functions from the data_wrangling module, we use the **import** keyword followed by the name of the module.\n"
   ]
  },
  {
   "cell_type": "markdown",
   "metadata": {},
   "source": [
    "```python\n",
    "import data_wrangling\n",
    "```\n",
    "\n",
    "The `read_data()`, `rename_columns()` and `filter()` functions are now loaded into memory and we can use them by writing the name of the module, a dot, and the name of the function.\n",
    "\n",
    "```python\n",
    "data = data_wrangling.read_data(\"dataset.csv\")\n",
    "```"
   ]
  },
  {
   "cell_type": "markdown",
   "metadata": {},
   "source": [
    "&nbsp;\n",
    "\n",
    "### Task 6 - The math module\n",
    "\n",
    "\n",
    "1. Import the `math` module\n",
    "2. Use the **pi constant** from the math module to calculate the area of a circle with the radius 3\n",
    "3. Calculate the radius based on the area variable using the below formula. You can use the `sqrt()` function from the math module to calculate the square root.\n",
    "\n",
    "$ \\ \\ \\ \\ \\ r = \\sqrt{\\frac{area}{\\pi}}$\n",
    "\n"
   ]
  },
  {
   "cell_type": "code",
   "execution_count": 34,
   "metadata": {
    "tags": []
   },
   "outputs": [
    {
     "name": "stdout",
     "output_type": "stream",
     "text": [
      "3.0\n"
     ]
    }
   ],
   "source": [
    "# import math\n",
    "import math\n",
    "\n",
    "# area of a circle with radius 3\n",
    "area = math.pi * 3 * 3\n",
    "\n",
    "# calculate the radius \n",
    "radius = math.sqrt(area/math.pi)\n",
    "print(radius)　\n"
   ]
  },
  {
   "cell_type": "markdown",
   "metadata": {},
   "source": [
    "\n",
    "&nbsp;\n",
    "\n",
    "## Libraries\n",
    "\n",
    "Libraries are a collection of modules. To combine several modules into a library, you simply add them to the same folder on your harddrive. For instance, you can create a library called **data_science** by creating a folder called **data_science** and adding the module files in that folder. In the example below, we added the module on data wrangling (data_wrangling.py) and two other modules for data plotting (data_plotting.py) and data analysis (data_analysis.py) into the **data_science** folder."
   ]
  },
  {
   "cell_type": "markdown",
   "metadata": {},
   "source": [
    "<img src=\"https://www.dropbox.com/s/3ty77aqnp4q0cf1/package.png?raw=1\" width=\"35%\" align=\"left\">"
   ]
  },
  {
   "cell_type": "markdown",
   "metadata": {},
   "source": [
    "<br>\n",
    "\n",
    "### Task 7 - Using matplotlib to visualize Federer's price money\n",
    "\n",
    "A very popular example for a data science library in Python is matplotlib. \n",
    "\n",
    "Below you can see the code to generate a line plot about Roger Federer's prize money.\n",
    "\n",
    "Here is the explanation about the matplotlib code:\n",
    "\n",
    "As we have previously explained libraries consist of modules. The majority of the functions used to generate plots with matplotlib are stored in the pyplot module. It is common practice to import the pyplot module under the name plt.\n",
    "\n",
    "```python\n",
    "import matplotlib.pyplot as plt\n",
    "```\n",
    "\n",
    "We use the `plot()` function from the pyplot module to create line plots. The first two arguments we pass to the function are the values for the x and y-axis. The third argument is the is a string that specifies the colour, 'b' stands for blue, and the line style, -- stands for dashed whereas o stands for dots.\n",
    "\n",
    "```python\n",
    "plt.plot(years, federer, 'b--')\n",
    "plt.plot(years, federer, 'bo')\n",
    "```\n",
    "\n",
    "As you can see not all year values are being plotted. That is the default behaviour of the plot function, which can be modified with additional functions to specifically change the axis labels.\n",
    "\n",
    "Similarly, the y-axis values are being displayed in the scientific notation. The numbers are being multiplied by 10 to the power of 7, i.e. 10 million. This can be manually changed using specific pyplot functions.\n",
    "\n",
    "You will have to use your knowledge of creating lists to fill in the code to generate the list with the years. There has to be a value for each year corresponding to each of the elements from the `federer` prize money list.\n"
   ]
  },
  {
   "cell_type": "code",
   "execution_count": 41,
   "metadata": {
    "tags": []
   },
   "outputs": [
    {
     "data": {
      "text/plain": [
       "[<matplotlib.lines.Line2D at 0x12ed69790>]"
      ]
     },
     "execution_count": 41,
     "metadata": {},
     "output_type": "execute_result"
    },
    {
     "data": {
      "image/png": "[encoded data removed]",
      "text/plain": [
       "<Figure size 640x480 with 1 Axes>"
      ]
     },
     "metadata": {},
     "output_type": "display_data"
    }
   ],
   "source": [
    "import numpy as np\n",
    "import matplotlib.pyplot as plt\n",
    "\n",
    "# write your code here to create the list for the years going from 1998 to the last year\n",
    "years = [1998,1999,2000,2001,2002,2003,2004,2005,2006,2007,2008,2009,2010,2011,2012,2013,2014,2015,2016,2017,2018,2019,2020,2021]\n",
    "\n",
    "plt.plot(years, federer, 'b--')\n",
    "plt.plot(years, federer, 'bo')\n"
   ]
  },
  {
   "cell_type": "markdown",
   "metadata": {},
   "source": [
    "<div class=\"alert alert-block alert-info\" style=\"background-color:#ECECEB; color:#3F3F3F; width:90%; padding:50px;-webkit-border-radius:5px\">\n",
    "\n",
    "### Final task: Please give us your feedback!\n",
    "\n",
    "Upon completing the survey, **you will receive the link to the solution file**, to check how your code compares to the sample solution.\n",
    "\n",
    "In order to adapt our training to your needs and provide the most valuable learning experience for you, we depend on your feedack.\n",
    "\n",
    "We would be grateful if you could take **1 min** before the end of the workshop to get your feedback! \n",
    "\n",
    "<a href=\"https://lse.eu.qualtrics.com/jfe/form/SV_2beTiFd70AlRe5M?coursename=Python Fundamentals 6: Functions &topic=Python&link=https://lsecloud-my.sharepoint.com/:u:/g/personal/m_wiemers_lse_ac_uk/Ec8InK3ok71EujqSbEPRLEEBXrrTUdUP3N995zdxCJ7Udg?e=sWWRZR&prog=DS&version=23-24\"><b>Click here to open the survey</b></a>\n"
   ]
  },
  {
   "cell_type": "markdown",
   "metadata": {},
   "source": [
    "\n",
    "&nbsp;\n",
    "\n",
    "&nbsp;\n",
    "\n",
    "## Bonus tasks"
   ]
  },
  {
   "cell_type": "markdown",
   "metadata": {},
   "source": [
    "### Roger Federererer...\n",
    "\n",
    "Calculate how much of Roger Federer's name is \"er\" in percentages using the `count()` method and `len()` function."
   ]
  },
  {
   "cell_type": "code",
   "execution_count": 50,
   "metadata": {
    "tags": []
   },
   "outputs": [
    {
     "name": "stdout",
     "output_type": "stream",
     "text": [
      "0.23076923076923078\n"
     ]
    }
   ],
   "source": [
    "print(name.count(\"er\")/len(name))"
   ]
  },
  {
   "cell_type": "markdown",
   "metadata": {},
   "source": [
    "### Debugging task: Mental addition challenge\n",
    "\n",
    "Your task is to fix the errors and bugs in the below program and fix them!\n",
    "\n",
    "- The below program presents the user with a math problem where they have to add two numbers as quickly as possible. \n",
    "- The program should randomly create two numbers using the `randint()` function from the **random** module. \n",
    "- After having entered the answer, the user should be presented with feedback on the time it took them to solve the problem. \n",
    "- The `time()` function from the **time** module returns the current computer time in seconds, which should be used to calculate the time between the presentation of the problem and the answer from the user."
   ]
  },
  {
   "cell_type": "code",
   "execution_count": 63,
   "metadata": {
    "tags": []
   },
   "outputs": [
    {
     "name": "stdin",
     "output_type": "stream",
     "text": [
      "Welcome to the math challenge! Press Enter when ready... \n"
     ]
    },
    {
     "name": "stdout",
     "output_type": "stream",
     "text": [
      "13 + 19\n"
     ]
    },
    {
     "name": "stdin",
     "output_type": "stream",
     "text": [
      "Type in your answer and hit Enter:  32\n"
     ]
    },
    {
     "name": "stdout",
     "output_type": "stream",
     "text": [
      "The answer is 32\n",
      "It took you 1.85 seconds to solve the problem.\n"
     ]
    }
   ],
   "source": [
    "import time\n",
    "import random\n",
    "\n",
    "input('Welcome to the math challenge! Press Enter when ready...') # wait for user to start the challenge\n",
    "\n",
    "t0 = time.time()\n",
    "\n",
    "rand_n1 = random.randint(1,20) # create a random number between 1 and 20\n",
    "rand_n2 = random.randint(1,20) # create a random number between 1 and 20\n",
    "solution = rand_n1 + rand_n2\n",
    "\n",
    "print(str(rand_n1) + \" + \" + str(rand_n2))\n",
    "\n",
    "answer = input(\"Type in your answer and hit Enter: \")\n",
    "\n",
    "t1 = time.time()\n",
    "\n",
    "time = round(t1 - t0,2)\n",
    "\n",
    "print(\"The answer is \" + str(solution))\n",
    "print(\"It took you \" + str(time) + \" seconds to solve the problem.\")"
   ]
  },
  {
   "cell_type": "code",
   "execution_count": 61,
   "metadata": {
    "tags": []
   },
   "outputs": [],
   "source": []
  },
  {
   "cell_type": "code",
   "execution_count": null,
   "metadata": {},
   "outputs": [],
   "source": []
  }
 ],
 "metadata": {
  "kernelspec": {
   "display_name": "Python 3 (ipykernel)",
   "language": "python",
   "name": "python3"
  },
  "language_info": {
   "codemirror_mode": {
    "name": "ipython",
    "version": 3
   },
   "file_extension": ".py",
   "mimetype": "text/x-python",
   "name": "python",
   "nbconvert_exporter": "python",
   "pygments_lexer": "ipython3",
   "version": "3.11.4"
  },
  "vscode": {
   "interpreter": {
    "hash": "6bfbe47bd08290686626768386311ceb83f3a0dbecee84d146c554190cea57e3"
   }
  }
 },
 "nbformat": 4,
 "nbformat_minor": 4
}
