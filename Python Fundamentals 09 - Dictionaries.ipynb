{
 "cells": [
  {
   "cell_type": "markdown",
   "id": "cea1157f",
   "metadata": {},
   "source": [
    "<div class=\"alert alert-block alert-info\" style=\"background-color: #323031; color:#ffffff; padding:50px; -webkit-border-radius:5px; width:90%\">\n",
    "\n",
    "## Pre-Sessional Python Workshops\n",
    "\n",
    "The Python pre-sessional workshops will teach you the fundamental data types and programming techniques that are necessary to succeed on any real-world coding project/challenge. The knowledge and skills that you develop in this series will form the foundation for any data analysis, visualisation or software development project in Python.\n",
    "\n",
    "For more information about the Python pre-sessional workshops and instructions on how to install Python on your personal laptop, have a look at the [Python Pre-sessional website](https://dsl-python-presessional.streamlit.app/)\n",
    "\n",
    "\n",
    "### Why learn Python?\n",
    "\n",
    "Python's popularity has seen a remarkable rise since its inception in the late 1990's and has established itself as one of the most widely used languages in the last 10 years. It is currently ranked as one of the top 2 programming languages by the most common programming language rankings. It is now widely used not only for Data Science, where it is leading the field together with R, but also to develop software in a more general sense. If you would like to learn more about how Python can be applied for Data Science and why it has evolved to one of the most popular programming languages overall, have a look at [this section](https://dsl-python-presessional.streamlit.app/Why_Learn_Python) of the Python Pre-Sessional website.\n",
    "\n",
    "#### Program WORDLE in Python\n",
    "\n",
    "In the final step of the Python Fundamental series, you will apply your Python skills to create WORDLE in Python. To develop Wordle in Python, you will have to combine most of the techniques that you have learned in the notebooks in a creative way.\n",
    "    \n",
    "See the video below on what the final game could look like.\n",
    "    \n",
    "<img src=\"https://www.dropbox.com/s/w8bms25985573m2/wordle.gif?raw=1\" height=\"250px\">\n",
    "\n",
    "<br>\n",
    "\n",
    "<br>\n",
    "\n",
    "\n",
    "### Earn your Python certificate\n",
    "\n",
    "The Python Fundamentals series consists of 10 different jupyter notebooks that each teach a different topic. After having completed the series you can claim an online certificate to provide evidence of your Python skills on e.g. LinkdedIN. Please email digital.skills.lab@lse.ac.uk to claim your certificate. \n",
    "\n",
    "There are two types of certificates you can claim. Learners that have completed all Python notebooks apart from the coding challenges notebook, can claim the Python Fundamentals Attendance Badge, which provides evidence of you having completed all exercises apart from the coding challenge. Learners that have completed *at least one* of the coding challenges, can claim the Python Fundamentals Knowledge Badge. This badge provides evidence of having successfully applied the fundamental Python skills to a more complex coding project. This is to highlight that in order to solve the final coding challenges a deeper understanding of the acquired coding techniques and advanced proficiency in their practical application are required.\n",
    "\n",
    "<img src=\"https://www.dropbox.com/scl/fi/n20pqsd2or772jzfw18b6/progress_pf09.png?rlkey=nc5uhgixuqejq9q4t219d4tto&raw=1\" height=\"250px\">\n",
    "\n",
    "\n",
    "### Continue to learn Python\n",
    "\n",
    "Once you finished the Python Fundamentals series, you can progress to the Python Data Wrangling and Python Visualisation series to continue to learn with the support of our Python experts on campus or learn with the online learning platform <a href=\"https://dataquest.io\">Dataquest</a>. \n",
    "\n"
   ]
  },
  {
   "cell_type": "markdown",
   "id": "107d5bd8",
   "metadata": {},
   "source": [
    "<div class=\"alert alert-block alert-info\" style=\"background-color: #f2f2f2; color:#3F3F3F; padding:50px; -webkit-border-radius:5px; width:90%\">\n",
    "\n",
    "# Python Fundamentals 8 - Dictionaries\n",
    "\n",
    "After lists, dictionaries are the second most common object to store multiple values. They are ordered, modifiable and do not allow duplicates.\n",
    "\n",
    "Their main characteristic is that they store information in key-value pairs, where every key is paired with only one value. They are often used to store configurations and settings. When workign with datasets, dictionaries can, for instance, be used to create specific mappings to recode values from a column in pandas.\n",
    "\n",
    "**After having completed this session, you will be able to:**\n",
    "* Create a dictionary manually.\n",
    "* Select items, keys and values from a dictionary.\n",
    "* Modify items in a dictionary.\n",
    "* Using for loops to iterate over the elements of a dictionary.\n",
    "\n",
    "\n",
    "<b>What to do when getting stuck</b>:\n",
    "    <ol>\n",
    "        <li>Ask <b>fellow students</b> for help, useful resources and to bounce off ideas</li>\n",
    "        <li>Ask the <b>trainer</b> if you struggle to find a solution.</li>\n",
    "        <li><b>Search online:</b></li>\n",
    "        <ol>\n",
    "            <li>The answer box on the top of Google's results page</li>\n",
    "            <li><a href=\"https://www.stackoverflow.com\">stackoverflow.com</a> (task-specific solutions)</li>\n",
    "            <li><a href=\"https://www.w3schools.com\">w3schools.com</a> (basic python questions)</li>\n",
    "            <li><a href=\"https://www.realpython.com\">realpython.com</a> (topic-based tutorials)</li>\n",
    "        </ol>\n",
    "    </ol>\n",
    "\n",
    "<br>\n",
    "<br>\n",
    "<div style=\"background-color:#DC143C; border-radius:10px; padding:10px; color:white\">\n",
    "<h5>Guidance on ChatGPT Usage: From R to Python</h5>\n",
    "<p>For total programming beginners, we firmly discourage the use of ChatGPT to learn fundamental coding concepts. However, if you're transitioning from R to Python, while ChatGPT can be a valuable resource, be wary of becoming overly reliant on it. Writing code in Python often demands a deeper understanding of loops and crafting custom functions, compared to R's more straightforward syntax. Relying too much on automated help can hinder your ability to grasp and master these nuances. Ensure you balance assistance with genuine self-effort for optimal learning.</p>\n",
    "</div>\n"
   ]
  },
  {
   "cell_type": "markdown",
   "id": "8620c437",
   "metadata": {},
   "source": [
    "\n",
    "<img src=\"https://concepto.de/wp-content/uploads/2020/12/diccionario-e1608515127763.jpg\" width=800px>"
   ]
  },
  {
   "cell_type": "markdown",
   "id": "2ed79490",
   "metadata": {},
   "source": [
    "<br>\n",
    "\n",
    "<br>\n",
    "\n",
    "\n",
    "### Task 1 - Creating a dictionary\n",
    "\n",
    "You are working as an intern for LSE's Academic Registrar. One of your responsibilities is to keep track of all the courses offered by the university. Currently, this information is scattered across multiple files and formats, which makes it difficult to find necessary information quickly.\n",
    "\n",
    "You decided to create a Python dictionary to make the data more accessible and easy to search.\n",
    "\n",
    "Create a dictionary named `lse_courses` with the following course code - course name pairings:\n",
    "* EC1A5 - Microeconomics II\n",
    "* GV100 - Introduction to Political Theory\n",
    "* GY103 - Contemporary Europe\n",
    "* HP435 - Global Access to Medicines\n",
    "* IR206 - International Political Economy  \n",
    "\n",
    "Set the course codes as the keys and the course names as the values.\n"
   ]
  },
  {
   "cell_type": "code",
   "execution_count": 1,
   "id": "6fa88e0b",
   "metadata": {},
   "outputs": [],
   "source": [
    "lse_courses = {\n",
    "    'EC1A5': 'Microeconomics II',\n",
    "    'GV100': 'Introduction to Political Theory',\n",
    "    'GY103': 'Contemporary Europe',\n",
    "    'HP435': 'Global Access to Medicines',\n",
    "    'IR206': 'International Political Economy'\n",
    "}\n"
   ]
  },
  {
   "cell_type": "markdown",
   "id": "8cf448be",
   "metadata": {},
   "source": [
    "<br>\n",
    "\n",
    "<br>\n",
    "\n",
    "\n",
    "### Task 2 - Accessing information from a dictionary.\n",
    "\n",
    "Your line manager is excited about your idea to use a Python dictionary to store the course codes and names. He wants to know whether you can print course codes and their corresponding names in a friendly format and whether its possibile to print all the course codes and names separately.\n",
    "\n",
    "1. Display the course code-name pairs, one per line.\n",
    "2. Print the course codes from the `lse_courses` dictionary, one per line.\n",
    "3. Print all course names from the `lse_courses` dictionary, one per line.\n"
   ]
  },
  {
   "cell_type": "code",
   "execution_count": 2,
   "id": "b6df90f9",
   "metadata": {},
   "outputs": [
    {
     "name": "stdout",
     "output_type": "stream",
     "text": [
      "Course Code - Course Name Pairs:\n",
      "EC1A5 - Microeconomics II\n",
      "GV100 - Introduction to Political Theory\n",
      "GY103 - Contemporary Europe\n",
      "HP435 - Global Access to Medicines\n",
      "IR206 - International Political Economy\n",
      "\n",
      "Course Codes:\n",
      "EC1A5\n",
      "GV100\n",
      "GY103\n",
      "HP435\n",
      "IR206\n",
      "\n",
      "Course Names:\n",
      "Microeconomics II\n",
      "Introduction to Political Theory\n",
      "Contemporary Europe\n",
      "Global Access to Medicines\n",
      "International Political Economy\n"
     ]
    }
   ],
   "source": [
    "# Display course code-name pairs, one per line\n",
    "print(\"Course Code - Course Name Pairs:\")\n",
    "for code, name in lse_courses.items():\n",
    "    print(f\"{code} - {name}\")\n",
    "\n",
    "# Print course codes, one per line\n",
    "print(\"\\nCourse Codes:\")\n",
    "for code in lse_courses.keys():\n",
    "    print(code)\n",
    "\n",
    "# Print course names, one per line\n",
    "print(\"\\nCourse Names:\")\n",
    "for name in lse_courses.values():\n",
    "    print(name)"
   ]
  },
  {
   "cell_type": "markdown",
   "id": "fb1f29dc",
   "metadata": {},
   "source": [
    "<br>\n",
    "\n",
    "<br>\n",
    "\n",
    "### Task 3 - Updating LSE courses\n",
    "\n",
    "Your boss spotted an error in the data you emailed him:\n",
    "* EC1A5 is the code of *Microeconomics I*\n",
    "* the dictionary seems to be missing the course LL210 - *Information Technology and the Law*\n",
    "\n",
    "1. Modify the dictionary `lse_courses` so it has all the information and every key is paired with its correct value.\n",
    "2. Print the dictionary in a reader-friendly way so that each line shows one course code-name pairing."
   ]
  },
  {
   "cell_type": "code",
   "execution_count": 3,
   "id": "79d91191",
   "metadata": {},
   "outputs": [
    {
     "name": "stdout",
     "output_type": "stream",
     "text": [
      "Updated Course Code - Course Name Pairs:\n",
      "EC1A5 - Microeconomics I\n",
      "GV100 - Introduction to Political Theory\n",
      "GY103 - Contemporary Europe\n",
      "HP435 - Global Access to Medicines\n",
      "IR206 - International Political Economy\n",
      "LL210 - Information Technology and the Law\n"
     ]
    }
   ],
   "source": [
    "# Modify the dictionary to correct the errors and add the missing course\n",
    "lse_courses['EC1A5'] = 'Microeconomics I'\n",
    "lse_courses['LL210'] = 'Information Technology and the Law'\n",
    "\n",
    "# Print the updated dictionary with course code-name pairings\n",
    "print(\"Updated Course Code - Course Name Pairs:\")\n",
    "for code, name in lse_courses.items():\n",
    "    print(f\"{code} - {name}\")"
   ]
  },
  {
   "cell_type": "markdown",
   "id": "e3443355",
   "metadata": {},
   "source": [
    "<br>\n",
    "\n",
    "<br>\n",
    "\n",
    "\n",
    "### Task 4 - Updating the LSE courses dictionary\n",
    "\n",
    "You've got another list of updates for the course dictionary from your line manager. This list contains new courses as well as existing courses with an updated name.\n",
    "\n",
    "Update the `lse_courses` dictionary to include the new courses.\n"
   ]
  },
  {
   "cell_type": "code",
   "execution_count": 4,
   "id": "d477b9a3",
   "metadata": {},
   "outputs": [],
   "source": [
    "new_courses = {\n",
    "\"GY103\": \"Understand Contemporary Europe\",\n",
    "\"MY465\": \"Intermediate Quantitive Analysis\",\n",
    "\"MY400\": \"Fundamentals of Social Science Research Design\",\n",
    "\"MA207\": \"Further Quantitative Methods\",\n",
    "\"MA100\": \"Mathematical Methods\",\n",
    "\"GV100\": \"Principles of Political Theory\"\n",
    "}\n",
    "\n",
    "lse_courses.update(new_courses)"
   ]
  },
  {
   "cell_type": "markdown",
   "id": "02561402",
   "metadata": {},
   "source": [
    "<br>\n",
    "\n",
    "<br>\n",
    "\n",
    "### Task 5 - Nested dictionaries\n",
    "\n",
    "The team has hired Andrea, an intern to carry out an analysis on student enrolments. You have created the nested dictionary `lse_course_facts` that contains not only course codes and names, but also additional key facts about the courses. Each course code has as a value a dictioary itself with key facts about the course. Andrea has emailed you a few questions, she is hoping you could answer for her:\n",
    "\n",
    "1. What is the name of the course with the code MY465?\n",
    "2. How many students are enrolled in MA100?\n",
    "3. Is IR206 a half or a one-unit course?"
   ]
  },
  {
   "cell_type": "code",
   "execution_count": 7,
   "id": "c6f2a6cb",
   "metadata": {},
   "outputs": [],
   "source": [
    "lse_course_facts = {\n",
    "    'EC1A5': {\n",
    "        \"name\": \"Microeconomics I\",\n",
    "        \"department\": \"Economics\",\n",
    "        \"students\": \"NA\",\n",
    "        \"capped\": \"no\",\n",
    "        \"value\":\"Half Unit\"\n",
    "    },\n",
    "    'GV100': {\n",
    "        \"name\": 'Principles of Political Theory',\n",
    "        \"department\": \"Government\",\n",
    "        \"students\": 285,\n",
    "        \"capped\": \"no\",\n",
    "        \"value\": \"One Unit\"\n",
    "    },\n",
    "    'GY103': {\n",
    "        \"name\":  'Understand Contemporary Europe',\n",
    "        \"department\": \"Geography & Government\",\n",
    "        \"students\": 38,\n",
    "        \"capped\": \"no\",\n",
    "        \"value\": \"One Unit\"\n",
    "    },\n",
    "    'HP435': {\n",
    "        \"name\":  'Global Access to Medicines',\n",
    "        \"department\": \"Health Policy\",\n",
    "        \"students\": \"NA\",\n",
    "        \"capped\": \"NA\",\n",
    "        \"value\": \"Half Unit\"\n",
    "    },\n",
    "    'IR206': {\n",
    "        \"name\": 'International Political Economy',\n",
    "        \"department\": \"Iternational Relations\",\n",
    "        \"students\": 101,\n",
    "        \"capped\": 105,\n",
    "        \"value\": \"One Unit\"\n",
    "    },\n",
    "    'LL210': {\n",
    "        \"name\": 'Information Technology and the Law',\n",
    "        \"department\": \"Law\",\n",
    "        \"students\": 70,\n",
    "        \"capped\": 73,\n",
    "        \"value\": \"One Unit\"\n",
    "    },\n",
    "    'MY465': {\n",
    "        \"name\": 'Intermediate Quantitive Analysis',\n",
    "        \"department\": \"Methodology\",\n",
    "        \"students\": 14,\n",
    "        \"capped\": \"No\",\n",
    "        \"value\": \"Half Unit\"\n",
    "    },\n",
    "    'MY400': {\n",
    "        \"name\": 'Fundamentals of Social Science Research Design',\n",
    "        \"department\": \"Methodology\",\n",
    "        \"students\": 78,\n",
    "        \"capped\": \"No\",\n",
    "        \"value\": \"Half Unit\"\n",
    "    },\n",
    "    'MA207': {\n",
    "        \"name\": 'Further Quantitative Methods',\n",
    "        \"department\": \"Mathematics\",\n",
    "        \"students\": 15,\n",
    "        \"capped\": \"No\",\n",
    "        \"value\": \"Half Unit\"\n",
    "    },\n",
    "    'MA100': {\n",
    "        \"name\": 'Mathematical Methods',\n",
    "        \"department\": \"Mathematics\",\n",
    "        \"students\": 605,\n",
    "        \"capped\": \"No\",\n",
    "        \"value\": \"One Unit\"\n",
    "    },\n",
    "}"
   ]
  },
  {
   "cell_type": "markdown",
   "id": "27bf9b04",
   "metadata": {},
   "source": [
    "Intermediate Quantitive Analysis,  605,  One Unit"
   ]
  },
  {
   "cell_type": "markdown",
   "id": "44405aa1",
   "metadata": {},
   "source": [
    "<br>\n",
    "\n",
    "<br>\n",
    "\n",
    "### Task 6 - Filtering the data\n",
    "\n",
    "Andrea wants to dig deeper into the data and is requesting a subset of the lse_course dictionary for only half-unit courses.\n",
    "\n",
    "Create a new dictionary named `half_unit_courses`, that only consists of the half unit courses."
   ]
  },
  {
   "cell_type": "code",
   "execution_count": 8,
   "id": "5bb506ee",
   "metadata": {},
   "outputs": [],
   "source": [
    "half_unit_courses = {}\n",
    "\n",
    "for code, course_info in lse_course_facts.items():\n",
    "    if course_info[\"value\"] == \"Half Unit\":\n",
    "        half_unit_courses[code] = course_info"
   ]
  },
  {
   "cell_type": "markdown",
   "id": "7366cead",
   "metadata": {},
   "source": [
    "<br>\n",
    "\n",
    "<br>\n",
    "\n",
    "\n",
    "### Task 7 - Filtering more data\n",
    "\n",
    "Andrea realised that there are a few courses that have missing data (`\"NA\"`). She requires only data for courses with complete data. She is asking you to create two separate dictionaries for half unit and one unit courses but only for courses that have complete data."
   ]
  },
  {
   "cell_type": "code",
   "execution_count": 9,
   "id": "d3d92553",
   "metadata": {},
   "outputs": [],
   "source": [
    "complete_half_unit_courses = {}\n",
    "complete_one_unit_courses = {}\n",
    "\n",
    "for code, course_info in lse_course_facts.items():\n",
    "    if course_info[\"value\"] == \"Half Unit\" and \"NA\" not in course_info.values():\n",
    "        complete_half_unit_courses[code] = course_info\n",
    "    elif course_info[\"value\"] == \"One Unit\" and \"NA\" not in course_info.values():\n",
    "        complete_one_unit_courses[code] = course_info"
   ]
  },
  {
   "cell_type": "markdown",
   "id": "bd190951",
   "metadata": {},
   "source": [
    "<br>\n",
    "\n",
    "<br>\n",
    "\n",
    "### Bonus Task - Filtering with a function\n",
    "\n",
    "Andrea keeps sending you requests to filter the course data in different ways. You realise that it would make sense to create a function to filter the data as this will enable you to perform the filtering faster.\n",
    "\n",
    "Create a function to filter the `lse_course_facts` dictionary. The function should enable the user to decide whether they want to include only complete cases or not and which column should take which value."
   ]
  },
  {
   "cell_type": "code",
   "execution_count": 5,
   "id": "5da95581",
   "metadata": {},
   "outputs": [],
   "source": [
    "def filter_courses(courses, include_complete_cases=True, department=None, capped=None, value=None):\n",
    "    filtered_courses = {}\n",
    "\n",
    "    for code, course_info in courses.items():\n",
    "        # Check if the course has complete information\n",
    "        if include_complete_cases and \"NA\" in course_info.values():\n",
    "            continue\n",
    "\n",
    "        # Check department filter\n",
    "        if department is not None and course_info[\"department\"] != department:\n",
    "            continue\n",
    "\n",
    "        # Check capped filter\n",
    "        if capped is not None and str(course_info[\"capped\"]).lower() != str(capped).lower():\n",
    "            continue\n",
    "\n",
    "        # Check value filter\n",
    "        if value is not None and course_info[\"value\"].lower() != value.lower():\n",
    "            continue\n",
    "\n",
    "        # If all conditions are met, include the course\n",
    "        filtered_courses[code] = course_info\n",
    "\n",
    "    return filtered_courses"
   ]
  },
  {
   "cell_type": "markdown",
   "id": "00dc2703",
   "metadata": {},
   "source": [
    "<div class=\"alert alert-block alert-info\" style=\"background-color:#ECECEB; color:#3F3F3F; width:90%; padding:50px;-webkit-border-radius:5px\">\n",
    "\n",
    "### Final task: Please give us your feedback!\n",
    "\n",
    "Upon completing the survey, **you will receive the link to the solution file**, to check how your code compares to the sample solution.\n",
    "\n",
    "In order to adapt our training to your needs and provide the most valuable learning experience for you, we depend on your feedack.\n",
    "\n",
    "We would be grateful if you could take **1 min** before the end of the workshop to get your feedback! \n",
    "\n",
    "<a href=\"https://lse.eu.qualtrics.com/jfe/form/SV_2beTiFd70AlRe5M?coursename=Python Fundamentals 9: Dictionaries&topic=Python&link=https://lsecloud-my.sharepoint.com/:u:/g/personal/m_wiemers_lse_ac_uk/EVBYsHIH0ZZAqpVYo7EKqYgBDxYMgPlsEfS-itWb3zlfQg?e=uWyMFz&prog=DS&version=23-24\"><b>Click here to open the survey</b></a>\n",
    "\n"
   ]
  }
 ],
 "metadata": {
  "kernelspec": {
   "display_name": "Python 3 (ipykernel)",
   "language": "python",
   "name": "python3"
  },
  "language_info": {
   "codemirror_mode": {
    "name": "ipython",
    "version": 3
   },
   "file_extension": ".py",
   "mimetype": "text/x-python",
   "name": "python",
   "nbconvert_exporter": "python",
   "pygments_lexer": "ipython3",
   "version": "3.11.4"
  },
  "vscode": {
   "interpreter": {
    "hash": "2dd13bd0ed3eae5f8ffbec9bca34097be622baa452204de76256e234b77f85de"
   }
  }
 },
 "nbformat": 4,
 "nbformat_minor": 5
}
