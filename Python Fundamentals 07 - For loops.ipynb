{
 "cells": [
  {
   "cell_type": "markdown",
   "metadata": {},
   "source": [
    "<div class=\"alert alert-block alert-info\" style=\"background-color: #323031; color:#ffffff; padding:50px; -webkit-border-radius:5px; width:90%\">\n",
    "\n",
    "\n",
    "## Pre-Sessional Python Workshops\n",
    "\n",
    "The Python pre-sessional workshops will teach you the fundamental data types and programming techniques that are necessary to succeed on any real-world coding project/challenge. The knowledge and skills that you develop in this series will form the foundation for any data analysis, visualisation or software development project in Python.\n",
    "\n",
    "For more information about the Python pre-sessional workshops and instructions on how to install Python on your personal laptop, have a look at the [Python Pre-sessional website](https://dsl-python-presessional.streamlit.app/)\n",
    "\n",
    "\n",
    "### Why learn Python?\n",
    "\n",
    "Python's popularity has seen a remarkable rise since its inception in the late 1990's and has established itself as one of the most widely used languages in the last 10 years. It is currently ranked as one of the top 2 programming languages by the most common programming language rankings. It is now widely used not only for Data Science, where it is leading the field together with R, but also to develop software in a more general sense. If you would like to learn more about how Python can be applied for Data Science and why it has evolved to one of the most popular programming languages overall, have a look at [this section](https://dsl-python-presessional.streamlit.app/Why_Learn_Python) of the Python Pre-Sessional website.\n",
    "\n",
    "#### Program WORDLE in Python\n",
    "In the final step of the Python Fundamental series, you will apply your Python skills to create WORDLE in Python. To develop Wordle in Python, you will have to combine most of the techniques that you have learned in the notebooks in a creative way.\n",
    "    \n",
    "See the video below on what the final game could look like.\n",
    "    \n",
    "<img src=\"https://www.dropbox.com/s/w8bms25985573m2/wordle.gif?raw=1\" height=\"250px\">\n",
    "\n",
    "<br>\n",
    "\n",
    "<br>\n",
    "\n",
    "\n",
    "### Earn your Python certificate\n",
    "\n",
    "The Python Fundamentals series consists of 10 different jupyter notebooks that each teach a different topic. After having completed the series you can claim an online certificate to provide evidence of your Python skills on e.g. LinkdedIN. Please email digital.skills.lab@lse.ac.uk to claim your certificate. \n",
    "\n",
    "There are two types of certificates you can claim. Learners that have completed all Python notebooks apart from the coding challenges notebook, can claim the Python Fundamentals Attendance Badge, which provides evidence of you having completed all exercises apart from the coding challenge. Learners that have completed *at least one* of the coding challenges, can claim the Python Fundamentals Knowledge Badge. This badge provides evidence of having successfully applied the fundamental Python skills to a more complex coding project. This is to highlight that in order to solve the final coding challenges a deeper understanding of the acquired coding techniques and advanced proficiency in their practical application are required.\n",
    "\n",
    "<img src=\"https://www.dropbox.com/scl/fi/q8nl9pzl8y9acx7zesszp/progress_pf07.png?rlkey=yg5rtibf9k35ycintv4leg5hv&raw=1\" height=\"250px\">\n",
    "\n",
    "\n",
    "### Continue to learn Python\n",
    "\n",
    "Once you finished the Python Fundamentals series, you can progress to the Python Data Wrangling and Python Visualisation series to continue to learn with the support of our Python experts on campus or learn with the online learning platform <a href=\"https://dataquest.io\">Dataquest</a>. \n",
    "\n",
    "\n"
   ]
  },
  {
   "cell_type": "markdown",
   "metadata": {},
   "source": [
    "<div class=\"alert alert-block alert-info\" style=\"background-color: #f2f2f2; color:#3F3F3F;width:90%; padding:50px; -webkit-border-radius:5px\">\n",
    "\n",
    "# Python Fundamentals 7 - For loops\n",
    "\n",
    "Welcome to the Intermediate Python series. \n",
    "\n",
    "The Intermediate Python series will teach you control flow and additional data structures that will enable you to write more complex code.\n",
    "\n",
    "This notebook will teach you how to use for loops in Python to perform repetitive processes more efficiently.\n",
    "\n",
    "If you would like to know more about how you can use Python for Data Science and how to install Python on your Mac or Windows, have a look at [this website](https://tinyurl.com/python-dsl).\n",
    "\n",
    "**After having completed this session, you will be able to:**\n",
    "- describe the rationale of using for loops\n",
    "- apply the correct syntax of writing for loops\n",
    "- describe which objects can be used to loop over\n",
    "- use the range() function to create indexes to loop over\n",
    "- write nested for loops\n",
    "\n",
    "<b>What to do when getting stuck</b>:\n",
    "    <ol>\n",
    "        <li>Ask <b>fellow students</b> for help, useful resources and to bounce off.ideas</li>\n",
    "        <li>Ask the <b>trainer</b> if you struggle to find a solution.</li>\n",
    "        <li><b>Search online:</b></li>\n",
    "        <ol>\n",
    "            <li>The answer box on the top of Google's results page</li>\n",
    "            <li><a href=\"https://www.stackoverflow.com\">stackoverflow.com</a> (task-specific solutions)</li>\n",
    "            <li><a href=\"https://www.w3schools.com\">w3schools.com</a> (basic python questions)</li>\n",
    "            <li><a href=\"https://www.realpython.com\">realpython.com</a> (topic-based tutorials)</li>\n",
    "        </ol>\n",
    "    </ol>\n",
    "\n",
    "<br>\n",
    "<br>\n",
    "<div style=\"background-color:#DC143C; border-radius:10px; padding:10px; color:white\">\n",
    "<h5>Guidance on ChatGPT Usage: From R to Python</h5>\n",
    "<p>For total programming beginners, we firmly discourage the use of ChatGPT to learn fundamental coding concepts. However, if you're transitioning from R to Python, while ChatGPT can be a valuable resource, be wary of becoming overly reliant on it. Writing code in Python often demands a deeper understanding of loops and crafting custom functions, compared to R's more straightforward syntax. Relying too much on automated help can hinder your ability to grasp and master these nuances. Ensure you balance assistance with genuine self-effort for optimal learning.</p>\n",
    "</div>\n"
   ]
  },
  {
   "cell_type": "markdown",
   "metadata": {},
   "source": [
    "<img src=\"https://www.lse.ac.uk/Methodology/Assets/Images/GenericImages/LSE-Library.jpg\" width=800px>"
   ]
  },
  {
   "cell_type": "markdown",
   "metadata": {},
   "source": [
    "&nbsp;"
   ]
  },
  {
   "cell_type": "markdown",
   "metadata": {},
   "source": [
    "### For loops - the basics"
   ]
  },
  {
   "cell_type": "markdown",
   "metadata": {},
   "source": [
    "A for loop is a programming tool used to sequentially select each element from a sequence and carry out a set of commands with the currently selected element.\n",
    "\n",
    "Every for loop is defined by the **sequence** from which to select elements from and the variable **name** for the currently selected element. To put it more practically:\n",
    "- From which list (or another sequence) do we select elements?\n",
    "- What should the currently selected element be called?\n",
    "\n",
    "We translate these questions into Python code with the `for` and `in ` keyword. \n",
    "\n",
    "Have a look at the below code cell and try to answer the following questions:\n",
    "* In which line does the for loop start?\n",
    "* What is the sequence from which elements are being selected?\n",
    "* What is the variable name used for the currently selected element? "
   ]
  },
  {
   "cell_type": "code",
   "execution_count": 1,
   "metadata": {
    "tags": []
   },
   "outputs": [
    {
     "name": "stdout",
     "output_type": "stream",
     "text": [
      "0\n",
      "1\n",
      "2\n",
      "end of for loop\n"
     ]
    }
   ],
   "source": [
    "my_list = [0, 1, 2]\n",
    "\n",
    "for number in my_list: \n",
    "    print(number)\n",
    "\n",
    "print('end of for loop')"
   ]
  },
  {
   "cell_type": "markdown",
   "metadata": {},
   "source": [
    "`my_list` is the sequence that we select elements from. `number` is being used as the variable name for the currently selected element. We call this process of selecting elements with a for loop, to loop over or iterrating over `my_list`.\n",
    "\n",
    "The name after `for` can be chosen arbitrarily. For instance, instead of `number`, we could have used `value` or `element` or any other name that makes sense given the purpose of the for loop. The variable we use following `in` however, will be chosen based on how we named the sequence to loop over before we start the for loop.\n",
    "\n",
    "At the end of the `for` statement we use a `:`. All the commands that should be repeated in the for loop have to be indented following the `for` statement. Consequently, `print(number)` is part of the for loop, while `print('end of for loop')` is not.\n",
    "\n",
    "The for loop takes each number from `my_list`, assigns the value to the variable `number` and then prints it. After having looped over all numbers from `my_list` the for loop ends and Python continues with the print statement in line 6."
   ]
  },
  {
   "cell_type": "markdown",
   "metadata": {},
   "source": [
    "<br>\n",
    "\n",
    "### Task 1 - For loop basics\n",
    "\n",
    "1. What would be the output of the for loop, if we added the values 3, 3 and 5 to the list? Try it out.\n",
    "2. How can you print each number twice?\n",
    "\n",
    "&nbsp;"
   ]
  },
  {
   "cell_type": "code",
   "execution_count": 1,
   "metadata": {
    "tags": []
   },
   "outputs": [
    {
     "name": "stdout",
     "output_type": "stream",
     "text": [
      "0\n",
      "1\n",
      "2\n",
      "3\n",
      "5\n",
      "end of for loop\n"
     ]
    }
   ],
   "source": [
    "my_list = [0, 1, 2, 3, 5]\n",
    "\n",
    "for number in my_list: \n",
    "    print(number)\n",
    "\n",
    "print('end of for loop')"
   ]
  },
  {
   "cell_type": "markdown",
   "metadata": {},
   "source": [
    "&nbsp;\n",
    "\n",
    "&nbsp;\n",
    "\n",
    "Let us continue with an example that illustrates how for loops can help us write more efficient code. Imagine you have a list with stock tickers that you want to change from lower to upper case. \n",
    "\n",
    "The `stocks_lower` list contains the stock symbols in lower case. We use the `stocks_upper` list to convert the values to upper case. We need to append each element manually. Depending on the size of the list, doing this with an append statement for each element can be very unpractical. "
   ]
  },
  {
   "cell_type": "code",
   "execution_count": 10,
   "metadata": {},
   "outputs": [
    {
     "name": "stdout",
     "output_type": "stream",
     "text": [
      "['FB', 'GOOG', 'MSFT', 'AAPL', 'AMZN']\n"
     ]
    }
   ],
   "source": [
    "stocks_lower = ['fb', 'goog', 'msft', 'aapl', 'amzn']\n",
    "\n",
    "stocks_upper = []\n",
    "stocks_upper.append(stocks_lower[0].upper())\n",
    "stocks_upper.append(stocks_lower[1].upper())\n",
    "stocks_upper.append(stocks_lower[2].upper())\n",
    "stocks_upper.append(stocks_lower[3].upper())\n",
    "stocks_upper.append(stocks_lower[4].upper())\n",
    "\n",
    "print(stocks_upper)"
   ]
  },
  {
   "cell_type": "markdown",
   "metadata": {},
   "source": [
    "With a for loop we can reduce this to two lines.\n",
    "\n",
    "The loop takes the first element from `stocks_lower`, assigns the value to the variable `symbol` and then appends the symbol as upper case. Then it selects the second element from `stocks_lower`, assigns it to the name `symbol` and appends the symbol as upper case. It continues doing this for each element from the `stocks_lower` list.\n",
    "\n",
    "You can read the for loop like this: <i>\"for each `symbol` in `stock_lower` append to the `stocks_upper` list the `symbol` in upper case.\" </i>."
   ]
  },
  {
   "cell_type": "code",
   "execution_count": 20,
   "metadata": {
    "tags": []
   },
   "outputs": [
    {
     "name": "stdout",
     "output_type": "stream",
     "text": [
      "['FB', 'GOOG', 'MSFT', 'AAPL', 'AMZN']\n"
     ]
    }
   ],
   "source": [
    "stocks_lower = ['fb', 'goog', 'msft', 'aapl', 'amzn']\n",
    "\n",
    "stocks_upper = []\n",
    "\n",
    "for symbol in stocks_lower:\n",
    "    stocks_upper.append(symbol.upper())\n",
    "    \n",
    "print(stocks_upper)"
   ]
  },
  {
   "cell_type": "markdown",
   "metadata": {},
   "source": [
    "<br>\n",
    "\n",
    "### Task 2 - Extracting company names\n",
    "\n",
    "The `shares` list contains a list for the companies Apple, Google and Microsoft. Each list consists of the company name, the number of shares we have in our portfolio and the current share price.\n",
    "\n",
    "1. Use a for loop to print each row of the `shares` list of lists.\n",
    "2. Update your for loop to add each company name to a list named `companies`.\n",
    "3. Print the `companies` list after the for loop.\n",
    "4. Describe in your own words the main purpose of using for loops."
   ]
  },
  {
   "cell_type": "code",
   "execution_count": 55,
   "metadata": {
    "tags": []
   },
   "outputs": [
    {
     "name": "stdout",
     "output_type": "stream",
     "text": [
      "Apple\n",
      "Google\n",
      "MS\n"
     ]
    }
   ],
   "source": [
    "shares = [['Apple', 50, 130.84], \n",
    "          ['Google', 12, 2116.82], \n",
    "          ['MS', 20, 211.12]]\n",
    "   \n",
    "for sample in shares:\n",
    "    print(sample[0])\n",
    "\n"
   ]
  },
  {
   "cell_type": "markdown",
   "metadata": {},
   "source": [
    "&nbsp;"
   ]
  },
  {
   "cell_type": "markdown",
   "metadata": {},
   "source": [
    "<br>\n",
    "\n",
    "### Task 3 - Total portfolio value\n",
    "\n",
    "Calculate the total portfolio value. You will have to calculate the product of the last two values (number of shares and share price) for each stock and then add up these three values.\n",
    "\n",
    "Use a for loop to:\n",
    "1. Select each stock/list from the `shares` list of lists.\n",
    "2. Calculate the total value for the currently selected stock.\n",
    "3. Add the value to `port_value`.\n",
    "4. Print `port_value` after the end of your for loop.\n",
    "\n",
    "As a result you should get 36166.240000000005.\n"
   ]
  },
  {
   "cell_type": "code",
   "execution_count": 93,
   "metadata": {
    "tags": []
   },
   "outputs": [
    {
     "name": "stdout",
     "output_type": "stream",
     "text": [
      "36166.240000000005\n"
     ]
    }
   ],
   "source": [
    "shares = [['Apple', 50, 130.84], \n",
    "          ['Google', 12, 2116.82], \n",
    "          ['MS', 20, 211.12]]\n",
    "\n",
    "# setting a variable for the total portfolio value\n",
    "port_value = 0\n",
    "\n",
    "# write your for loop here\n",
    "for a,b,c in shares:\n",
    "    port_value += b*c\n",
    "print(port_value)"
   ]
  },
  {
   "cell_type": "markdown",
   "metadata": {},
   "source": [
    "&nbsp;"
   ]
  },
  {
   "cell_type": "markdown",
   "metadata": {},
   "source": [
    "### What can be looped over?"
   ]
  },
  {
   "cell_type": "markdown",
   "metadata": {},
   "source": [
    "Each for loop \n",
    "\n",
    "(1) uses an iterable, that is, an object consisting of elements that can be retrieved/selected one by one with a for loop.<br>\n",
    "(2) uses a specific name for value currenctly selected element from the iterable.<br>\n",
    "(3) carries out one or more statements with the selected value.\n",
    "\n",
    "The general structure of a for loop in Python looks like below.\n",
    "\n",
    "```Python\n",
    "for <var> in <iterable>: \n",
    "    <statement>\n",
    "    <statement>\n",
    "    <statement>\n",
    "    ...\n",
    "```"
   ]
  },
  {
   "cell_type": "markdown",
   "metadata": {},
   "source": [
    "An iterable is every object in Python that can be used with a for loop. Lists are not the only objects that fall in that category. Below is a list of the most common iterables in Python.\n",
    "- Lists\n",
    "- Tuples\n",
    "- Dictionaries\n",
    "- Sets\n",
    "- Strings\n",
    "\n",
    "While some of these iterables haven't been covered in the workshops yet, strings, which were covered in session 2 are also iterables. In general, if you can select elements from an object, you can use it with a for loop as well! Be aware, however, that some objects can be used with a for loop, like for instance sets, that do not allow indexing as lists or strings do.\n",
    "\n",
    "Since we can select characters from a string (see below), we can loop over a string to select each element individually one after the other."
   ]
  },
  {
   "cell_type": "code",
   "execution_count": 3,
   "metadata": {},
   "outputs": [
    {
     "name": "stdout",
     "output_type": "stream",
     "text": [
      "l\n",
      "o\n",
      "o\n",
      "p\n",
      "s\n"
     ]
    }
   ],
   "source": [
    "my_str = 'For loops are fun!'\n",
    "\n",
    "print(my_str[4])\n",
    "print(my_str[5])\n",
    "print(my_str[6])\n",
    "print(my_str[7])\n",
    "print(my_str[8])"
   ]
  },
  {
   "cell_type": "markdown",
   "metadata": {},
   "source": [
    "&nbsp;"
   ]
  },
  {
   "cell_type": "markdown",
   "metadata": {},
   "source": [
    "<br>\n",
    "\n",
    "### Task 4 - Loop with a string\n",
    "\n",
    "1. Fill in the var, iterable and statement in the for loop to print each character from the string.\n",
    "2. Adapt the for loop to create a copy of the `my_str` string that has all letters in upper case and a space between the letters. The output should look like this:  \n",
    "  \n",
    "        F O R   L O O P S   A R E   F U N !\n",
    "          \n",
    "3. Describe in your own words what an iterable is. Look up the definition from above \n",
    "4. Name at least two data types that you have learned about in the previous workshops that are not iterables."
   ]
  },
  {
   "cell_type": "code",
   "execution_count": 78,
   "metadata": {
    "tags": []
   },
   "outputs": [
    {
     "name": "stdout",
     "output_type": "stream",
     "text": [
      "F\n",
      " \n",
      "O\n",
      " \n",
      "R\n",
      " \n",
      " \n",
      " \n",
      "L\n",
      " \n",
      "O\n",
      " \n",
      "O\n",
      " \n",
      "P\n",
      " \n",
      "S\n",
      " \n",
      " \n",
      " \n",
      "A\n",
      " \n",
      "R\n",
      " \n",
      "E\n",
      " \n",
      " \n",
      " \n",
      "F\n",
      " \n",
      "U\n",
      " \n",
      "N\n",
      " \n",
      "!\n",
      " \n"
     ]
    }
   ],
   "source": [
    "my_str = 'For loops are fun!'\n",
    "\n",
    "for ch in my_str:\n",
    "    print(ch.upper())\n",
    "    print(\" \")\n",
    "    \n",
    "#NOT iterables >> e.g. bool,datetime,float,integer"
   ]
  },
  {
   "cell_type": "markdown",
   "metadata": {},
   "source": [
    "&nbsp;"
   ]
  },
  {
   "cell_type": "markdown",
   "metadata": {},
   "source": [
    "### The range() function"
   ]
  },
  {
   "cell_type": "markdown",
   "metadata": {},
   "source": [
    "Sometimes, it makes more sense to use integers to select elements from a list with a for loop.\n",
    "\n",
    "Look at the example below on how to use a list with integers to select elements from a list.\n",
    "\n",
    "In line 3, we create the `seq` list with the intergers 0 - 4.\n",
    "\n",
    "The loop in line 5 selects each of the elements from `seq` and uses them to index the elements from `my_list`."
   ]
  },
  {
   "cell_type": "code",
   "execution_count": 2,
   "metadata": {},
   "outputs": [
    {
     "name": "stdout",
     "output_type": "stream",
     "text": [
      "Apple\n",
      "Facebook\n",
      "Google\n",
      "Microsoft\n",
      "Amazon\n"
     ]
    }
   ],
   "source": [
    "my_list = ['Apple', 'Facebook', 'Google', 'Microsoft', 'Amazon']\n",
    "\n",
    "seq = [0, 1, 2, 3, 4]\n",
    "\n",
    "for i in seq:\n",
    "    print(my_list[i])\n",
    "    "
   ]
  },
  {
   "cell_type": "markdown",
   "metadata": {},
   "source": [
    "It is much more efficient to create a sequence with integers automatically with the `range()` function. This way we don't have to type it out. Here, we create a range with the integers 0 - 4. We pass five to the `range()` function to create 5 values, starting with 0."
   ]
  },
  {
   "cell_type": "code",
   "execution_count": 3,
   "metadata": {},
   "outputs": [
    {
     "name": "stdout",
     "output_type": "stream",
     "text": [
      "0\n",
      "1\n",
      "2\n",
      "3\n",
      "4\n"
     ]
    }
   ],
   "source": [
    "for i in range(5):\n",
    "    print(i)"
   ]
  },
  {
   "cell_type": "markdown",
   "metadata": {},
   "source": [
    "The starting value can be changed from 0 to any value lower than the stop (last) value. Out of convenience, the starting value is usually omitted, unless it is a requirement to start from a number larger than 0. Try out different values for the start and stop and explore how it changes the output of the for loop."
   ]
  },
  {
   "cell_type": "code",
   "execution_count": 15,
   "metadata": {},
   "outputs": [
    {
     "name": "stdout",
     "output_type": "stream",
     "text": [
      "0\n",
      "1\n",
      "2\n",
      "3\n",
      "4\n"
     ]
    }
   ],
   "source": [
    "for i in range(0, 5):\n",
    "    print(i)"
   ]
  },
  {
   "cell_type": "markdown",
   "metadata": {},
   "source": [
    "The `range()` function returns a range object, which is an iterable specifically designed to be used with for loops. A range is different from a list in the sense that it does not produce a sequence of integers as such, but only generates them step by step as we loop over the range.\n",
    "\n",
    "If you print the range you will notice that the integers from 0 to 4 are not being printed, since they haven't been produced yet."
   ]
  },
  {
   "cell_type": "code",
   "execution_count": 4,
   "metadata": {},
   "outputs": [
    {
     "name": "stdout",
     "output_type": "stream",
     "text": [
      "range(0, 5)\n"
     ]
    }
   ],
   "source": [
    "range_5 = range(5)\n",
    "print(range_5)"
   ]
  },
  {
   "cell_type": "markdown",
   "metadata": {},
   "source": [
    "We can obtain the integers from the range object when using it with a for loop."
   ]
  },
  {
   "cell_type": "code",
   "execution_count": null,
   "metadata": {},
   "outputs": [
    {
     "name": "stdout",
     "output_type": "stream",
     "text": [
      "0\n",
      "1\n",
      "2\n",
      "3\n",
      "4\n"
     ]
    }
   ],
   "source": [
    "for i in range(0, 5):\n",
    "    print(i)"
   ]
  },
  {
   "cell_type": "markdown",
   "metadata": {},
   "source": [
    "Here is an example of how we can use a integers produced by a range to one-by-one print values from a list."
   ]
  },
  {
   "cell_type": "code",
   "execution_count": 5,
   "metadata": {
    "scrolled": true
   },
   "outputs": [
    {
     "name": "stdout",
     "output_type": "stream",
     "text": [
      "Apple\n",
      "Facebook\n",
      "Google\n",
      "Microsoft\n",
      "Amazon\n"
     ]
    }
   ],
   "source": [
    "for i in range(5):\n",
    "    print(my_list[i])"
   ]
  },
  {
   "cell_type": "markdown",
   "metadata": {},
   "source": [
    "We usually do not want to count the number of elements in our list to create a range. By passing the `len()` function on the list inside the the `range()` function, we can create a range with the correct number of elements, since `len()` will return the number of elements inside a list."
   ]
  },
  {
   "cell_type": "code",
   "execution_count": 6,
   "metadata": {},
   "outputs": [
    {
     "name": "stdout",
     "output_type": "stream",
     "text": [
      "Apple\n",
      "Facebook\n",
      "Google\n",
      "Microsoft\n",
      "Amazon\n"
     ]
    }
   ],
   "source": [
    "for i in range(len(my_list)):\n",
    "\n",
    "    print(my_list[i])"
   ]
  },
  {
   "cell_type": "markdown",
   "metadata": {},
   "source": [
    "&nbsp;"
   ]
  },
  {
   "cell_type": "markdown",
   "metadata": {},
   "source": [
    "### Task 5 - Printing elements using range()\n",
    "\n",
    "The below list has data from five different apps from the App Store. Each list contains the app name, price, currency, downloads and overall rating. \n",
    "\n",
    "Use integers generated from the `range()` function to print each row of the app_data_set list.\n"
   ]
  },
  {
   "cell_type": "code",
   "execution_count": 2,
   "metadata": {},
   "outputs": [
    {
     "name": "stdout",
     "output_type": "stream",
     "text": [
      "['Facebook', 0.0, 'USD', 2974676, 3.5]\n",
      "['Instagram', 0.0, 'USD', 2161558, 4.5]\n",
      "['Clash of Clans', 0.0, 'USD', 2130805, 4.5]\n",
      "['Temple Run', 0.0, 'USD', 1724546, 4.5]\n",
      "['Pandora - Music & Radio', 0.0, 'USD', 1126879, 4.0]\n"
     ]
    }
   ],
   "source": [
    "app_data_set = [['Facebook', 0.0, 'USD', 2974676, 3.5],\n",
    "                ['Instagram', 0.0, 'USD', 2161558, 4.5],\n",
    "                ['Clash of Clans', 0.0, 'USD', 2130805, 4.5],\n",
    "                ['Temple Run', 0.0, 'USD', 1724546, 4.5],\n",
    "                ['Pandora - Music & Radio', 0.0, 'USD', 1126879, 4.0]]\n",
    "\n",
    "for i in range(len(app_data_set)):\n",
    "    print(app_data_set[i])"
   ]
  },
  {
   "cell_type": "markdown",
   "metadata": {},
   "source": [
    "<br>\n",
    "\n",
    "<br>\n",
    "\n",
    "### Bonus task: Using range() to build a list\n",
    "\n",
    "`range()` in combination with `list()` can be used to conveniently build a large list of incremental integers.\n",
    "\n",
    "In the example below, we convert the range into a list by calling the `list()` function on the range we create inside the parentheses. \n"
   ]
  },
  {
   "cell_type": "code",
   "execution_count": 6,
   "metadata": {},
   "outputs": [
    {
     "data": {
      "text/plain": [
       "[0, 1, 2, 3, 4, 5, 6, 7, 8, 9]"
      ]
     },
     "execution_count": 6,
     "metadata": {},
     "output_type": "execute_result"
    }
   ],
   "source": [
    "list(range(10))"
   ]
  },
  {
   "cell_type": "markdown",
   "metadata": {},
   "source": [
    "1. Create a list with the values 1 - 100.\n",
    "2. The range function has a third parameter following the start and stop value, called the step. This third value specifies the step size between from one value to the next, The default value is 1. Set the step to 2 to only generate a list with all the multiples of 2 from 2 to 20.\n",
    "3. Create a list with all multiples of 10 from 10 to 100.\n",
    "4. You can also use a negative step size. Create a list with values from 100 to 1."
   ]
  },
  {
   "cell_type": "code",
   "execution_count": 3,
   "metadata": {},
   "outputs": [
    {
     "data": {
      "text/plain": [
       "[100,\n",
       " 99,\n",
       " 98,\n",
       " 97,\n",
       " 96,\n",
       " 95,\n",
       " 94,\n",
       " 93,\n",
       " 92,\n",
       " 91,\n",
       " 90,\n",
       " 89,\n",
       " 88,\n",
       " 87,\n",
       " 86,\n",
       " 85,\n",
       " 84,\n",
       " 83,\n",
       " 82,\n",
       " 81,\n",
       " 80,\n",
       " 79,\n",
       " 78,\n",
       " 77,\n",
       " 76,\n",
       " 75,\n",
       " 74,\n",
       " 73,\n",
       " 72,\n",
       " 71,\n",
       " 70,\n",
       " 69,\n",
       " 68,\n",
       " 67,\n",
       " 66,\n",
       " 65,\n",
       " 64,\n",
       " 63,\n",
       " 62,\n",
       " 61,\n",
       " 60,\n",
       " 59,\n",
       " 58,\n",
       " 57,\n",
       " 56,\n",
       " 55,\n",
       " 54,\n",
       " 53,\n",
       " 52,\n",
       " 51,\n",
       " 50,\n",
       " 49,\n",
       " 48,\n",
       " 47,\n",
       " 46,\n",
       " 45,\n",
       " 44,\n",
       " 43,\n",
       " 42,\n",
       " 41,\n",
       " 40,\n",
       " 39,\n",
       " 38,\n",
       " 37,\n",
       " 36,\n",
       " 35,\n",
       " 34,\n",
       " 33,\n",
       " 32,\n",
       " 31,\n",
       " 30,\n",
       " 29,\n",
       " 28,\n",
       " 27,\n",
       " 26,\n",
       " 25,\n",
       " 24,\n",
       " 23,\n",
       " 22,\n",
       " 21,\n",
       " 20,\n",
       " 19,\n",
       " 18,\n",
       " 17,\n",
       " 16,\n",
       " 15,\n",
       " 14,\n",
       " 13,\n",
       " 12,\n",
       " 11,\n",
       " 10,\n",
       " 9,\n",
       " 8,\n",
       " 7,\n",
       " 6,\n",
       " 5,\n",
       " 4,\n",
       " 3,\n",
       " 2,\n",
       " 1]"
      ]
     },
     "execution_count": 3,
     "metadata": {},
     "output_type": "execute_result"
    }
   ],
   "source": [
    "list(range(100)) \n",
    "list(range(2, 22, 2)) \n",
    "list(range(10, 101, 10))  \n",
    "list(range(100, 0, -1))  "
   ]
  },
  {
   "cell_type": "markdown",
   "metadata": {},
   "source": [
    "&nbsp;"
   ]
  },
  {
   "cell_type": "markdown",
   "metadata": {},
   "source": [
    "### Task 6 - Adding genres to app data set\n",
    "\n",
    "We have new data on the genre of each app. Your task is to use a for loop to add the genre to each list of the `app_data_set` list in the order they appear in the `genre` list. Add `'social networking'` to the facebook list, `'photo & video'` to the instagram list, `'game'` to the clash of clans list etc.\n",
    "\n",
    "Have a look at the attempt to use a for loop for this task and the output it generates. There is a bug in the code. Although Python doesn't return an error and execute the entire code cell, it does not produce the desired output. How can you fix the bug to select the elements from the `genre` list based on their position?"
   ]
  },
  {
   "cell_type": "code",
   "execution_count": 104,
   "metadata": {},
   "outputs": [
    {
     "name": "stdout",
     "output_type": "stream",
     "text": [
      "['Facebook', 0.0, 'USD', 2974676, 3.5, ['social networking', 'photo & video', 'game', 'game', 'music']]\n",
      "['Instagram', 0.0, 'USD', 2161558, 4.5, ['social networking', 'photo & video', 'game', 'game', 'music']]\n",
      "['Clash of Clans', 0.0, 'USD', 2130805, 4.5, ['social networking', 'photo & video', 'game', 'game', 'music']]\n",
      "['Temple Run', 0.0, 'USD', 1724546, 4.5, ['social networking', 'photo & video', 'game', 'game', 'music']]\n",
      "['Pandora - Music & Radio', 0.0, 'USD', 1126879, 4.0, ['social networking', 'photo & video', 'game', 'game', 'music']]\n"
     ]
    }
   ],
   "source": [
    "app_data_set = [['Facebook', 0.0, 'USD', 2974676, 3.5],\n",
    "                ['Instagram', 0.0, 'USD', 2161558, 4.5],\n",
    "                ['Clash of Clans', 0.0, 'USD', 2130805, 4.5],\n",
    "                ['Temple Run', 0.0, 'USD', 1724546, 4.5],\n",
    "                ['Pandora - Music & Radio', 0.0, 'USD', 1126879, 4.0]]\n",
    "\n",
    "genre = ['social networking', 'photo & video', 'game', 'game', 'music']\n",
    "\n",
    "for row in app_data_set:\n",
    "    row.append(genre)\n",
    "    print(row)"
   ]
  },
  {
   "cell_type": "markdown",
   "metadata": {},
   "source": [
    "<div class=\"alert alert-block alert-info\" style=\"background-color:#ECECEB; color:#3F3F3F; width:90%; padding:50px; -webkit-border-radius:5px\">\n",
    "\n",
    "### Final task: Please give us your feedback!\n",
    "\n",
    "Upon completing the survey, **you will receive the link to the solution file**, to check how your code compares to the sample solution.\n",
    "\n",
    "In order to adapt our training to your needs and provide the most valuable learning experience for you, we depend on your feedack.\n",
    "\n",
    "We would be grateful if you could take **1 min** before the end of the workshop to get your feedback! \n",
    "\n",
    "<a href=\"https://lse.eu.qualtrics.com/jfe/form/SV_2beTiFd70AlRe5M?coursename=Python Fundamentals 7: For loops &topic=Python&link=https://lsecloud-my.sharepoint.com/:u:/g/personal/m_wiemers_lse_ac_uk/EVX0225QDqNKsu3p8uoB8H4Bel8086FFqCjpl3g-s6H5ng?e=OwIcfj&prog=DS&version=23-24\"><b>Click here to open the survey</b></a>\n",
    "\n"
   ]
  },
  {
   "cell_type": "markdown",
   "metadata": {},
   "source": [
    "<br>\n",
    "\n",
    "### Nested for loops\n",
    "\n",
    "A nested for loop is a for loop within another for loop. In the example below, we are using the first for loop to loop over the `names` list. The second for loop loops over the `working_days` list. Since the second for loop is *inside* the first one, it will be completed one time for each name in the `names` list.\n",
    "\n",
    "Here is a step by step description of the nested for loop:\n",
    "\n",
    "The first for loop selects a name from the names list. The second for loop then selects a day from the working_days list. Then a string with the name and day is printed. With the first name being selected, the second for loop now continues to select the next value from the working_days list until it has looped over the last element `'Friday'`. At this point the \n",
    "\n",
    "\n",
    "What the nested for loop does, is to select a name from the `names` list, store it with the `name` variable and then loop over the the entire `working_days` list. It then selects the next name from the `names` list, stores it with the `name` variable and again loops over the entire `working_days` list. It keeps doing this until it has looped over the entire `names` list."
   ]
  },
  {
   "cell_type": "code",
   "execution_count": null,
   "metadata": {},
   "outputs": [
    {
     "name": "stdout",
     "output_type": "stream",
     "text": [
      "sarah works monday\n",
      "sarah works tuesday\n",
      "sarah works wednesday\n",
      "sarah works thursday\n",
      "sarah works friday\n",
      "john works monday\n",
      "john works tuesday\n",
      "john works wednesday\n",
      "john works thursday\n",
      "john works friday\n",
      "abigail works monday\n",
      "abigail works tuesday\n",
      "abigail works wednesday\n",
      "abigail works thursday\n",
      "abigail works friday\n",
      "martin works monday\n",
      "martin works tuesday\n",
      "martin works wednesday\n",
      "martin works thursday\n",
      "martin works friday\n"
     ]
    }
   ],
   "source": [
    "names = ['sarah', 'john', 'abigail', 'martin']\n",
    "working_days = ['monday', 'tuesday', 'wednesday', 'thursday', 'friday']\n",
    "\n",
    "for name in names:\n",
    "    for day in working_days:\n",
    "        print(name, 'works', day)"
   ]
  },
  {
   "cell_type": "markdown",
   "metadata": {},
   "source": [
    "The next code cell creates an interactive for loop. Run the cell and use the button to go to the next step in the for loop. \n",
    "\n",
    "Please ensure to first also download the loopAnim.py file and move it in the same folder as this notebook.\n",
    "\n",
    "The arrow indicates the line that is currently being run. On the right you can see the current value of the `name` and `day` variable, that is being used to print a statement."
   ]
  },
  {
   "cell_type": "code",
   "execution_count": 10,
   "metadata": {},
   "outputs": [],
   "source": [
    "from loopAnim import animated_for_loop\n",
    "\n",
    "animated_for_loop()"
   ]
  },
  {
   "cell_type": "markdown",
   "metadata": {},
   "source": [
    "<br>\n",
    "\n",
    "<br>\n",
    "\n",
    "### Bonus task 1 - Writing a nested for loop\n",
    "\n",
    "Update the for loop to print each number five times using a nested for loop."
   ]
  },
  {
   "cell_type": "code",
   "execution_count": null,
   "metadata": {},
   "outputs": [],
   "source": [
    "numbers = list(range(10))\n",
    "\n",
    "for number in numbers:\n",
    "    print(number)\n",
    "    print(number)\n",
    "    print(number)\n",
    "    print(number)\n",
    "    print(number)"
   ]
  },
  {
   "cell_type": "markdown",
   "metadata": {},
   "source": [
    "<br>\n",
    "\n",
    "<br>\n",
    "\n",
    "### Bonus task 2 - converting strings to floats\n",
    "\n",
    "The numerical data from the App Store has been imported as strings. It is your task to convert each value to the float type. Try to fix the Index error in the attempt below.\n",
    "\n",
    "When debugging code, you always start by figuring out what exactly the code is currently doing.\n",
    "\n",
    "Try to answer the following questions in order to fix it:\n",
    "- Which numbers are being generated for the variables i and j? \n",
    "- How do these numbers map on the dimensions of the `app_data_set` list? Do they map onto the number of rows and/or columns?\n",
    "- What is the purpose of line 9? Which indices are generated by the two for statements? Do all map onto a value in the `app_data_set`?\n",
    "- In line 9 the IndexError is being raised. Which line is causing the error?"
   ]
  },
  {
   "cell_type": "code",
   "execution_count": 4,
   "metadata": {},
   "outputs": [
    {
     "name": "stdout",
     "output_type": "stream",
     "text": [
      "[[0.0, 2974676.0, 3.5], [0.0, 2161558.0, 4.5], [0.0, 2130805.0, 4.5], [0.0, 1724546.0, 4.5], [0.0, 1126879.0, 4.0]]\n"
     ]
    }
   ],
   "source": [
    "app_data_set = [['0.0', '2974676', '3.5'],\n",
    "                ['0.0', '2161558', '4.5'],\n",
    "                ['0.0', '2130805','4.5'],\n",
    "                ['0.0', '1724546', '4.5'],\n",
    "                ['0.0', '1126879', '4.0']]\n",
    "\n",
    "for i in range(len(app_data_set)):\n",
    "    for j in range(len(app_data_set[0])):\n",
    "        app_data_set[i][j] = float(app_data_set[i][j])\n",
    "\n",
    "print(app_data_set)"
   ]
  }
 ],
 "metadata": {
  "kernelspec": {
   "display_name": "Python 3 (ipykernel)",
   "language": "python",
   "name": "python3"
  },
  "language_info": {
   "codemirror_mode": {
    "name": "ipython",
    "version": 3
   },
   "file_extension": ".py",
   "mimetype": "text/x-python",
   "name": "python",
   "nbconvert_exporter": "python",
   "pygments_lexer": "ipython3",
   "version": "3.11.4"
  },
  "vscode": {
   "interpreter": {
    "hash": "6bfbe47bd08290686626768386311ceb83f3a0dbecee84d146c554190cea57e3"
   }
  }
 },
 "nbformat": 4,
 "nbformat_minor": 4
}
