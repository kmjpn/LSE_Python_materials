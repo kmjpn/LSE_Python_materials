{
 "cells": [
  {
   "cell_type": "markdown",
   "metadata": {},
   "source": [
    "<div class=\"alert alert-block alert-info\" style=\"background-color: #323031; color:#ffffff; padding:50px; -webkit-border-radius:5px; width:90%\">\n",
    "\n",
    "\n",
    "## Pre-Sessional Python Workshops\n",
    "\n",
    "The Python pre-sessional workshops will teach you the fundamental data types and programming techniques that are necessary to succeed on any real-world coding project/challenge. The knowledge and skills that you develop in this series will form the foundation for any data analysis, visualisation or software development project in Python.\n",
    "\n",
    "For more information about the Python pre-sessional workshops and instructions on how to install Python on your personal laptop, have a look at the [Python Pre-sessional website](https://dsl-python-presessional.streamlit.app/)\n",
    "\n",
    "\n",
    "### Why learn Python?\n",
    "\n",
    "Python's popularity has seen a remarkable rise since its inception in the late 1990's and has established itself as one of the most widely used languages in the last 10 years. It is currently ranked as one of the top 2 programming languages by the most common programming language rankings. It is now widely used not only for Data Science, where it is leading the field together with R, but also to develop software in a more general sense. If you would like to learn more about how Python can be applied for Data Science and why it has evolved to one of the most popular programming languages overall, have a look at [this section](https://dsl-python-presessional.streamlit.app/Why_Learn_Python) of the Python Pre-Sessional website.\n",
    "\n",
    "#### Program WORDLE in Python\n",
    "In the final step of the Python Fundamental series, you will apply your Python skills to create WORDLE in Python. To develop Wordle in Python, you will have to combine most of the techniques that you have learned in the notebooks in a creative way.\n",
    "    \n",
    "See the video below on what the final game could look like.\n",
    "    \n",
    "<img src=\"https://www.dropbox.com/s/w8bms25985573m2/wordle.gif?raw=1\" height=\"250px\">\n",
    "\n",
    "<br>\n",
    "\n",
    "<br>\n",
    "\n",
    "\n",
    "### Earn your Python certificate\n",
    "\n",
    "The Python Fundamentals series consists of 10 different jupyter notebooks that each teach a different topic. After having completed the series you can claim an online certificate to provide evidence of your Python skills on e.g. LinkdedIN. Please email digital.skills.lab@lse.ac.uk to claim your certificate. \n",
    "\n",
    "There are two types of certificates you can claim. Learners that have completed all Python notebooks apart from the coding challenges notebook, can claim the Python Fundamentals Attendance Badge, which provides evidence of you having completed all exercises apart from the coding challenge. Learners that have completed *at least one* of the coding challenges, can claim the Python Fundamentals Knowledge Badge. This badge provides evidence of having successfully applied the fundamental Python skills to a more complex coding project. This is to highlight that in order to solve the final coding challenges a deeper understanding of the acquired coding techniques and advanced proficiency in their practical application are required.\n",
    "\n",
    "<img src=\"https://www.dropbox.com/scl/fi/wyxf403z26x5qkczxrrpd/progress_pf01.png?rlkey=cth6c7sc1mifnvcmbqbg5wjiu&raw=1\" height=\"250px\">\n",
    "\n",
    "\n",
    "### Continue to learn Python\n",
    "\n",
    "Once you finished the Python Fundamentals series, you can progress to the Python Data Wrangling and Python Visualisation series to continue to learn with the support of our Python experts on campus or learn with the online learning platform <a href=\"https://dataquest.io\">Dataquest</a>. \n",
    "\n",
    "\n"
   ]
  },
  {
   "cell_type": "markdown",
   "metadata": {},
   "source": [
    "<div class=\"alert alert-block alert-info\" style=\"background-color: #f2f2f2; color:#3F3F3F; width:90%; padding:50px; -webkit-border-radius:5px\">\n",
    "\n",
    "## Python Fundamentals 1: Numerical variables\n",
    "\n",
    "The goal of this first session is to learn how to use variables to solve some basic calculation problems.\n",
    "\n",
    "<b>After having completed this session, you will be able to:</b>\n",
    "* run code in Jupyter Notebooks\n",
    "* use the `print()` function to print output\n",
    "* perform basic calculations (addition, subtraction, multiplication and division)\n",
    "* use variables for calculations\n",
    "* add comments to annotate your code\n",
    "\n",
    "\n",
    "\n",
    "<b>What to do when getting stuck</b>:\n",
    "    <ol>\n",
    "        <li>Ask <b>fellow students</b> for help, useful resources and to bounce off ideas</li>\n",
    "        <li>Ask the <b>trainer</b> if you struggle to find a solution.</li>\n",
    "        <li><b>Search online:</b></li>\n",
    "        <ol>\n",
    "            <li>The answer box on the top of Google's results page</li>\n",
    "            <li><a href=\"https://www.stackoverflow.com\">stackoverflow.com</a> (task-specific solutions)</li>\n",
    "            <li><a href=\"https://www.w3schools.com\">w3schools.com</a> (basic python questions)</li>\n",
    "            <li><a href=\"https://www.realpython.com\">realpython.com</a> (topic-based tutorials)</li>\n",
    "        </ol>\n",
    "    </ol>\n",
    "\n",
    "<br>\n",
    "<br>\n",
    "<div style=\"background-color:#DC143C; border-radius:10px; padding:10px; color:white\">\n",
    "<h5>Guidance on ChatGPT Usage: From R to Python</h5>\n",
    "<p>For total programming beginners, we firmly discourage the use of ChatGPT to learn fundamental coding concepts. However, if you're transitioning from R to Python, while ChatGPT can be a valuable resource, be wary of becoming overly reliant on it. Writing code in Python often demands a deeper understanding of loops and crafting custom functions, compared to R's more straightforward syntax. Relying too much on automated help can hinder your ability to grasp and master these nuances. Ensure you balance assistance with genuine self-effort for optimal learning.</p>\n",
    "</div>\n"
   ]
  },
  {
   "cell_type": "markdown",
   "metadata": {},
   "source": [
    "<img src=\"https://db3pap007files.storage.live.com/y4me-CpfQYcCsB9dKSiNP-VZY9tgzCN7_Fllgfk8wMNZdnVP7kuUi7GlaSJwrNACNdcqZa4Ql3avwzrdEl6BvfDLEbRFb-eWhG1hePtkYmIthvyj9_cVgW9clLD-1kgnuuZHfE5rxmukeeG10TP2Zp-2fFCG7V-2ogDuymIFzCZuhq56G2n9Fi-IUD55ubVxn0W3MQE72wfm4E9x1Z_ih1VoQ/py_fund_1_calculator.jpg?psid=1&width=1170&height=779\" width=800px>"
   ]
  },
  {
   "cell_type": "markdown",
   "metadata": {},
   "source": [
    "\n",
    "&nbsp;\n",
    "\n",
    "## Printing numbers"
   ]
  },
  {
   "cell_type": "markdown",
   "metadata": {},
   "source": [
    "The goal of every program is to create some type of output. The output could be anything from a graphic, chart, animation, table, statistics etc. You will learn more about this in the more advanced sessions. In this session, we are going to learn about carrying out numerical calculations. So, how can we use a Python program to output numerical information? \n",
    "\n",
    "For this, we can use the **print()** function, which will print any value that you enter inside the parentheses.\n",
    "\n",
    "**This line below will print the number 2020**\n",
    "\n",
    "```python\n",
    "print(2020)\n",
    "```"
   ]
  },
  {
   "cell_type": "markdown",
   "metadata": {},
   "source": [
    "<br>\n",
    "\n",
    "### Task 1: Printing numbers"
   ]
  },
  {
   "cell_type": "markdown",
   "metadata": {},
   "source": [
    "<ol>\n",
    "    <li>Write a print statement to print the number 2020 and run the code block with Shift+Return</li>\n",
    "    <li>Add a print statement to print the number 1984 and run the code block</li>\n",
    "    <li>Add a print statement to print a decimal number like for instance 3.14159 and run the code block</li>\n",
    "</ol>\n",
    "\n",
    "In programming, whole numbers are called **integers** and decimal numbers are called **floats**."
   ]
  },
  {
   "cell_type": "code",
   "execution_count": 3,
   "metadata": {},
   "outputs": [
    {
     "name": "stdout",
     "output_type": "stream",
     "text": [
      "2020\n",
      "1984\n",
      "5.786756\n"
     ]
    }
   ],
   "source": [
    "print(2020)\n",
    "print(1984)\n",
    "print(5.786756)"
   ]
  },
  {
   "cell_type": "markdown",
   "metadata": {},
   "source": [
    "&nbsp;\n",
    "\n",
    "&nbsp;\n",
    "## Using Python as a calculator"
   ]
  },
  {
   "cell_type": "markdown",
   "metadata": {},
   "source": [
    "You can also use the print function to print the result of a calculation problem. You can carry out calculations very similar to how you would type them into a physical calculator. Just enter the math expression inside the parentheses of the print() function and Python will first evaluate the expression inside the parenthesis and then give the result as an output.\n",
    "\n",
    "<p style=\"color:purple\">Try it out! Run the code block to get the result of 3 + 2</p>"
   ]
  },
  {
   "cell_type": "code",
   "execution_count": 1,
   "metadata": {},
   "outputs": [
    {
     "name": "stdout",
     "output_type": "stream",
     "text": [
      "5\n"
     ]
    }
   ],
   "source": [
    "print(3 + 2)"
   ]
  },
  {
   "cell_type": "markdown",
   "metadata": {},
   "source": [
    "<h3 style=\"color:red\">Common errors: Syntax Error</h3>"
   ]
  },
  {
   "cell_type": "markdown",
   "metadata": {},
   "source": [
    "One of the most common errors in programming is the syntax error. Python will return a syntax error, whenever your code violates the rules of how to write code in Python. It is very similar to a syntax error in human language, but in contrast to humans, computers cannot make sense of code if it doesn't conform 100% to the rules.\n",
    "\n",
    "<img src=\"https://www.dropbox.com/s/ssqraghyq51lziw/syntax_error.png?raw=1\" width=600px>"
   ]
  },
  {
   "cell_type": "markdown",
   "metadata": {},
   "source": [
    "<br>\n",
    "\n",
    "### Task 2: Fix the error"
   ]
  },
  {
   "cell_type": "markdown",
   "metadata": {},
   "source": [
    "<p style=\"color:purple\">Run the block below.</p>\n",
    "\n",
    "Python will return a Syntax error with the message *unexpected EOF while parsing*. Search online to find out what the error message is about and fix the error!"
   ]
  },
  {
   "cell_type": "code",
   "execution_count": 5,
   "metadata": {},
   "outputs": [
    {
     "name": "stdout",
     "output_type": "stream",
     "text": [
      "6\n"
     ]
    }
   ],
   "source": [
    "print(4 + 2)"
   ]
  },
  {
   "cell_type": "markdown",
   "metadata": {},
   "source": [
    "<br>\n",
    "\n",
    "### Task 3: Calculations"
   ]
  },
  {
   "cell_type": "markdown",
   "metadata": {},
   "source": [
    "Use the print() function to print out the result of each problem in the code block below. "
   ]
  },
  {
   "cell_type": "markdown",
   "metadata": {},
   "source": [
    "$5 + 8$\n",
    "\n",
    "$7 - 2$\n",
    "\n",
    "$\\frac{7}{2}$\n",
    "\n",
    "$6 \\cdot 3$\n",
    "\n",
    "$2^3$\n",
    "\n",
    "$\\frac{2 + 4}{2}$\n",
    "\n",
    "$\\frac{3^2}{3 - 1}$\n",
    "\n",
    "$\\frac{8}{(3 - 1)^2}$\n"
   ]
  },
  {
   "cell_type": "code",
   "execution_count": 19,
   "metadata": {},
   "outputs": [
    {
     "name": "stdout",
     "output_type": "stream",
     "text": [
      "13\n",
      "5\n",
      "3.5\n",
      "18\n",
      "8\n",
      "3.0\n",
      "4.5\n",
      "2.0\n"
     ]
    }
   ],
   "source": [
    "print(5+8)\n",
    "print(7-2)\n",
    "print(7/2)\n",
    "print(6*3)\n",
    "print(2**3)\n",
    "print((2+4)/2)\n",
    "print((3**2)/(3-1))\n",
    "print(8/((3-1)**2))"
   ]
  },
  {
   "cell_type": "markdown",
   "metadata": {},
   "source": [
    "<br>\n",
    "\n",
    "### Task 4: Investment word problem"
   ]
  },
  {
   "cell_type": "markdown",
   "metadata": {},
   "source": [
    "Suppose you have £100, which you can invest with a 10% return each year. \n",
    "\n",
    "After one year, it's 100 × 1.1 = 110 Pound, and after two years it's 100 × 1.1 × 1.1 = 121. \n",
    "\n",
    "<p>Print how much money you end up with after 7 years, while using as few code as possible.</p>"
   ]
  },
  {
   "cell_type": "code",
   "execution_count": 21,
   "metadata": {},
   "outputs": [
    {
     "name": "stdout",
     "output_type": "stream",
     "text": [
      "194.87171000000015\n",
      "194.87171000000012\n"
     ]
    }
   ],
   "source": [
    "#Investment word problem\n",
    "print(100*1.1*1.1*1.1*1.1*1.1*1.1*1.1)\n",
    "print(100*((1.1)**7))"
   ]
  },
  {
   "cell_type": "markdown",
   "metadata": {},
   "source": [
    "&nbsp;\n",
    "\n",
    "&nbsp;\n",
    "\n",
    "## Adding comments\n"
   ]
  },
  {
   "cell_type": "markdown",
   "metadata": {},
   "source": [
    "A comment in programming is explanatory text in your script that will be ignored by Python. Comments are primarily intended to make the code easier to understand for other programmers but can also help you to remember the purpose of your code."
   ]
  },
  {
   "cell_type": "markdown",
   "metadata": {},
   "source": [
    "### Task 5: Comments"
   ]
  },
  {
   "cell_type": "markdown",
   "metadata": {},
   "source": [
    "Add a comment in the first line of your *investment word problem* script that explains in one sentence the purpose of the code."
   ]
  },
  {
   "cell_type": "markdown",
   "metadata": {},
   "source": [
    "&nbsp;\n",
    "\n",
    "&nbsp;\n",
    "\n",
    "## Using variables"
   ]
  },
  {
   "cell_type": "markdown",
   "metadata": {},
   "source": [
    "Variables allow you to store information. You can think of variables as named containers. Once a variable has been assigned a specific value, you can refer to the variable name to retrieve that value. The benefit of using variables in your code is that you can create the variable once and can reuse it anywhere else inside your code. If you for instance import a dataset into Python as a variable, you can then use that variable name to work with the dataset."
   ]
  },
  {
   "cell_type": "markdown",
   "metadata": {},
   "source": [
    "### Creating a variable"
   ]
  },
  {
   "cell_type": "markdown",
   "metadata": {},
   "source": [
    "Below we are creating a variable with the name savings and assign the integer 12000 to it by putting the = operator in between the name and the value.\n",
    "\n",
    "<p style=\"color:purple\">Run the code block to create the variable <em>savings</em>.</p>"
   ]
  },
  {
   "cell_type": "code",
   "execution_count": 7,
   "metadata": {},
   "outputs": [],
   "source": [
    "savings = 12000"
   ]
  },
  {
   "cell_type": "markdown",
   "metadata": {},
   "source": [
    "Whenever we now write savings in a code block, Python will look up the value that has been assigned to that variable. \n",
    "\n",
    "<p style=\"color:purple\"><strong>Exericse:</strong> Print the variable <em>savings</em>.</p>"
   ]
  },
  {
   "cell_type": "code",
   "execution_count": 17,
   "metadata": {},
   "outputs": [
    {
     "name": "stdout",
     "output_type": "stream",
     "text": [
      "12000\n"
     ]
    }
   ],
   "source": [
    "savings=12000\n",
    "print(savings)"
   ]
  },
  {
   "cell_type": "markdown",
   "metadata": {},
   "source": [
    "<h3 style=\"color:red\">Common errors: Name Error</h3>"
   ]
  },
  {
   "cell_type": "markdown",
   "metadata": {},
   "source": [
    "The name error is another common error, which occurs when Python cannot find a variable in memory that is being used in your script. \n",
    "\n",
    "The most common causes of a name error are:\n",
    "* a typo - you misspelled the variable at some point in your script\n",
    "* you are referring to a variable that you didn't create earlier in your script"
   ]
  },
  {
   "cell_type": "markdown",
   "metadata": {},
   "source": [
    "<p style=\"color:purple\"><strong>Exercise: </strong>Try to trigger a name error on purpose with the print() function.</p>"
   ]
  },
  {
   "cell_type": "code",
   "execution_count": 22,
   "metadata": {},
   "outputs": [
    {
     "ename": "NameError",
     "evalue": "name 'undifined' is not defined",
     "output_type": "error",
     "traceback": [
      "\u001b[0;31m---------------------------------------------------------------------------\u001b[0m",
      "\u001b[0;31mNameError\u001b[0m                                 Traceback (most recent call last)",
      "Cell \u001b[0;32mIn[22], line 1\u001b[0m\n\u001b[0;32m----> 1\u001b[0m \u001b[38;5;28mprint\u001b[39m(undifined)\n",
      "\u001b[0;31mNameError\u001b[0m: name 'undifined' is not defined"
     ]
    }
   ],
   "source": [
    "print(undifined)"
   ]
  },
  {
   "cell_type": "markdown",
   "metadata": {},
   "source": [
    "### Rules for naming variables"
   ]
  },
  {
   "cell_type": "markdown",
   "metadata": {},
   "source": [
    "When creating variables, we have to make sure that we comply with **Python's rules**:\n",
    "\n",
    "- Variable names can only consist of letters (a-z, A-Z), digits(0-9) and the underscore _\n",
    "- Variable names cannot start with a digit"
   ]
  },
  {
   "cell_type": "markdown",
   "metadata": {},
   "source": [
    "### Task 6 : Applying variables to the investment word problem"
   ]
  },
  {
   "cell_type": "markdown",
   "metadata": {},
   "source": [
    "1. Create variables for each of the values in the calculation\n",
    "\n",
    "    * intial savings\n",
    "    * interest rate\n",
    "    * years of investment\n",
    "\n",
    "\n",
    "2. Create a variable for the final savings and calculate the final savings with the variables from above\n",
    "\n",
    "\n",
    "3. Print the final savings"
   ]
  },
  {
   "cell_type": "code",
   "execution_count": 26,
   "metadata": {},
   "outputs": [
    {
     "name": "stdout",
     "output_type": "stream",
     "text": [
      "259.3742460100002\n"
     ]
    }
   ],
   "source": [
    "initial_savings = 100\n",
    "interest_rate =0.1\n",
    "years_of_investment =10\n",
    "final_savings = initial_savings*((1+interest_rate)**(years_of_investment))\n",
    "print(final_savings)\n"
   ]
  },
  {
   "cell_type": "markdown",
   "metadata": {},
   "source": [
    "<div class=\"alert alert-block alert-info\" style=\"background-color:#ECECEB; color:#3F3F3F; width:90%; padding:50px; -webkit-border-radius:5px\">\n",
    "\n",
    "### Final task: Please give us your feedback!\n",
    "\n",
    "Upon completing the survey, **you will receive the link to the solution file**, to check how your code compares to the sample solution.\n",
    "\n",
    "In order to adapt our training to your needs and provide the most valuable learning experience for you, we depend on your feedack.\n",
    "\n",
    "We would be grateful if you could take **1 min** before the end of the workshop to get your feedback! \n",
    "\n",
    "<a href=\"https://lse.eu.qualtrics.com/jfe/form/SV_2beTiFd70AlRe5M?coursename=Python Fundamentals 1: Numerical Variables &topic=Python&link=https://lsecloud-my.sharepoint.com/:u:/g/personal/m_wiemers_lse_ac_uk/EbgvxQXBIPFOmdEtJm3_BrMBKPzZXq018-uYw1Q_XnvAww?e=qef0dG&prog=DS&version=23-24\"><b>Click here to open the survey!</b></a>\n",
    "\n",
    "\n",
    "</div>"
   ]
  },
  {
   "cell_type": "markdown",
   "metadata": {},
   "source": [
    "&nbsp;\n",
    "\n",
    "&nbsp;\n",
    "\n",
    "### Bonus task: Debugging - spot the errors and fix them\n",
    "\n",
    "Work on this coding challenge individually either at the end of the workshop or sometime before the next workshop.\n",
    "\n",
    "The process of identifying and fixing errors in your program is called debugging. You already have learned what a syntax and name error is. While these are very common, they also are quite easy to fix since Python will interrupt your program as soon as it detects them and return an error message.\n",
    "\n",
    "A **logic error**, which is also referred to as a **bug** will not prevent Python from running your script but it will create a wrong output. A logic error when running an analysis script could be selecting the wrong column from your dataset when running a regression analysis. Python will still run the script and provide an output for the regression analysis but it will not represent the model that you wanted to test.\n",
    "\n",
    "There are three erros in the code below:\n",
    "- a logic error/bug\n",
    "- a name error\n",
    "- a syntax error\n",
    "\n",
    "Find them all and fix them!"
   ]
  },
  {
   "cell_type": "code",
   "execution_count": 2,
   "metadata": {},
   "outputs": [
    {
     "name": "stdout",
     "output_type": "stream",
     "text": [
      "22896000\n"
     ]
    }
   ],
   "source": [
    "seconds_in_a_minute = 60\n",
    "seconds_in_an_hour = seconds_in_a_minute * 60\n",
    "seconds_in_a_day = seconds_in_an_hour * 24\n",
    "seconds_in_a_year = seconds_in_a_day * 265\n",
    "print (seconds_in_a_year)"
   ]
  },
  {
   "cell_type": "code",
   "execution_count": 4,
   "metadata": {},
   "outputs": [
    {
     "name": "stdout",
     "output_type": "stream",
     "text": [
      "22896000\n"
     ]
    }
   ],
   "source": [
    "seconds_in_a_minute = 60\n",
    "seconds_in_an_hour = seconds_in_a_minute * 60\n",
    "seconds_in_a_day = seconds_in_an_hour * 24\n",
    "seconds_in_a_year = seconds_in_a_day * 265\n",
    "print (seconds_in_a_year)"
   ]
  }
 ],
 "metadata": {
  "kernelspec": {
   "display_name": "Python 3 (ipykernel)",
   "language": "python",
   "name": "python3"
  },
  "language_info": {
   "codemirror_mode": {
    "name": "ipython",
    "version": 3
   },
   "file_extension": ".py",
   "mimetype": "text/x-python",
   "name": "python",
   "nbconvert_exporter": "python",
   "pygments_lexer": "ipython3",
   "version": "3.11.4"
  },
  "vscode": {
   "interpreter": {
    "hash": "8db1f09a32d6b35fc63d81a5bbd5fe6d51c44c284dda5c048030b81f332a96ab"
   }
  }
 },
 "nbformat": 4,
 "nbformat_minor": 4
}
