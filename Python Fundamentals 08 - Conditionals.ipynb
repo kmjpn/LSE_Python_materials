{
 "cells": [
  {
   "cell_type": "markdown",
   "metadata": {},
   "source": [
    "<div class=\"alert alert-block alert-info\" style=\"background-color: #323031; color:#ffffff; padding:50px; -webkit-border-radius:5px; width:90%\">\n",
    "\n",
    "\n",
    "## Pre-Sessional Python Workshops\n",
    "\n",
    "The Python pre-sessional workshops will teach you the fundamental data types and programming techniques that are necessary to succeed on any real-world coding project/challenge. The knowledge and skills that you develop in this series will form the foundation for any data analysis, visualisation or software development project in Python.\n",
    "\n",
    "For more information about the Python pre-sessional workshops and instructions on how to install Python on your personal laptop, have a look at the [Python Pre-sessional website](https://dsl-python-presessional.streamlit.app/)\n",
    "\n",
    "\n",
    "### Why learn Python?\n",
    "\n",
    "Python's popularity has seen a remarkable rise since its inception in the late 1990's and has established itself as one of the most widely used languages in the last 10 years. It is currently ranked as one of the top 2 programming languages by the most common programming language rankings. It is now widely used not only for Data Science, where it is leading the field together with R, but also to develop software in a more general sense. If you would like to learn more about how Python can be applied for Data Science and why it has evolved to one of the most popular programming languages overall, have a look at [this section](https://dsl-python-presessional.streamlit.app/Why_Learn_Python) of the Python Pre-Sessional website.\n",
    "\n",
    "#### Program WORDLE in Python\n",
    "In the final step of the Python Fundamental series, you will apply your Python skills to create WORDLE in Python. To develop Wordle in Python, you will have to combine most of the techniques that you have learned in the notebooks in a creative way.\n",
    "    \n",
    "See the video below on what the final game could look like.\n",
    "    \n",
    "<img src=\"https://www.dropbox.com/s/w8bms25985573m2/wordle.gif?raw=1\" height=\"250px\">\n",
    "\n",
    "<br>\n",
    "\n",
    "<br>\n",
    "\n",
    "\n",
    "### Earn your Python certificate\n",
    "\n",
    "The Python Fundamentals series consists of 10 different jupyter notebooks that each teach a different topic. After having completed the series you can claim an online certificate to provide evidence of your Python skills on e.g. LinkdedIN. Please email digital.skills.lab@lse.ac.uk to claim your certificate. \n",
    "\n",
    "There are two types of certificates you can claim. Learners that have completed all Python notebooks apart from the coding challenges notebook, can claim the Python Fundamentals Attendance Badge, which provides evidence of you having completed all exercises apart from the coding challenge. Learners that have completed *at least one* of the coding challenges, can claim the Python Fundamentals Knowledge Badge. This badge provides evidence of having successfully applied the fundamental Python skills to a more complex coding project. This is to highlight that in order to solve the final coding challenges a deeper understanding of the acquired coding techniques and advanced proficiency in their practical application are required.\n",
    "\n",
    "<img src=\"https://www.dropbox.com/scl/fi/k33jdgbcvpd9xmg8jwsfs/progress_pf08.png?rlkey=m09zdy8vwio5cpws34h8lzqyt&raw=1\" height=\"250px\">\n",
    "\n",
    "\n",
    "### Continue to learn Python\n",
    "\n",
    "Once you finished the Python Fundamentals series, you can progress to the Python Data Wrangling and Python Visualisation series to continue to learn with the support of our Python experts on campus or learn with the online learning platform <a href=\"https://dataquest.io\">Dataquest</a>. \n",
    "\n",
    "\n"
   ]
  },
  {
   "cell_type": "markdown",
   "metadata": {},
   "source": [
    "<div class=\"alert alert-block alert-info\" style=\"background-color: #f2f2f2; color:#3F3F3F; width:90%; padding:50px; -webkit-border-radius:5px\">\n",
    "\n",
    "# Python Fundamentals 8 - Conditionals & Control Flow\n",
    "\n",
    "This notebook will cover conditionals, which can be used to compare values, test whether a statement is true or not, and control the flow of your code.\n",
    "\n",
    "If you would like to know more about how you can use Python for Data Science and how to install Python on your Mac or Windows, have a look at [this website](https://tinyurl.com/python-dsl).\n",
    "\n",
    "**After having completed this session, you will be able to:**:\n",
    "- use logical operators to make comparisons\n",
    "- use if-else statements to control the flow of your code\n",
    "- combine for loops with if-else \n",
    "- use boolean operators to combine conditional expressions\n",
    "\n",
    "<b>What to do when getting stuck</b>:\n",
    "    <ol>\n",
    "        <li>Ask <b>fellow students</b> for help, useful resources and to bounce off ideas</li>\n",
    "        <li>Ask the <b>trainer</b> if you struggle to find a solution.</li>\n",
    "        <li><b>Search online:</b></li>\n",
    "        <ol>\n",
    "            <li>The answer box on the top of Google's results page</li>\n",
    "            <li><a href=\"https://www.stackoverflow.com\">stackoverflow.com</a> (task-specific solutions)</li>\n",
    "            <li><a href=\"https://www.w3schools.com\">w3schools.com</a> (basic python questions)</li>\n",
    "            <li><a href=\"https://www.realpython.com\">realpython.com</a> (topic-based tutorials)</li>\n",
    "        </ol>\n",
    "    </ol>\n",
    "\n",
    "<br>\n",
    "<br>\n",
    "<div style=\"background-color:#DC143C; border-radius:10px; padding:10px; color:white\">\n",
    "<h5>Guidance on ChatGPT Usage: From R to Python</h5>\n",
    "<p>For total programming beginners, we firmly discourage the use of ChatGPT to learn fundamental coding concepts. However, if you're transitioning from R to Python, while ChatGPT can be a valuable resource, be wary of becoming overly reliant on it. Writing code in Python often demands a deeper understanding of loops and crafting custom functions, compared to R's more straightforward syntax. Relying too much on automated help can hinder your ability to grasp and master these nuances. Ensure you balance assistance with genuine self-effort for optimal learning.</p>\n",
    "</div>\n"
   ]
  },
  {
   "cell_type": "markdown",
   "metadata": {},
   "source": [
    "<img src=\"https://www.adexchanger.com/wp-content/uploads/2021/02/switchboard.jpg\" width=800px>\n",
    "\n",
    "&nbsp;"
   ]
  },
  {
   "cell_type": "markdown",
   "metadata": {},
   "source": [
    "## Conditionals"
   ]
  },
  {
   "cell_type": "markdown",
   "metadata": {},
   "source": [
    "In programming, we use conditional expressions to test whether a specific statement is true or not. Conditional expressions are often used to direct the flow in a program, i.e. to determine whether to execute one set of lines of code or another one. \n",
    "\n",
    "We will start off with some very basic examples of using conditional expressions to compare two values and then advance to how we can use these expressions to control the flow of our code using if-else statements. \n",
    "\n",
    "Later on in the Data Wrangling with Python series, you will learn about how conditional expressions are being used to create subsets of a dataset. We can use them to select rows in our data that meet a specific condition. You could, for instance, use conditionals to create a subset for male or female respondents."
   ]
  },
  {
   "cell_type": "markdown",
   "metadata": {},
   "source": [
    "###  Logical operators"
   ]
  },
  {
   "cell_type": "markdown",
   "metadata": {},
   "source": [
    "In the example below, we assign to `x` the value 2 and then test whether `x` is equal to 2 using the `==` operator. This returns the Boolean `True`, since the statement `x == 2` is true. \n",
    "\n",
    "Notice that we use the single equal operator `=` to assign values. We use the double equals operator `==` to test whether two values are identical.\n"
   ]
  },
  {
   "cell_type": "code",
   "execution_count": 3,
   "metadata": {},
   "outputs": [],
   "source": [
    "x = 2\n",
    "print(x == 2)"
   ]
  },
  {
   "cell_type": "markdown",
   "metadata": {},
   "source": [
    "Conditionals can only return a `True` or `False` Boolean. You might be able to guess what this expression will return."
   ]
  },
  {
   "cell_type": "code",
   "execution_count": 15,
   "metadata": {},
   "outputs": [],
   "source": [
    "print(x == 3)"
   ]
  },
  {
   "cell_type": "markdown",
   "metadata": {},
   "source": [
    "&nbsp;\n",
    "\n",
    "The `==` operator is one of several logical operators that we can use to compare values. Below is a list of all available logical operators.\n",
    "\n",
    "<br> \n",
    "\n",
    "<table align=\"left\">\n",
    "    <tr>\n",
    "        <th style=\"text-align:left\">operator</th>\n",
    "        <th style=\"text-align:left\">comparison</th>\n",
    "    </tr>\n",
    "    <tr>\n",
    "        <td style=\"text-align:left\"> > </td>\n",
    "        <td style=\"text-align:left\">greather than</td>\n",
    "    </tr>\n",
    "        <tr>\n",
    "        <td style=\"text-align:left\"> < </td>\n",
    "        <td style=\"text-align:left\">smaller than</td>\n",
    "    </tr>\n",
    "        <tr>\n",
    "        <td style=\"text-align:left\"> >= </td>\n",
    "        <td style=\"text-align:left\">greather or equal than</td>\n",
    "    </tr>\n",
    "        <tr>\n",
    "        <td style=\"text-align:left\"> <= </td>\n",
    "        <td style=\"text-align:left\">smaller or equal than</td>\n",
    "    </tr>\n",
    "        <tr>\n",
    "        <td style=\"text-align:left\"> == </td>\n",
    "        <td style=\"text-align:left\">equal to</td>\n",
    "    </tr>\n",
    "    <tr>\n",
    "        <td style=\"text-align:left\"> != </td>\n",
    "        <td style=\"text-align:left\">unequal to</td>\n",
    "    </tr>\n",
    "</table>"
   ]
  },
  {
   "cell_type": "markdown",
   "metadata": {},
   "source": [
    "<br>\n",
    "\n",
    "### Task 1 - Predict the output\n",
    "\n",
    "Look up the meaning of the operator in the list above and try to predict each of the expressions before running the code cell. "
   ]
  },
  {
   "cell_type": "code",
   "execution_count": 21,
   "metadata": {},
   "outputs": [],
   "source": [
    "print(x > 0)"
   ]
  },
  {
   "cell_type": "code",
   "execution_count": 23,
   "metadata": {},
   "outputs": [],
   "source": [
    "print(x < 2)"
   ]
  },
  {
   "cell_type": "code",
   "execution_count": 24,
   "metadata": {},
   "outputs": [],
   "source": [
    "print(x != 2)"
   ]
  },
  {
   "cell_type": "code",
   "execution_count": 25,
   "metadata": {},
   "outputs": [],
   "source": [
    "print(x >= 1)"
   ]
  },
  {
   "cell_type": "code",
   "execution_count": 26,
   "metadata": {
    "scrolled": true
   },
   "outputs": [],
   "source": [
    "print(x <= 2)"
   ]
  },
  {
   "cell_type": "markdown",
   "metadata": {},
   "source": [
    "In the Python Fundamentals 3 workshop you've learned how Booleans are actually stored in memory. Keeping that in mind, what will the following expressions return?"
   ]
  },
  {
   "cell_type": "code",
   "execution_count": 1,
   "metadata": {},
   "outputs": [
    {
     "name": "stdout",
     "output_type": "stream",
     "text": [
      "True\n"
     ]
    }
   ],
   "source": [
    "print(True == 1)"
   ]
  },
  {
   "cell_type": "code",
   "execution_count": 2,
   "metadata": {},
   "outputs": [
    {
     "name": "stdout",
     "output_type": "stream",
     "text": [
      "True\n"
     ]
    }
   ],
   "source": [
    "print(False < 1)"
   ]
  },
  {
   "cell_type": "markdown",
   "metadata": {},
   "source": [
    "<br>\n",
    "\n",
    "### Task 2 - Guess my number\n",
    "\n",
    "I've created a secret number with the `randint()` function from the random module. It has a value betwen 1 and 10.\n",
    "\n",
    "1. Run the first cell to create the secret number.\n",
    "1. Use a maximum of 4 conditional statements to test the value of `secret_number` without printing it in the second cell.\n",
    "2. Print the value to test your hypothesis."
   ]
  },
  {
   "cell_type": "code",
   "execution_count": 3,
   "metadata": {},
   "outputs": [],
   "source": [
    "from random import randint\n",
    "\n",
    "secret_number = randint(1,10)\n"
   ]
  },
  {
   "cell_type": "code",
   "execution_count": 5,
   "metadata": {},
   "outputs": [
    {
     "data": {
      "text/plain": [
       "True"
      ]
     },
     "execution_count": 5,
     "metadata": {},
     "output_type": "execute_result"
    }
   ],
   "source": [
    "# write your four conditional statements here\n",
    "secret_number == 1\n",
    "secret_number < 9\n",
    "secret_number > 0 \n",
    "secret_number !=5"
   ]
  },
  {
   "cell_type": "markdown",
   "metadata": {},
   "source": [
    "&nbsp;\n",
    "\n",
    "## If else"
   ]
  },
  {
   "cell_type": "markdown",
   "metadata": {},
   "source": [
    "We can use conditionals together with if-else statements to control the flow of our program to select when to run which code.\n",
    "\n",
    "When the `if` keyword is followed by a `True`, the code inside the if-statement will be run."
   ]
  },
  {
   "cell_type": "code",
   "execution_count": 7,
   "metadata": {},
   "outputs": [],
   "source": [
    "if True:\n",
    "    print(\"hello world!\")"
   ]
  },
  {
   "cell_type": "markdown",
   "metadata": {},
   "source": [
    "When the `if` keyword is followed by a `False`, the code will not be run."
   ]
  },
  {
   "cell_type": "code",
   "execution_count": 8,
   "metadata": {},
   "outputs": [],
   "source": [
    "if False:\n",
    "    print(\"hello world!\")"
   ]
  },
  {
   "cell_type": "markdown",
   "metadata": {},
   "source": [
    "Let us use a conditional instead of entering the `True` and `False` manually. The conditional will be evaluated to either a `True` or `False` and based on that the code inside the if statement, will either be executed or not."
   ]
  },
  {
   "cell_type": "code",
   "execution_count": 5,
   "metadata": {},
   "outputs": [
    {
     "name": "stdout",
     "output_type": "stream",
     "text": [
      "x equals 2\n"
     ]
    }
   ],
   "source": [
    "x = 2\n",
    "\n",
    "if x == 2:\n",
    "    print(\"x equals 2\")\n",
    "\n"
   ]
  },
  {
   "cell_type": "markdown",
   "metadata": {},
   "source": [
    "If we change the conditional to `x == 3`, it now returns a False and the print statement will not be performed."
   ]
  },
  {
   "cell_type": "code",
   "execution_count": 6,
   "metadata": {},
   "outputs": [],
   "source": [
    "if x == 3:\n",
    "    print(\"x equals 3\")"
   ]
  },
  {
   "cell_type": "markdown",
   "metadata": {},
   "source": [
    "We can add the `else` keyword to run some code when the if-statement is `False`. Since `x` is now 3, the conditional `x == 2` returns `False` and Python jumps to the `else` statement. The code following the `else` keyword will always be executed when the if statement evaluates to `False`."
   ]
  },
  {
   "cell_type": "code",
   "execution_count": 43,
   "metadata": {},
   "outputs": [
    {
     "name": "stdout",
     "output_type": "stream",
     "text": [
      "x doesn't equal 2\n"
     ]
    }
   ],
   "source": [
    "x = 3\n",
    "\n",
    "if x == 2:\n",
    "    print(\"x equals 2\")\n",
    "else:\n",
    "    print(\"x doesn't equal 2\")"
   ]
  },
  {
   "cell_type": "markdown",
   "metadata": {},
   "source": [
    "<br>\n",
    "\n",
    "### Task 3 - Odd-even detector\n",
    "\n",
    "You can use the modulo operator to return the remainder of a division of two numbers. `4 % 2` returns 0, since 4 divided by 2 returns 2 with no remainder.\n",
    "\n",
    "`5 % 2` however returns 1, since 5 divided by 2 equals 2 with a remainder of 1.\n",
    "\n",
    "Play around with the modulo operator to get a feeling for this operator."
   ]
  },
  {
   "cell_type": "code",
   "execution_count": 11,
   "metadata": {},
   "outputs": [
    {
     "name": "stdout",
     "output_type": "stream",
     "text": [
      "0\n",
      "1\n"
     ]
    }
   ],
   "source": [
    "print(4 % 2)\n",
    "print(5 % 2)"
   ]
  },
  {
   "cell_type": "markdown",
   "metadata": {},
   "source": [
    "1. We use the `randint()` function to create a random integer between 1 - 10.\n",
    "2. Use an if-else statement to print whether the integer is odd or even.\n",
    "3. Run the code cell a few times to test it out with different values."
   ]
  },
  {
   "cell_type": "code",
   "execution_count": 11,
   "metadata": {},
   "outputs": [
    {
     "name": "stdout",
     "output_type": "stream",
     "text": [
      "False\n"
     ]
    }
   ],
   "source": [
    "from random import randint\n",
    "\n",
    "my_int = randint(1,10)\n",
    "\n",
    "if my_int % 2 ==0:\n",
    "    print(True)\n",
    "    \n",
    "else:\n",
    "    print(False)\n",
    "\n"
   ]
  },
  {
   "cell_type": "markdown",
   "metadata": {},
   "source": [
    "<br>\n",
    "\n",
    "<br>\n",
    "\n",
    "### The in keyword"
   ]
  },
  {
   "cell_type": "markdown",
   "metadata": {},
   "source": [
    "With the in keyword we can test whether a value is part of a sequence. Try it out for yourself."
   ]
  },
  {
   "cell_type": "code",
   "execution_count": 13,
   "metadata": {},
   "outputs": [
    {
     "data": {
      "text/plain": [
       "True"
      ]
     },
     "execution_count": 13,
     "metadata": {},
     "output_type": "execute_result"
    }
   ],
   "source": [
    "x = 2\n",
    "x in [1, 2, 3, 4, 5]"
   ]
  },
  {
   "cell_type": "markdown",
   "metadata": {},
   "source": [
    "What is this code cell going to print? Even though the value of `x` is chosen randomly, you can predict the output."
   ]
  },
  {
   "cell_type": "code",
   "execution_count": 62,
   "metadata": {},
   "outputs": [],
   "source": [
    "x = randint(10, 20)\n",
    "\n",
    "if x in range(10):\n",
    "    print('x is in range')\n",
    "else:\n",
    "    print('x is not in range')"
   ]
  },
  {
   "cell_type": "markdown",
   "metadata": {},
   "source": [
    "<br>\n",
    "\n",
    "### Task 4 - Guessing game\n",
    "\n",
    "The user has to guess one of your favourite super heroes from the `fav_supes` list.\n",
    "\n",
    "1. Capitalize `supe_guess` so that the input is in the same format as the strings in the list.\n",
    "2. Use a if-else statement to test whether the input is in the `fav_supes` list. Print a message depending on whether the user guessed correctly or not.\n"
   ]
  },
  {
   "cell_type": "code",
   "execution_count": 12,
   "metadata": {},
   "outputs": [
    {
     "name": "stdout",
     "output_type": "stream",
     "text": [
      "Guess the name of one of my favourite super heroes: aquaman\n",
      "OK\n"
     ]
    }
   ],
   "source": [
    "fav_supes = ['Aquaman', 'Batman', 'Hulk', 'Bane', 'Storm']\n",
    "\n",
    "supe_guess = input('Guess the name of one of my favourite super heroes: ')\n",
    "\n",
    "if supe_guess.capitalize() in fav_supes:\n",
    "    print(\"OK\")\n",
    "else:\n",
    "    print(\"Game Over...\")"
   ]
  },
  {
   "cell_type": "markdown",
   "metadata": {},
   "source": [
    "<br>\n",
    "\n",
    "## Task 5: For loops with if-else\n",
    "\n",
    "In the example below, we are using a for loop with an if-else statement to calculate the total power of the good and bad superheroes from the `supes` list.\n",
    "\n",
    "For each superhero the first three string values are for their name, alignment (good vs. bad) and gender. The two integers are for their intelligence and overall power.\n",
    "\n",
    "<br> \n",
    "\n",
    "Read the comments to understand the different steps to calculate the power of good and bad superheroes.\n",
    "\n",
    "Replace the last two print statements with a message that either says `\"The goodies are stronger!\"` or `\"The baddies are stronger!\"`, depending on which alignment has more total strength. Use an if-else statement for this.\n"
   ]
  },
  {
   "cell_type": "code",
   "execution_count": 13,
   "metadata": {},
   "outputs": [
    {
     "name": "stdout",
     "output_type": "stream",
     "text": [
      "The baddies are stronger!\n"
     ]
    }
   ],
   "source": [
    "# name, alignment, gender, intelligence, power\n",
    "supes = [\n",
    "    ['Aquaman', 'good', 'male', 63, 65],\n",
    "    ['Batman', 'good', 'male', 100, 37],\n",
    "    ['Storm', 'good', 'female', 75, 88],\n",
    "    ['Venom', 'bad', 'male', 50, 79],\n",
    "    ['Poison Ivy', 'bad', 'female', 69, 71],\n",
    "    ['Bane', 'bad', 'male', 88, 51]\n",
    "]\n",
    "\n",
    "# empty list to store power for good and bad superheroes\n",
    "power_good = []\n",
    "power_bad = []\n",
    "\n",
    "# loop over superheroes\n",
    "for supe in supes:\n",
    "    # test if the alignment of the selected super heroe is good\n",
    "    if supe[1] == 'good':\n",
    "        # append power, which is the last value, hence supe[-1], to the power_good list\n",
    "        power_good.append(supe[-1])\n",
    "    # if the alignment is bad\n",
    "    else:\n",
    "        # append power to power_bad\n",
    "        power_bad.append(supe[-1])\n",
    "\n",
    "# calculate total power for good and bad supes\n",
    "power_good_sum = sum(power_good)\n",
    "power_bad_sum = sum(power_bad)\n",
    "\n",
    "if power_good_sum >= power_bad_sum:\n",
    "    print(\"The goodies are stronger!\")\n",
    "else:\n",
    "    print(\"The baddies are stronger!\")\n",
    "\n"
   ]
  },
  {
   "cell_type": "markdown",
   "metadata": {},
   "source": [
    "<br>\n",
    "\n",
    "### Task 6 - Male vs Female Power\n",
    "\n",
    "Now it is your task to calculate the *average* male and female power."
   ]
  },
  {
   "cell_type": "code",
   "execution_count": 20,
   "metadata": {},
   "outputs": [
    {
     "name": "stdout",
     "output_type": "stream",
     "text": [
      "75.25\n",
      "72\n"
     ]
    }
   ],
   "source": [
    "# name, alignment, gender, intelligence, power\n",
    "from statistics import mean\n",
    "\n",
    "\n",
    "supes = [\n",
    "    ['Aquaman', 'good', 'male', 63, 65],\n",
    "    ['Batman', 'good', 'male', 100, 37],\n",
    "    ['Storm', 'good', 'female', 75, 88],\n",
    "    ['Venom', 'bad', 'male', 50, 79],\n",
    "    ['Poison Ivy', 'bad', 'female', 69, 71],\n",
    "    ['Bane', 'bad', 'male', 88, 51]\n",
    "]\n",
    "\n",
    "male_power = []\n",
    "female_power = []\n",
    "\n",
    "# write your for loop here\n",
    "# loop over superheroes\n",
    "for supe in supes:\n",
    "    # test if the alignment of the selected super heroe is good\n",
    "    if supe[2] == 'male':\n",
    "        male_power.append(supe[3])\n",
    "    else:\n",
    "        female_power.append(supe[3])\n",
    "        \n",
    "print(mean(male_power))\n",
    "print(mean(female_power))"
   ]
  },
  {
   "cell_type": "markdown",
   "metadata": {},
   "source": [
    "## Boolean operators"
   ]
  },
  {
   "cell_type": "markdown",
   "metadata": {},
   "source": [
    "We can test whether both or one of two Booleans are True, by using the boolean operators `and` and `or`."
   ]
  },
  {
   "cell_type": "markdown",
   "metadata": {},
   "source": [
    "When combining two Booleans with the `and` operator, a `True` is returned only when both are `True`."
   ]
  },
  {
   "cell_type": "code",
   "execution_count": 1,
   "metadata": {
    "scrolled": true
   },
   "outputs": [
    {
     "name": "stdout",
     "output_type": "stream",
     "text": [
      "True\n"
     ]
    }
   ],
   "source": [
    "print(True and True)"
   ]
  },
  {
   "cell_type": "markdown",
   "metadata": {},
   "source": [
    "Otherwise, a False is returned."
   ]
  },
  {
   "cell_type": "code",
   "execution_count": 28,
   "metadata": {
    "scrolled": true
   },
   "outputs": [
    {
     "name": "stdout",
     "output_type": "stream",
     "text": [
      "False\n"
     ]
    }
   ],
   "source": [
    "print(False and True)"
   ]
  },
  {
   "cell_type": "code",
   "execution_count": 29,
   "metadata": {},
   "outputs": [
    {
     "name": "stdout",
     "output_type": "stream",
     "text": [
      "False\n"
     ]
    }
   ],
   "source": [
    "print(False and False)"
   ]
  },
  {
   "cell_type": "markdown",
   "metadata": {},
   "source": [
    "Predict the output of the next three code cells, before running them."
   ]
  },
  {
   "cell_type": "code",
   "execution_count": 30,
   "metadata": {},
   "outputs": [],
   "source": [
    "print(True or True)"
   ]
  },
  {
   "cell_type": "code",
   "execution_count": 31,
   "metadata": {},
   "outputs": [],
   "source": [
    "print(True or False)"
   ]
  },
  {
   "cell_type": "code",
   "execution_count": 32,
   "metadata": {},
   "outputs": [],
   "source": [
    "print(False or False)"
   ]
  },
  {
   "cell_type": "markdown",
   "metadata": {},
   "source": [
    "Let us look at some examples using conditional expressions.\n",
    "\n",
    "This expression returns `True`, since both `x > 1` and `x < 10` evaluate to `True`."
   ]
  },
  {
   "cell_type": "code",
   "execution_count": 78,
   "metadata": {},
   "outputs": [
    {
     "name": "stdout",
     "output_type": "stream",
     "text": [
      "True\n"
     ]
    }
   ],
   "source": [
    "x = 5\n",
    "print(x > 1 and x < 10)"
   ]
  },
  {
   "cell_type": "markdown",
   "metadata": {},
   "source": [
    "What will this expression return?"
   ]
  },
  {
   "cell_type": "code",
   "execution_count": 65,
   "metadata": {},
   "outputs": [],
   "source": [
    "print(x > 1 or x > 10)"
   ]
  },
  {
   "cell_type": "markdown",
   "metadata": {},
   "source": [
    "<br>\n",
    "\n",
    "### Task 6 - Finding x\n",
    "\n",
    "Enter the value for x so that all three print statements return `True`."
   ]
  },
  {
   "cell_type": "code",
   "execution_count": 22,
   "metadata": {},
   "outputs": [
    {
     "name": "stdout",
     "output_type": "stream",
     "text": [
      "True\n",
      "True\n",
      "True\n"
     ]
    }
   ],
   "source": [
    "x = 3\n",
    "print(x > 1 and x < 10)\n",
    "print(x in [1, 2, 3] or x in [9, 10])\n",
    "print(x != 2 and x != 9)"
   ]
  },
  {
   "cell_type": "markdown",
   "metadata": {},
   "source": [
    "<br>\n",
    "\n",
    "### Task 7 - High power superheroes\n",
    "\n",
    "Apply what you have learned about for loops, if-else statements and boolean operators to create a subset of the supes list with only the male superheroes with a power value of higher than 50."
   ]
  },
  {
   "cell_type": "code",
   "execution_count": 25,
   "metadata": {},
   "outputs": [
    {
     "data": {
      "text/plain": [
       "['Aquaman', 'Batman', 'Bane']"
      ]
     },
     "execution_count": 25,
     "metadata": {},
     "output_type": "execute_result"
    }
   ],
   "source": [
    "# name, alignment, gender, intelligence, power\n",
    "\n",
    "supes = [['Aquaman', 'good', 'male', 63, 65],\n",
    "         ['Batman', 'good', 'male', 100, 37],\n",
    "         ['Storm', 'good', 'female', 75, 88],\n",
    "         ['Venom', 'bad', 'male', 50, 79],\n",
    "         ['Poison Ivy', 'bad', 'female', 69, 71],\n",
    "         ['Bane', 'bad', 'male', 88, 51]]\n",
    "\n",
    "\n",
    "male_high_power = []\n",
    "for supe in supes:\n",
    "    if supe[2]==\"male\" and int(supe[3]) >50:\n",
    "        male_high_power.append(supe[0])\n",
    "male_high_power\n",
    "\n"
   ]
  },
  {
   "cell_type": "markdown",
   "metadata": {},
   "source": [
    "<div class=\"alert alert-block alert-info\" style=\"background-color:#ECECEB; width:90%; color:#3F3F3F; padding:50px; -webkit-border-radius:5px\">\n",
    "\n",
    "\n",
    "### Final task: Please give us your feedback!\n",
    "\n",
    "Upon completing the survey, **you will receive the link to the solution file**, to check how your code compares to the sample solution.\n",
    "\n",
    "In order to adapt our training to your needs and provide the most valuable learning experience for you, we depend on your feedack.\n",
    "\n",
    "We would be grateful if you could take **1 min** before the end of the workshop to get your feedback! \n",
    "\n",
    "<a href=\"https://lse.eu.qualtrics.com/jfe/form/SV_2beTiFd70AlRe5M?coursename=Python Fundamentals 8: Conditionals &topic=Python&link=https://lsecloud-my.sharepoint.com/:u:/g/personal/m_wiemers_lse_ac_uk/ERrc5OdLTjBOson7SnqDDb0BuUV6TWhQgcQzIfJhkSw0RA?e=vsh8sR&prog=DS&version=23-24\"><b>Click here to open the survey</b></a>"
   ]
  },
  {
   "cell_type": "markdown",
   "metadata": {},
   "source": [
    "<br>\n",
    "\n",
    "### Bonus task: Finding x with a script\n",
    "\n",
    "Write a script to find x with a for loop."
   ]
  },
  {
   "cell_type": "code",
   "execution_count": 27,
   "metadata": {},
   "outputs": [
    {
     "name": "stdout",
     "output_type": "stream",
     "text": [
      "3\n"
     ]
    }
   ],
   "source": [
    "for x in range(10):\n",
    "    if (x > 1 and x < 10) and (x in [1, 2, 3] or x in [9, 10]) and (x != 2 and x != 9):\n",
    "        print (x)"
   ]
  }
 ],
 "metadata": {
  "kernelspec": {
   "display_name": "Python 3 (ipykernel)",
   "language": "python",
   "name": "python3"
  },
  "language_info": {
   "codemirror_mode": {
    "name": "ipython",
    "version": 3
   },
   "file_extension": ".py",
   "mimetype": "text/x-python",
   "name": "python",
   "nbconvert_exporter": "python",
   "pygments_lexer": "ipython3",
   "version": "3.11.4"
  },
  "vscode": {
   "interpreter": {
    "hash": "6bfbe47bd08290686626768386311ceb83f3a0dbecee84d146c554190cea57e3"
   }
  }
 },
 "nbformat": 4,
 "nbformat_minor": 2
}
